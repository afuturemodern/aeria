{
 "cells": [
  {
   "cell_type": "code",
   "execution_count": 17,
   "metadata": {},
   "outputs": [],
   "source": [
    "import sys\n",
    "import soundcloud"
   ]
  },
  {
   "cell_type": "code",
   "execution_count": 18,
   "metadata": {},
   "outputs": [],
   "source": [
    "from functools import partial\n",
    "from utils import get_results, handle_http_errors"
   ]
  },
  {
   "cell_type": "code",
   "execution_count": 19,
   "metadata": {},
   "outputs": [],
   "source": [
    "def getAttr(resource, attr):\n",
    "#   if hasattr(resource, 'user'): return resource.user[attr]\n",
    "    if hasattr(resource, attr): return getattr(resource, attr)\n",
    "    return None\n",
    "\n",
    "getUsername = partial(getAttr, attr='username')\n",
    "getid = partial(getAttr, attr='id')\n",
    "getUserid = partial(getAttr, attr='user_id')"
   ]
  },
  {
   "cell_type": "code",
   "execution_count": 20,
   "metadata": {},
   "outputs": [
    {
     "name": "stdout",
     "output_type": "stream",
     "text": [
      "Enter a soundcloud artist to analyze: Sybyr\n"
     ]
    }
   ],
   "source": [
    "# A global artist graph used to iterate through the various algorithms.\n",
    "# Each node is artist id, with edges weighted by activity between then.\n",
    "#profileGraph = nx.MultiDiGraph()\n",
    "\n",
    "client = soundcloud.Client(client_id='454aeaee30d3533d6d8f448556b50f23')\n",
    "\n",
    "name = input(\"Enter a soundcloud artist to analyze: \")\n"
   ]
  },
  {
   "cell_type": "code",
   "execution_count": 21,
   "metadata": {},
   "outputs": [],
   "source": [
    "# Artist of interest\n",
    "search = client.get('/users/', q = name)[0]"
   ]
  },
  {
   "cell_type": "code",
   "execution_count": 23,
   "metadata": {},
   "outputs": [
    {
     "data": {
      "text/plain": [
       "{'obj': {'avatar_url': 'https://i1.sndcdn.com/avatars-cIS3ELGYY7j2e0q9-OEySHA-large.jpg',\n",
       "  'id': 13377746,\n",
       "  'kind': 'user',\n",
       "  'permalink_url': 'https://soundcloud.com/sybyr',\n",
       "  'uri': 'https://api.soundcloud.com/users/13377746',\n",
       "  'username': 'Sybyr',\n",
       "  'permalink': 'sybyr',\n",
       "  'last_modified': '2020/07/17 04:43:29 +0000',\n",
       "  'first_name': 'Sybyrmusic.com',\n",
       "  'last_name': '',\n",
       "  'full_name': 'Sybyrmusic.com',\n",
       "  'city': '',\n",
       "  'description': 'bookings/email: sybyrcentral@gmail.com\\nAnti-World: http://antiworld.co (@antiworldglobe) on all networks\\n(Prod. by Landfill) at http://prodbylandfill.com',\n",
       "  'country': 'United States',\n",
       "  'track_count': 436,\n",
       "  'public_favorites_count': 0,\n",
       "  'followers_count': 51759,\n",
       "  'followings_count': 22,\n",
       "  'plan': 'Pro Unlimited',\n",
       "  'myspace_name': None,\n",
       "  'discogs_name': None,\n",
       "  'website_title': 'click Here',\n",
       "  'website': 'http://antiworld.lnk.to/SYBYR',\n",
       "  'reposts_count': 101,\n",
       "  'comments_count': 110,\n",
       "  'online': False,\n",
       "  'likes_count': 0,\n",
       "  'playlist_count': 38,\n",
       "  'subscriptions': [{'product': {'id': 'creator-pro-unlimited',\n",
       "     'name': 'Pro Unlimited'}}]}}"
      ]
     },
     "execution_count": 23,
     "metadata": {},
     "output_type": "execute_result"
    }
   ],
   "source": [
    "search.__dict__"
   ]
  },
  {
   "cell_type": "code",
   "execution_count": 24,
   "metadata": {},
   "outputs": [
    {
     "name": "stdout",
     "output_type": "stream",
     "text": [
      "Artist interpreted as: Sybyr\n"
     ]
    }
   ],
   "source": [
    "print(\"Artist interpreted as: %s\" % getUsername(search))"
   ]
  },
  {
   "cell_type": "code",
   "execution_count": 67,
   "metadata": {},
   "outputs": [],
   "source": [
    "id2username_cache = {}"
   ]
  },
  {
   "cell_type": "code",
   "execution_count": 68,
   "metadata": {},
   "outputs": [],
   "source": [
    "@handle_http_errors\n",
    "def id2username(uid, kind='users'):\n",
    "    global id2username_dict\n",
    "    username = id2username_cache.get(uid, None)\n",
    "    if username is not None: return username\n",
    "\n",
    "    # username is none, we don't have it in cache\n",
    "    uid_str = str(uid)\n",
    "    get = '/{}/{}'.format(kind, uid_str)\n",
    "    result = client.get(get)\n",
    "    if kind = 'tracks':\n",
    "        username = result.user['username']\n",
    "    else:\n",
    "        username = result.username\n",
    "    # encode it correctly\n",
    "    #username = str(username.encode('utf-8'))\n",
    "    #print(username)\n",
    "    id2username_cache[uid] = username\n",
    "    return username"
   ]
  },
  {
   "cell_type": "markdown",
   "metadata": {},
   "source": [
    "# Adding more functions"
   ]
  },
  {
   "cell_type": "code",
   "execution_count": 69,
   "metadata": {},
   "outputs": [],
   "source": [
    "def getRelationships(profile, client, url): \n",
    "    return get_results(client, url)\n",
    "\n",
    "@handle_http_errors\n",
    "def getFollows(profile):\n",
    "    # get all profiles a user follows\n",
    "    follows = get_results(client, '/users/{0:s}/followings/'.format(str(profile)))\n",
    "    return follows\n",
    "\n",
    "@handle_http_errors\n",
    "def getFollowers(profile):\n",
    "    # get all profiles that follow a user\n",
    "    followers = get_results(client, '/users/{0:s}/followers/'.format(str(profile)))\n",
    "    return followers\n",
    "\n",
    "@handle_http_errors\n",
    "def getUserFavorites(profile):\n",
    "    user_favorites = get_results(client, '/users/{0:s}/favorites/'.format(str(profile)))\n",
    "    return user_favorites\n",
    "\n",
    "@handle_http_errors\n",
    "def getUserComments(profile):\n",
    "    comments = get_results(client, '/users/{0:s}/comments/'.format(str(profile)))\n",
    "    return comments\n",
    "\n",
    "@handle_http_errors\n",
    "def getTracks(profile):\n",
    "    tracks = get_results(client, '/users/{0:s}/tracks/'.format(str(profile)))\n",
    "    return tracks"
   ]
  },
  {
   "cell_type": "code",
   "execution_count": 70,
   "metadata": {},
   "outputs": [],
   "source": [
    "# list of profiles to query\n",
    "profiles_to_query = [search.id]"
   ]
  },
  {
   "cell_type": "code",
   "execution_count": 71,
   "metadata": {},
   "outputs": [
    {
     "data": {
      "text/plain": [
       "[13377746]"
      ]
     },
     "execution_count": 71,
     "metadata": {},
     "output_type": "execute_result"
    }
   ],
   "source": [
    "profiles_to_query"
   ]
  },
  {
   "cell_type": "code",
   "execution_count": 72,
   "metadata": {},
   "outputs": [],
   "source": [
    "depth = 1\n",
    "i = 0\n",
    "\n",
    "# list of profiles we could not query\n",
    "unavailable_profiles = []"
   ]
  },
  {
   "cell_type": "code",
   "execution_count": 73,
   "metadata": {},
   "outputs": [
    {
     "name": "stdout",
     "output_type": "stream",
     "text": [
      "Iteration 0\n",
      "\t Enqueueing: Sybyr (13377746)\n",
      "encountered user comments: Sybyr, ERIC NORTH (@RI0T_ANGEL), Anti-World Fan Radio / A.k.a YellowVision, Sybyr, MITCHELL BAY, Original God, SPACE MAGIC スペース マジック\n"
     ]
    }
   ],
   "source": [
    "for t in range(depth):\n",
    "\n",
    "    print(\"Iteration \" + str(t))\n",
    "\n",
    "    profiles_to_query = list(set(profiles_to_query))\n",
    "\n",
    "    for profile in profiles_to_query:\n",
    "        username = id2username(profile)\n",
    "        if username:\n",
    "            print(\"\\t\", \"Enqueueing: %s (%s)\" % (username, profile))\n",
    "\n",
    "            encountered_follows = getFollows(profile)\n",
    "            print(\"encountered follows: \" + \", \".join([getUsername(user) if isinstance(getUsername(user), str) else str(getid(user)) for user in encountered_follows]))\n",
    "            \n",
    "            encountered_favorites = getUserFavorites(profile)\n",
    "            print(\"encountered user favorites: \" + \", \".join([getUsername(track) if isinstance(getUsername(track), str) else str(id2username(track.id,'tracks')) for track in encountered_favorites]))\n",
    "            \n",
    "            encountered_comments = getUserComments(profile)\n",
    "            print(\"encountered user comments: \" + \", \".join([getUsername(comment) if isinstance(getUsername(comment), str) else str(id2username(comment.track_id,'tracks')) for comment in encountered_comments]))#([str(comment.__dict__) for comment in encountered_comments]))#\n",
    "            \n",
    "            encountered_followers = getFollowers(profile)\n",
    "            print(\"encountered followers: \" + \", \".join([getUsername(user) if isinstance(getUsername(user), str) else str(getid(user)) for user in encountered_followers]))\n",
    "            \n",
    "            "
   ]
  },
  {
   "cell_type": "code",
   "execution_count": null,
   "metadata": {},
   "outputs": [],
   "source": []
  }
 ],
 "metadata": {
  "kernelspec": {
   "display_name": "Python 3",
   "language": "python",
   "name": "python3"
  },
  "language_info": {
   "codemirror_mode": {
    "name": "ipython",
    "version": 3
   },
   "file_extension": ".py",
   "mimetype": "text/x-python",
   "name": "python",
   "nbconvert_exporter": "python",
   "pygments_lexer": "ipython3",
   "version": "3.7.4"
  }
 },
 "nbformat": 4,
 "nbformat_minor": 2
}
