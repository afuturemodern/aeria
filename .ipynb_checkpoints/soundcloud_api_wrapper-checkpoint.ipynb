{
 "cells": [
  {
   "cell_type": "code",
   "execution_count": 1,
   "metadata": {},
   "outputs": [],
   "source": [
    "import sys\n",
    "import soundcloud"
   ]
  },
  {
   "cell_type": "code",
   "execution_count": 2,
   "metadata": {},
   "outputs": [],
   "source": [
    "from functools import partial\n",
    "from utils import get_results, handle_http_errors"
   ]
  },
  {
   "cell_type": "code",
   "execution_count": 3,
   "metadata": {},
   "outputs": [],
   "source": [
    "def getAttr(resource, attr):\n",
    "    if hasattr(resource, attr): return getattr(resource, attr)\n",
    "    return None\n",
    "\n",
    "getUsername = partial(getAttr, attr='username')\n",
    "getid = partial(getAttr, attr='id')\n",
    "getUserid = partial(getAttr, attr='user_id')"
   ]
  },
  {
   "cell_type": "code",
   "execution_count": 4,
   "metadata": {},
   "outputs": [
    {
     "name": "stdout",
     "output_type": "stream",
     "text": [
      "Enter a soundcloud artist to analyze: Sybyr\n"
     ]
    }
   ],
   "source": [
    "# A global artist graph used to iterate through the various algorithms.\n",
    "# Each node is artist id, with edges weighted by activity between then.\n",
    "\n",
    "client = soundcloud.Client(client_id='454aeaee30d3533d6d8f448556b50f23')\n",
    "name = input(\"Enter a soundcloud artist to analyze: \")"
   ]
  },
  {
   "cell_type": "code",
   "execution_count": 5,
   "metadata": {},
   "outputs": [],
   "source": [
    "# Artist of interest\n",
    "\n",
    "search = client.get('/users/', q = name)[0]"
   ]
  },
  {
   "cell_type": "code",
   "execution_count": 6,
   "metadata": {},
   "outputs": [
    {
     "data": {
      "text/plain": [
       "{'obj': {'avatar_url': 'https://i1.sndcdn.com/avatars-cIS3ELGYY7j2e0q9-OEySHA-large.jpg',\n",
       "  'id': 13377746,\n",
       "  'kind': 'user',\n",
       "  'permalink_url': 'https://soundcloud.com/sybyr',\n",
       "  'uri': 'https://api.soundcloud.com/users/13377746',\n",
       "  'username': 'Sybyr',\n",
       "  'permalink': 'sybyr',\n",
       "  'last_modified': '2020/07/23 00:33:51 +0000',\n",
       "  'first_name': 'Sybyrmusic.com',\n",
       "  'last_name': '',\n",
       "  'full_name': 'Sybyrmusic.com',\n",
       "  'city': '',\n",
       "  'description': 'bookings/email: sybyrcentral@gmail.com\\nAnti-World: http://antiworld.co (@antiworldglobe) on all networks\\n(Prod. by Landfill) at http://prodbylandfill.com',\n",
       "  'country': 'United States',\n",
       "  'track_count': 436,\n",
       "  'public_favorites_count': 0,\n",
       "  'followers_count': 51877,\n",
       "  'followings_count': 22,\n",
       "  'plan': 'Pro Unlimited',\n",
       "  'myspace_name': None,\n",
       "  'discogs_name': None,\n",
       "  'website_title': 'click Here',\n",
       "  'website': 'http://antiworld.lnk.to/SYBYR',\n",
       "  'reposts_count': 102,\n",
       "  'comments_count': 110,\n",
       "  'online': False,\n",
       "  'likes_count': 0,\n",
       "  'playlist_count': 38,\n",
       "  'subscriptions': [{'product': {'id': 'creator-pro-unlimited',\n",
       "     'name': 'Pro Unlimited'}}]}}"
      ]
     },
     "execution_count": 6,
     "metadata": {},
     "output_type": "execute_result"
    }
   ],
   "source": [
    "search.__dict__"
   ]
  },
  {
   "cell_type": "code",
   "execution_count": 7,
   "metadata": {},
   "outputs": [
    {
     "name": "stdout",
     "output_type": "stream",
     "text": [
      "Artist interpreted as: Sybyr\n"
     ]
    }
   ],
   "source": [
    "print(\"Artist interpreted as: %s\" % getUsername(search))"
   ]
  },
  {
   "cell_type": "code",
   "execution_count": 8,
   "metadata": {},
   "outputs": [],
   "source": [
    "id2username_cache = {}"
   ]
  },
  {
   "cell_type": "markdown",
   "metadata": {},
   "source": [
    "# Creating Decorator: handle_http_errors"
   ]
  },
  {
   "cell_type": "code",
   "execution_count": 9,
   "metadata": {},
   "outputs": [],
   "source": [
    "@handle_http_errors\n",
    "def id2username(uid, kind='users'):\n",
    "    global id2username_dict\n",
    "    username = id2username_cache.get(uid, None)\n",
    "    if username is not None: \n",
    "        return username\n",
    "    # username is none, we don't have it in cache\n",
    "    \n",
    "    uid_str = str(uid)\n",
    "    get = '/{}/{}'.format(kind, uid_str)\n",
    "    result = client.get(get)\n",
    "    \n",
    "    if kind in ['tracks','comments']:\n",
    "        username = result.user['username']\n",
    "    else:\n",
    "        username = result.username\n",
    "    # encode it correctly\n",
    "    # username = str(username.encode('utf-8'))\n",
    "    # print(username)\n",
    "    id2username_cache[uid] = username\n",
    "    \n",
    "    return username"
   ]
  },
  {
   "cell_type": "markdown",
   "metadata": {},
   "source": [
    "# 1. Recoding Basic Functions"
   ]
  },
  {
   "cell_type": "code",
   "execution_count": 10,
   "metadata": {},
   "outputs": [],
   "source": [
    "def getRelationships(profile, client, url): \n",
    "    return get_results(client, url)\n",
    "\n",
    "@handle_http_errors\n",
    "def getFollows(profile):\n",
    "    # get all profiles a user follows\n",
    "    follows = get_results(client, '/users/{0:s}/followings/'.format(str(profile)))\n",
    "    return follows\n",
    "\n",
    "@handle_http_errors\n",
    "def getFollowers(profile):\n",
    "    # get all profiles that follow a user\n",
    "    followers = get_results(client, '/users/{0:s}/followers/'.format(str(profile)))\n",
    "    return followers\n",
    "\n",
    "@handle_http_errors\n",
    "def getUserFavorites(profile):\n",
    "    user_favorites = get_results(client, '/users/{0:s}/favorites/'.format(str(profile)))\n",
    "    return user_favorites\n",
    "\n",
    "@handle_http_errors\n",
    "def getUserComments(profile):\n",
    "    comments = get_results(client, '/users/{0:s}/comments/'.format(str(profile)))\n",
    "    return comments\n",
    "\n",
    "@handle_http_errors\n",
    "def getTracks(profile):\n",
    "    tracks = get_results(client, '/users/{0:s}/tracks/'.format(str(profile)))\n",
    "    return tracks\n",
    "\n",
    "@handle_http_errors\n",
    "def getTrackComments(track):\n",
    "    track_comments = get_results(client, '/tracks/{0:s}/comments/'.format(str(track)))\n",
    "    return track_comments\n",
    "\n",
    "@handle_http_errors\n",
    "def getTrackFavoriters(track):\n",
    "    track_favoriters = get_results(client, '/tracks/{0:s}/favoriters/'.format(str(track)))\n",
    "    return track_favoriters"
   ]
  },
  {
   "cell_type": "markdown",
   "metadata": {},
   "source": [
    "# 1b. Testing Recoded Functions"
   ]
  },
  {
   "cell_type": "code",
   "execution_count": 11,
   "metadata": {},
   "outputs": [
    {
     "data": {
      "text/plain": [
       "[13377746]"
      ]
     },
     "execution_count": 11,
     "metadata": {},
     "output_type": "execute_result"
    }
   ],
   "source": [
    "# list of profiles to query\n",
    "profiles_to_query = [search.id]\n",
    "profiles_to_query"
   ]
  },
  {
   "cell_type": "code",
   "execution_count": 12,
   "metadata": {},
   "outputs": [],
   "source": [
    "depth = 1\n",
    "i = 0\n",
    "\n",
    "# list of profiles we could not query\n",
    "unavailable_profiles = []"
   ]
  },
  {
   "cell_type": "markdown",
   "metadata": {},
   "source": [
    "Only uncomment the code in the loop if you are willing to wait a while to run the cell below:"
   ]
  },
  {
   "cell_type": "code",
   "execution_count": 13,
   "metadata": {
    "scrolled": true
   },
   "outputs": [
    {
     "name": "stdout",
     "output_type": "stream",
     "text": [
      "Iteration 0\n",
      "\t Enqueueing: Sybyr (13377746)\n",
      "encountered follows: @DevinWillDo, OWINILLSIN {Anti_World}, ERIC NORTH (@RI0T_ANGEL), ANTI-WORLD, MONĀE, neighborhood arion, prod. BABE, JULIEN ANDREAS, Raz Nein, lil xelly (@lilxelly), Landfill, Shark, RIOT_ANGEL, LIL MAI 2020, win32, Ghostie, PE$O EVANS, WIFIGAWD AKA UPT SOULJAH, DariBroko, Leon'sWOLF, CHACHI\n",
      "\n",
      "\n",
      "encountered user favorites: LIL MAI 2020, TERR9R, ERIC NORTH (@RI0T_ANGEL), Ghostie, lil xelly (@lilxelly), lil xelly (@lilxelly), lil xelly (@lilxelly), Future, BREEZY SUPREME, Carl Wheezer, Leon'sWOLF, ERIC NORTH (@RI0T_ANGEL), AMIR ZERA, Leon'sWOLF, Shark, CHACHI, Leon'sWOLF, BeatPlugg, ERIC NORTH (@RI0T_ANGEL), HStreetRaps, Lildudeluciano, Shark, ANTI-WORLD, Detaro HeiH, LIL MAI 2020, ERIC NORTH (@RI0T_ANGEL), ERIC NORTH (@RI0T_ANGEL), RIOT_ANGEL, YNW BSlime, CXRPSE, CXRPSE, CXRPSE, Helly Is Hansyn, Helly Is Hansyn, NLE Choppa, CXRPSE, DariBroko, Leon'sWOLF, CXRPSE, LIL MAI 2020, ERIC NORTH (@RI0T_ANGEL), Shark, ERIC NORTH (@RI0T_ANGEL), TeuFFind, @DevinWillDo, Shark, THOUXANBANFAUNI, Ghostie, Leon'sWOLF, josh maison, Leon'sWOLF, [prod. by kiddbeatz], ERIC NORTH (@RI0T_ANGEL), WIFIGAWD AKA UPT SOULJAH, LIL MAI 2020, Ghostie, Shark, ERIC NORTH (@RI0T_ANGEL), Sybyr, Jimmy V, Jimmy V, win32, tone™️, Cavalier, win32, Klimeks, KROSEII ®, win32, Jules Henley, DEFFIE, win32\n",
      "\n",
      "\n",
      "encountered user comments: Sybyr, ERIC NORTH (@RI0T_ANGEL), Anti-World Fan Radio / A.k.a YellowVision, Sybyr, MITCHELL BAY, Original God, SPACE MAGIC スペース マジック\n",
      "\n",
      "\n"
     ]
    }
   ],
   "source": [
    "for t in range(depth):\n",
    "    print(\"Iteration \" + str(t))\n",
    "    profiles_to_query = list(set(profiles_to_query))\n",
    "    \n",
    "    for profile in profiles_to_query:\n",
    "        username = id2username(profile)\n",
    "        if username:\n",
    "            print(\"\\t\", \"Enqueueing: %s (%s)\" % (username, profile))\n",
    "\n",
    "            encountered_follows = getFollows(profile)\n",
    "            print(\"encountered follows: \" + \", \".join([getUsername(user) if isinstance(getUsername(user), str) else str(getid(user)) for user in encountered_follows]))\n",
    "            print('\\n')\n",
    "\n",
    "            encountered_user_favorites = getUserFavorites(profile)\n",
    "            print(\"encountered user favorites: \" + \", \".join([getUsername(track) if isinstance(getUsername(track), str) else str(id2username(track.id,'tracks')) for track in encountered_user_favorites]))\n",
    "            print('\\n')\n",
    "\n",
    "            encountered_user_comments = getUserComments(profile)\n",
    "            print(\"encountered user comments: \" + \", \".join([getUsername(comment) if isinstance(getUsername(comment), str) else str(id2username(comment.track_id,'tracks')) for comment in encountered_user_comments]))#([str(comment.__dict__) for comment in encountered_comments]))#\n",
    "            print('\\n')\n",
    "\n",
    "#             encountered_followers = getFollowers(profile)\n",
    "#             print(\"encountered followers: \" + \", \".join([getUsername(user) if isinstance(getUsername(user), str) else str(getid(user)) for user in encountered_followers]))\n",
    "#             print('\\n')\n",
    "\n",
    "#             encountered_tracks = getTracks(profile)\n",
    "\n",
    "#             encountered_track_comments = []\n",
    "#             encountered_track_favoriters = []\n",
    "\n",
    "#             for track in encountered_tracks:\n",
    "#                 print(\"getting comments / favoriters from user track, {}\".format(track.title))\n",
    "#                 encountered_track_comments += getTrackComments(track.id)\n",
    "#                 encountered_track_favoriters += getTrackFavoriters(track.id)\n",
    "\n",
    "#             print(encountered_track_comments[0].__dict__)\n",
    "#             print(encountered_track_favoriters[0].__dict__)\n",
    "\n",
    "#             print(\"encountered track comments: \" + \", \".join([getUsername(comment) if isinstance(getUsername(comment), str) else comment.user['username'] for comment in encountered_track_comments]))#([str(comment.__dict__) for comment in encountered_track_comments]))#\n",
    "#             print(\"encountered track favoriters: \" + \", \".join([getUsername(favoriter) if isinstance(getUsername(favoriter), str) else favoriter.user['username'] for favoriter in encountered_track_favoriters]))\n",
    "        else:\n",
    "            print(\"\\t\", \"Artist ID %s is not query-able\" % profile)\n",
    "            unavailable_profiles.append(profile)            "
   ]
  },
  {
   "cell_type": "markdown",
   "metadata": {},
   "source": [
    "# 2. Adding even more functions"
   ]
  },
  {
   "cell_type": "code",
   "execution_count": 14,
   "metadata": {},
   "outputs": [],
   "source": [
    "def getUserInfo(profile):\n",
    "    info = ['id','permalink', 'username', 'avatar_url', 'country', 'city', \n",
    "            'website', 'track_count', 'followers_count', 'followings_count']\n",
    "    return {i: getAttr(profile, i) for i in info}\n",
    "\n",
    "def getTrackInfo(track):\n",
    "    info = ['id', 'user_id', 'created_at', 'streamabale', 'downloadable',\n",
    "            'playback_count', 'download_count', 'favoritings_count','comment_count']\n",
    "    return {i: getAttr(track, i) for i in info}\n",
    "\n",
    "def getUserFavInfo(fav):\n",
    "    info = ['id', 'user_id','last_modified']\n",
    "    return {i: getAttr(fav, i) for i in info}\n",
    "\n",
    "def getTrackFavInfo(fav):\n",
    "    info = ['id', 'username', 'last_modified']\n",
    "    return {i: getAttr(fav, i) for i in info}\n",
    "\n",
    "def getUserCommInfo(comm):\n",
    "    info = ['id', 'user_id', 'track_id', 'timestamp']\n",
    "    return {i: getAttr(comm, i) for i in info}\n",
    "\n",
    "def getTrackCommInfo(comm):\n",
    "    info = ['id', 'user_id', 'track_id','timestamp']\n",
    "    return {i: getAttr(comm, i) for i in info}"
   ]
  },
  {
   "cell_type": "markdown",
   "metadata": {},
   "source": [
    "# Graph Code (In Progress)\n",
    "\n",
    "Brought over code from print_graph.py for print_graph function. Still need to correctly instantiate nx.MultiDiGraph object with actual data."
   ]
  },
  {
   "cell_type": "code",
   "execution_count": 15,
   "metadata": {},
   "outputs": [],
   "source": [
    "# import networkx as nx\n",
    "\n",
    "# profileGraph = nx.MultiDiGraph()"
   ]
  },
  {
   "cell_type": "code",
   "execution_count": 16,
   "metadata": {},
   "outputs": [],
   "source": [
    "# def print_graph(G):\n",
    "#     for artist in G.nodes():\n",
    "#         if artist:\n",
    "#             try:\n",
    "#                 username = id2username(artist)\n",
    "#                 followings = G.successors(artist)\n",
    "#                 followers = G.predecessors(artist)\n",
    "#                 try:    \n",
    "#                     print(\"\\t\", username + \" has \" + str(len(followings)) + \" followings\")\n",
    "#                     print(\"\\t\", username + \" follows \" + \", \".join(map(lambda x: id2username(x), followings)))\n",
    "#                 except TypeError: \n",
    "#                     print(\"No followings home!\")\n",
    "#                 try:    \n",
    "#                     print(\"\\t\", username + \" has \" + str(len(followers)) + \" followers\")\n",
    "#                     print(\"\\t\", username + \" is followed by \" + \", \".join(map(lambda x: id2username(x), followers)))\n",
    "#                 except TypeError:\n",
    "#                     print(\"No followers home!\")\n",
    "#                     print(\"-\"*40)\n",
    "#             except UnicodeError:\n",
    "#                 print(\"Artist's username not found\")\n",
    "\n",
    "# print(\"The profile graph currently contains \" + str(len(profileGraph.nodes())) + \" profiles.\")\n",
    "# print(\"Here are their connections.\")\n",
    "# print(print_graph(profileGraph))\n",
    "# print(\"The profile graph currently contains \" + str(nx.number_strongly_connected_components(profileGraph)) + \" strongly connected components.\")"
   ]
  }
 ],
 "metadata": {
  "kernelspec": {
   "display_name": "Python 3",
   "language": "python",
   "name": "python3"
  },
  "language_info": {
   "codemirror_mode": {
    "name": "ipython",
    "version": 3
   },
   "file_extension": ".py",
   "mimetype": "text/x-python",
   "name": "python",
   "nbconvert_exporter": "python",
   "pygments_lexer": "ipython3",
   "version": "3.7.6"
  }
 },
 "nbformat": 4,
 "nbformat_minor": 2
}
