{
 "cells": [
  {
   "cell_type": "code",
   "execution_count": 9,
   "metadata": {},
   "outputs": [],
   "source": [
    "import sys\n",
    "import soundcloud"
   ]
  },
  {
   "cell_type": "code",
   "execution_count": 5,
   "metadata": {},
   "outputs": [],
   "source": [
    "from functools import partial\n",
    "from utils import get_results, handle_http_errors"
   ]
  },
  {
   "cell_type": "code",
   "execution_count": 15,
   "metadata": {},
   "outputs": [],
   "source": [
    "def getUserAttr(resource, attr):\n",
    "#   if hasattr(resource, 'user'): return resource.user[attr]\n",
    "    if hasattr(resource, attr): return getattr(resource, attr)\n",
    "    return None\n",
    "\n",
    "getUsername = partial(getUserAttr, attr='username')\n",
    "getUserid = partial(getUserAttr, attr='id')"
   ]
  },
  {
   "cell_type": "code",
   "execution_count": 10,
   "metadata": {},
   "outputs": [
    {
     "name": "stdout",
     "output_type": "stream",
     "text": [
      "Enter a soundcloud artist to analyze: sybyr\n"
     ]
    }
   ],
   "source": [
    "# A global artist graph used to iterate through the various algorithms.\n",
    "# Each node is artist id, with edges weighted by activity between then.\n",
    "#profileGraph = nx.MultiDiGraph()\n",
    "\n",
    "client = soundcloud.Client(client_id='454aeaee30d3533d6d8f448556b50f23')\n",
    "\n",
    "name = input(\"Enter a soundcloud artist to analyze: \")\n"
   ]
  },
  {
   "cell_type": "code",
   "execution_count": 11,
   "metadata": {},
   "outputs": [],
   "source": [
    "# Artist of interest\n",
    "search = client.get('/users/', q = name)[0]"
   ]
  },
  {
   "cell_type": "code",
   "execution_count": 12,
   "metadata": {},
   "outputs": [
    {
     "data": {
      "text/plain": [
       "<soundcloud.resource.Resource at 0x7fe96f99e4d0>"
      ]
     },
     "execution_count": 12,
     "metadata": {},
     "output_type": "execute_result"
    }
   ],
   "source": [
    "search"
   ]
  },
  {
   "cell_type": "code",
   "execution_count": 13,
   "metadata": {},
   "outputs": [
    {
     "data": {
      "text/plain": [
       "{'obj': {'avatar_url': 'https://i1.sndcdn.com/avatars-cIS3ELGYY7j2e0q9-OEySHA-large.jpg',\n",
       "  'id': 13377746,\n",
       "  'kind': 'user',\n",
       "  'permalink_url': 'http://soundcloud.com/sybyr',\n",
       "  'uri': 'https://api.soundcloud.com/users/13377746',\n",
       "  'username': 'Sybyr',\n",
       "  'permalink': 'sybyr',\n",
       "  'last_modified': '2020/07/17 04:43:29 +0000',\n",
       "  'first_name': 'Sybyrmusic.com',\n",
       "  'last_name': '',\n",
       "  'full_name': 'Sybyrmusic.com',\n",
       "  'city': '',\n",
       "  'description': 'bookings/email: sybyrcentral@gmail.com\\nAnti-World: http://antiworld.co (@antiworldglobe) on all networks\\n(Prod. by Landfill) at http://prodbylandfill.com',\n",
       "  'country': 'United States',\n",
       "  'track_count': 436,\n",
       "  'public_favorites_count': 0,\n",
       "  'followers_count': 51690,\n",
       "  'followings_count': 22,\n",
       "  'plan': 'Pro Unlimited',\n",
       "  'myspace_name': None,\n",
       "  'discogs_name': None,\n",
       "  'website_title': 'click Here',\n",
       "  'website': 'http://antiworld.lnk.to/SYBYR',\n",
       "  'reposts_count': 99,\n",
       "  'comments_count': 110,\n",
       "  'online': False,\n",
       "  'likes_count': 0,\n",
       "  'playlist_count': 38,\n",
       "  'subscriptions': [{'product': {'id': 'creator-pro-unlimited',\n",
       "     'name': 'Pro Unlimited'}}]}}"
      ]
     },
     "execution_count": 13,
     "metadata": {},
     "output_type": "execute_result"
    }
   ],
   "source": [
    "search.__dict__"
   ]
  },
  {
   "cell_type": "code",
   "execution_count": 22,
   "metadata": {},
   "outputs": [
    {
     "name": "stdout",
     "output_type": "stream",
     "text": [
      "Artist interpreted as: Sybyr\n"
     ]
    }
   ],
   "source": [
    "print(\"Artist interpreted as: %s\" % getUsername(search))"
   ]
  },
  {
   "cell_type": "code",
   "execution_count": 23,
   "metadata": {},
   "outputs": [],
   "source": [
    "@handle_http_errors\n",
    "def id2username(profile, kind='users'):\n",
    "    global id2username_dict\n",
    "    username = id2username_cache.get(profile, None)\n",
    "    if username is not None: return username\n",
    "\n",
    "    # username is none, we don't have it in cache\n",
    "    result = client.get('/%s/%s' % (kind, str(profile)))\n",
    "    if kind == 'comments':\n",
    "        username = result.user['username']\n",
    "    elif kind == 'tracks':\n",
    "        username = result.title\n",
    "    else:\n",
    "        username = result.username\n",
    "    # encode it correctly\n",
    "    username = str(username.encode('utf-8'))\n",
    "    id2username_cache[profile] = username\n",
    "    return username"
   ]
  },
  {
   "cell_type": "code",
   "execution_count": 24,
   "metadata": {},
   "outputs": [],
   "source": [
    "# list of profiles to query\n",
    "profiles_to_query = [search.id]"
   ]
  },
  {
   "cell_type": "code",
   "execution_count": 25,
   "metadata": {},
   "outputs": [
    {
     "data": {
      "text/plain": [
       "[13377746]"
      ]
     },
     "execution_count": 25,
     "metadata": {},
     "output_type": "execute_result"
    }
   ],
   "source": [
    "profiles_to_query"
   ]
  },
  {
   "cell_type": "code",
   "execution_count": 26,
   "metadata": {},
   "outputs": [],
   "source": [
    "depth = 2\n",
    "i = 0\n",
    "\n",
    "# list of profiles we could not query\n",
    "unavailable_profiles = []"
   ]
  },
  {
   "cell_type": "code",
   "execution_count": 30,
   "metadata": {},
   "outputs": [],
   "source": [
    "id2username_cache = {}"
   ]
  },
  {
   "cell_type": "code",
   "execution_count": 31,
   "metadata": {},
   "outputs": [
    {
     "name": "stdout",
     "output_type": "stream",
     "text": [
      "Iteration 0\n",
      "\t Enqueueing: b'Sybyr' (13377746)\n",
      "Iteration 1\n",
      "\t Enqueueing: b'Sybyr' (13377746)\n"
     ]
    }
   ],
   "source": [
    "for t in range(depth):\n",
    "\n",
    "    print(\"Iteration \" + str(t))\n",
    "\n",
    "    profiles_to_enqueue = list(set(profiles_to_enqueue))\n",
    "\n",
    "    for profile in profiles_to_enqueue:\n",
    "        username = id2username(profile)\n",
    "        if username:\n",
    "            print(\"\\t\", \"Enqueueing: %s (%s)\" % (username, profile))"
   ]
  },
  {
   "cell_type": "code",
   "execution_count": null,
   "metadata": {},
   "outputs": [],
   "source": []
  }
 ],
 "metadata": {
  "kernelspec": {
   "display_name": "Python 3",
   "language": "python",
   "name": "python3"
  },
  "language_info": {
   "codemirror_mode": {
    "name": "ipython",
    "version": 3
   },
   "file_extension": ".py",
   "mimetype": "text/x-python",
   "name": "python",
   "nbconvert_exporter": "python",
   "pygments_lexer": "ipython3",
   "version": "3.7.4"
  }
 },
 "nbformat": 4,
 "nbformat_minor": 2
}
