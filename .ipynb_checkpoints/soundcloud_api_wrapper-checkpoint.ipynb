{
 "cells": [
  {
   "cell_type": "code",
   "execution_count": 155,
   "metadata": {},
   "outputs": [],
   "source": [
    "import sys\n",
    "import soundcloud\n",
    "import networkx as nx"
   ]
  },
  {
   "cell_type": "code",
   "execution_count": 156,
   "metadata": {},
   "outputs": [],
   "source": [
    "from functools import partial\n",
    "from utils import get_results, handle_http_errors"
   ]
  },
  {
   "cell_type": "code",
   "execution_count": 157,
   "metadata": {},
   "outputs": [],
   "source": [
    "def getAttr(resource, attr):\n",
    "    if hasattr(resource, attr): return getattr(resource, attr)\n",
    "    return None\n",
    "\n",
    "getUsername = partial(getAttr, attr='username')\n",
    "getid = partial(getAttr, attr='id')\n",
    "getUserid = partial(getAttr, attr='user_id')"
   ]
  },
  {
   "cell_type": "code",
   "execution_count": 158,
   "metadata": {},
   "outputs": [],
   "source": [
    "def profile2id(profile):\n",
    "    print(\"get user id result is {}\".format(getUserid(profile)))\n",
    "    print(\"get id result is {}\".format(getid(profile)))\n",
    "    return getUserid(profile) if isinstance(getUserid(profile), int) else getid(profile)"
   ]
  },
  {
   "cell_type": "code",
   "execution_count": 159,
   "metadata": {},
   "outputs": [],
   "source": [
    "def profile2username(profile):\n",
    "    return getUsername(profile) if isinstance(getUsername(profile), str) else str(getid(profile))"
   ]
  },
  {
   "cell_type": "code",
   "execution_count": 184,
   "metadata": {},
   "outputs": [],
   "source": [
    "# A global profile graph used to iterate through the various algorithms.\n",
    "# Each node is profile id, with edges weighted by activity between then.\n",
    "profile_graph = nx.MultiDiGraph()\n"
   ]
  },
  {
   "cell_type": "code",
   "execution_count": 160,
   "metadata": {},
   "outputs": [
    {
     "name": "stdout",
     "output_type": "stream",
     "text": [
      "Enter a soundcloud artist to analyze: Sybyr\n"
     ]
    }
   ],
   "source": [
    "\n",
    "client = soundcloud.Client(client_id='454aeaee30d3533d6d8f448556b50f23')\n",
    "name = input(\"Enter a soundcloud artist to analyze: \")"
   ]
  },
  {
   "cell_type": "code",
   "execution_count": 161,
   "metadata": {},
   "outputs": [],
   "source": [
    "# Artist of interest\n",
    "\n",
    "search = client.get('/users/', q = name)[0]"
   ]
  },
  {
   "cell_type": "code",
   "execution_count": 162,
   "metadata": {},
   "outputs": [
    {
     "data": {
      "text/plain": [
       "{'obj': {'avatar_url': 'https://i1.sndcdn.com/avatars-cIS3ELGYY7j2e0q9-OEySHA-large.jpg',\n",
       "  'id': 13377746,\n",
       "  'kind': 'user',\n",
       "  'permalink_url': 'https://soundcloud.com/sybyr',\n",
       "  'uri': 'https://api.soundcloud.com/users/13377746',\n",
       "  'username': 'Sybyr',\n",
       "  'permalink': 'sybyr',\n",
       "  'last_modified': '2020/07/23 00:33:51 +0000',\n",
       "  'first_name': 'Sybyrmusic.com',\n",
       "  'last_name': '',\n",
       "  'full_name': 'Sybyrmusic.com',\n",
       "  'city': '',\n",
       "  'description': 'bookings/email: sybyrcentral@gmail.com\\nAnti-World: http://antiworld.co (@antiworldglobe) on all networks\\n(Prod. by Landfill) at http://prodbylandfill.com',\n",
       "  'country': 'United States',\n",
       "  'track_count': 436,\n",
       "  'public_favorites_count': 0,\n",
       "  'followers_count': 51924,\n",
       "  'followings_count': 22,\n",
       "  'plan': 'Pro Unlimited',\n",
       "  'myspace_name': None,\n",
       "  'discogs_name': None,\n",
       "  'website_title': 'click Here',\n",
       "  'website': 'http://antiworld.lnk.to/SYBYR',\n",
       "  'reposts_count': 102,\n",
       "  'comments_count': 110,\n",
       "  'online': False,\n",
       "  'likes_count': 0,\n",
       "  'playlist_count': 38,\n",
       "  'subscriptions': [{'product': {'id': 'creator-pro-unlimited',\n",
       "     'name': 'Pro Unlimited'}}]}}"
      ]
     },
     "execution_count": 162,
     "metadata": {},
     "output_type": "execute_result"
    }
   ],
   "source": [
    "search.__dict__"
   ]
  },
  {
   "cell_type": "code",
   "execution_count": 163,
   "metadata": {},
   "outputs": [
    {
     "name": "stdout",
     "output_type": "stream",
     "text": [
      "Artist interpreted as: Sybyr\n"
     ]
    }
   ],
   "source": [
    "print(\"Artist interpreted as: %s\" % getUsername(search))"
   ]
  },
  {
   "cell_type": "code",
   "execution_count": 164,
   "metadata": {},
   "outputs": [],
   "source": [
    "id2username_cache = {}"
   ]
  },
  {
   "cell_type": "markdown",
   "metadata": {},
   "source": [
    "# Creating Decorator: handle_http_errors"
   ]
  },
  {
   "cell_type": "code",
   "execution_count": 165,
   "metadata": {},
   "outputs": [],
   "source": [
    "@handle_http_errors\n",
    "def id2username(uid, kind='users'):\n",
    "    global id2username_dict\n",
    "    username = id2username_cache.get(uid, None)\n",
    "    if username is not None: \n",
    "        return username\n",
    "    # username is none, we don't have it in cache\n",
    "    \n",
    "    uid_str = str(uid)\n",
    "    get = '/{}/{}'.format(kind, uid_str)\n",
    "    result = client.get(get)\n",
    "    \n",
    "    if kind in ['tracks','comments']:\n",
    "        username = result.user['username']\n",
    "    else:\n",
    "        username = result.username\n",
    "    # encode it correctly\n",
    "    # username = str(username.encode('utf-8'))\n",
    "    # print(username)\n",
    "    id2username_cache[uid] = username\n",
    "    \n",
    "    return username\n"
   ]
  },
  {
   "cell_type": "markdown",
   "metadata": {},
   "source": [
    "# get social data functions"
   ]
  },
  {
   "cell_type": "code",
   "execution_count": 166,
   "metadata": {},
   "outputs": [],
   "source": [
    "def getRelationships(profile, client, url): \n",
    "    return get_results(client, url)\n",
    "\n",
    "@handle_http_errors\n",
    "def getFollows(profile):\n",
    "    # get all profiles a user follows\n",
    "    follows = get_results(client, '/users/{0:s}/followings/'.format(str(profile)))\n",
    "    return follows\n",
    "\n",
    "@handle_http_errors\n",
    "def getFollowers(profile):\n",
    "    # get all profiles that follow a user\n",
    "    followers = get_results(client, '/users/{0:s}/followers/'.format(str(profile)))\n",
    "    return followers\n",
    "\n",
    "@handle_http_errors\n",
    "def getUserFavorites(profile):\n",
    "    user_favorites = get_results(client, '/users/{0:s}/favorites/'.format(str(profile)))\n",
    "    return user_favorites\n",
    "\n",
    "@handle_http_errors\n",
    "def getUserComments(profile):\n",
    "    comments = get_results(client, '/users/{0:s}/comments/'.format(str(profile)))\n",
    "    return comments\n",
    "\n",
    "@handle_http_errors\n",
    "def getTracks(profile):\n",
    "    tracks = get_results(client, '/users/{0:s}/tracks/'.format(str(profile)))\n",
    "    return tracks\n",
    "\n",
    "@handle_http_errors\n",
    "def getTrackComments(track):\n",
    "    track_comments = get_results(client, '/tracks/{0:s}/comments/'.format(str(track)))\n",
    "    return track_comments\n",
    "\n",
    "@handle_http_errors\n",
    "def getTrackFavoriters(track):\n",
    "    track_favoriters = get_results(client, '/tracks/{0:s}/favoriters/'.format(str(track)))\n",
    "    return track_favoriters"
   ]
  },
  {
   "cell_type": "markdown",
   "metadata": {},
   "source": [
    "# build graph functions"
   ]
  },
  {
   "cell_type": "code",
   "execution_count": 167,
   "metadata": {},
   "outputs": [],
   "source": [
    "def addProfileNx(profile, profileGraph):\n",
    "    profileGraph.add_node(profile)\n",
    "    #return profileGraph\n",
    "\n",
    "def addPairNx(profile, neighbor, profileGraph):\n",
    "    addProfileNx(profile)\n",
    "    addProfileNx(neighbor)\n",
    "\n",
    "def addFollowsNx(profile, follows, profileGraph):\n",
    "    edges_to_add = [(profile, follow) for follow in follows]\n",
    "    print(edges_to_add)\n",
    "    profileGraph.add_edges_from(edges_to_add, edge_type='soundcloud_follow')"
   ]
  },
  {
   "cell_type": "markdown",
   "metadata": {},
   "source": [
    "# print graph functions"
   ]
  },
  {
   "cell_type": "code",
   "execution_count": 189,
   "metadata": {},
   "outputs": [],
   "source": [
    "def printGraph(G):\n",
    "    for profile in G.nodes():\n",
    "        if profile:\n",
    "            try:\n",
    "                profile_name = id2username(profile)\n",
    "                print(\"\\t\", \"Printing: %s (%s)\" % (profile_name, profile))\n",
    "                # why does successors return an iterator instead of a list? getting fancy for no reason\n",
    "                follows = [follow for follow in G.successors(profile)]\n",
    "                followers = [follower for follower in G.predecessors(profile)]\n",
    "                try:    \n",
    "                    print(\"\\t\", profile_name + \" has \" + str(len(follows)) + \" followings\")\n",
    "                    print(\"\\t\", profile_name + \" follows \" + \", \".join(map(lambda x: id2username(x), follows)))\n",
    "                except TypeError: \n",
    "                    print(\"No follows here!\")\n",
    "                try:    \n",
    "                    print(\"\\t\", profile_name + \" has \" + str(len(followers)) + \" followers\")\n",
    "                    print(\"\\t\", profile_name + \" is followed by \" + \", \".join(map(lambda x: id2username(x), followers)))\n",
    "                except TypeError:\n",
    "                    print(\"No followers here!\")\n",
    "                    print(\"-\"*40)\n",
    "            except UnicodeError:\n",
    "                print(\"Artist's username not found\" )   "
   ]
  },
  {
   "cell_type": "markdown",
   "metadata": {},
   "source": [
    "# 1b. Testing Functions"
   ]
  },
  {
   "cell_type": "code",
   "execution_count": 169,
   "metadata": {},
   "outputs": [
    {
     "data": {
      "text/plain": [
       "[13377746]"
      ]
     },
     "execution_count": 169,
     "metadata": {},
     "output_type": "execute_result"
    }
   ],
   "source": [
    "# list of profiles to query\n",
    "profiles_to_query = [search.id]\n",
    "profiles_to_query"
   ]
  },
  {
   "cell_type": "code",
   "execution_count": 170,
   "metadata": {},
   "outputs": [],
   "source": [
    "depth = 1\n",
    "i = 0\n",
    "\n",
    "# list of profiles we could not query\n",
    "unavailable_profiles = []"
   ]
  },
  {
   "cell_type": "markdown",
   "metadata": {},
   "source": [
    "Only uncomment the code in the loop if you are willing to wait a while to run the cell below:"
   ]
  },
  {
   "cell_type": "code",
   "execution_count": 185,
   "metadata": {
    "scrolled": true
   },
   "outputs": [
    {
     "name": "stdout",
     "output_type": "stream",
     "text": [
      "Iteration 0\n",
      "\t Enqueueing: Sybyr (13377746)\n",
      "[3636093, 84097827, 33597926, 102317672, 14144178, 68359737, 128789322, 56463258, 326203689, 11277068, 184201297, 148969640, 145055585, 38715402, 91517026, 41191593, 43092661, 62752671, 23974788, 60992645, 114904013]\n",
      "encountered follows: @DevinWillDo, OWINILLSIN {Anti_World}, ERIC NORTH (@RI0T_ANGEL), ANTI-WORLD, MONĀE, neighborhood arion, prod. BABE, JULIEN ANDREAS, Raz Nein, lil xelly (@lilxelly), Landfill, Shark, RIOT_ANGEL, LIL MAI 2020, win32, Ghostie, PE$O EVANS, WIFIGAWD AKA UPT SOULJAH, DariBroko, Leon'sWOLF, CHACHI\n",
      "\n",
      "\n",
      "[(13377746, 3636093), (13377746, 84097827), (13377746, 33597926), (13377746, 102317672), (13377746, 14144178), (13377746, 68359737), (13377746, 128789322), (13377746, 56463258), (13377746, 326203689), (13377746, 11277068), (13377746, 184201297), (13377746, 148969640), (13377746, 145055585), (13377746, 38715402), (13377746, 91517026), (13377746, 41191593), (13377746, 43092661), (13377746, 62752671), (13377746, 23974788), (13377746, 60992645), (13377746, 114904013)]\n"
     ]
    }
   ],
   "source": [
    "for t in range(depth):\n",
    "    print(\"Iteration \" + str(t))\n",
    "    profiles_to_query = list(set(profiles_to_query))\n",
    "    \n",
    "    for profile in profiles_to_query:\n",
    "        username = id2username(profile)\n",
    "        if username:\n",
    "            print(\"\\t\", \"Enqueueing: %s (%s)\" % (username, profile))\n",
    "            addProfileNx(profile,profile_graph)\n",
    "\n",
    "            encountered_follows = getFollows(profile)\n",
    "            encountered_follow_profiles = [follow.id for follow in encountered_follows]\n",
    "            print(encountered_follow_profiles)\n",
    "            print(\"encountered follows: \" + \", \".join([id2username(profile) for profile in encountered_follow_profiles]))\n",
    "            print('\\n')\n",
    "            addFollowsNx(profile, encountered_follow_profiles, profile_graph)\n",
    "\n",
    "#             encountered_user_favorites = getUserFavorites(profile)\n",
    "#             print(\"encountered user favorites: \" + \", \".join([getUsername(track) if isinstance(getUsername(track), str) else str(id2username(track.id,'tracks')) for track in encountered_user_favorites]))\n",
    "#             print('\\n')\n",
    "\n",
    "#             encountered_user_comments = getUserComments(profile)\n",
    "#             print(\"encountered user comments: \" + \", \".join([getUsername(comment) if isinstance(getUsername(comment), str) else str(id2username(comment.track_id,'tracks')) for comment in encountered_user_comments]))#([str(comment.__dict__) for comment in encountered_comments]))#\n",
    "#             print('\\n')\n",
    "\n",
    "#             encountered_followers = getFollowers(profile)\n",
    "#             print(\"encountered followers: \" + \", \".join([getUsername(user) if isinstance(getUsername(user), str) else str(getid(user)) for user in encountered_followers]))\n",
    "#             print('\\n')\n",
    "\n",
    "#             encountered_tracks = getTracks(profile)\n",
    "\n",
    "#             encountered_track_comments = []\n",
    "#             encountered_track_favoriters = []\n",
    "\n",
    "#             for track in encountered_tracks:\n",
    "#                 print(\"getting comments / favoriters from user track, {}\".format(track.title))\n",
    "#                 encountered_track_comments += getTrackComments(track.id)\n",
    "#                 encountered_track_favoriters += getTrackFavoriters(track.id)\n",
    "\n",
    "#             print(encountered_track_comments[0].__dict__)\n",
    "#             print(encountered_track_favoriters[0].__dict__)\n",
    "\n",
    "#             print(\"encountered track comments: \" + \", \".join([getUsername(comment) if isinstance(getUsername(comment), str) else comment.user['username'] for comment in encountered_track_comments]))#([str(comment.__dict__) for comment in encountered_track_comments]))#\n",
    "#             print(\"encountered track favoriters: \" + \", \".join([getUsername(favoriter) if isinstance(getUsername(favoriter), str) else favoriter.user['username'] for favoriter in encountered_track_favoriters]))\n",
    "        else:\n",
    "            print(\"\\t\", \"Artist ID %s is not query-able\" % profile)\n",
    "            unavailable_profiles.append(profile)            "
   ]
  },
  {
   "cell_type": "code",
   "execution_count": 190,
   "metadata": {},
   "outputs": [
    {
     "name": "stdout",
     "output_type": "stream",
     "text": [
      "\t Printing: Sybyr (13377746)\n",
      "\t Sybyr has 21 followings\n",
      "\t Sybyr follows @DevinWillDo, OWINILLSIN {Anti_World}, ERIC NORTH (@RI0T_ANGEL), ANTI-WORLD, MONĀE, neighborhood arion, prod. BABE, JULIEN ANDREAS, Raz Nein, lil xelly (@lilxelly), Landfill, Shark, RIOT_ANGEL, LIL MAI 2020, win32, Ghostie, PE$O EVANS, WIFIGAWD AKA UPT SOULJAH, DariBroko, Leon'sWOLF, CHACHI\n",
      "\t Sybyr has 0 followers\n",
      "\t Sybyr is followed by \n",
      "\t Printing: @DevinWillDo (3636093)\n",
      "\t @DevinWillDo has 0 followings\n",
      "\t @DevinWillDo follows \n",
      "\t @DevinWillDo has 1 followers\n",
      "\t @DevinWillDo is followed by Sybyr\n",
      "\t Printing: OWINILLSIN {Anti_World} (84097827)\n",
      "\t OWINILLSIN {Anti_World} has 0 followings\n",
      "\t OWINILLSIN {Anti_World} follows \n",
      "\t OWINILLSIN {Anti_World} has 1 followers\n",
      "\t OWINILLSIN {Anti_World} is followed by Sybyr\n",
      "\t Printing: ERIC NORTH (@RI0T_ANGEL) (33597926)\n",
      "\t ERIC NORTH (@RI0T_ANGEL) has 0 followings\n",
      "\t ERIC NORTH (@RI0T_ANGEL) follows \n",
      "\t ERIC NORTH (@RI0T_ANGEL) has 1 followers\n",
      "\t ERIC NORTH (@RI0T_ANGEL) is followed by Sybyr\n",
      "\t Printing: ANTI-WORLD (102317672)\n",
      "\t ANTI-WORLD has 0 followings\n",
      "\t ANTI-WORLD follows \n",
      "\t ANTI-WORLD has 1 followers\n",
      "\t ANTI-WORLD is followed by Sybyr\n",
      "\t Printing: MONĀE (14144178)\n",
      "\t MONĀE has 0 followings\n",
      "\t MONĀE follows \n",
      "\t MONĀE has 1 followers\n",
      "\t MONĀE is followed by Sybyr\n",
      "\t Printing: neighborhood arion (68359737)\n",
      "\t neighborhood arion has 0 followings\n",
      "\t neighborhood arion follows \n",
      "\t neighborhood arion has 1 followers\n",
      "\t neighborhood arion is followed by Sybyr\n",
      "\t Printing: prod. BABE (128789322)\n",
      "\t prod. BABE has 0 followings\n",
      "\t prod. BABE follows \n",
      "\t prod. BABE has 1 followers\n",
      "\t prod. BABE is followed by Sybyr\n",
      "\t Printing: JULIEN ANDREAS (56463258)\n",
      "\t JULIEN ANDREAS has 0 followings\n",
      "\t JULIEN ANDREAS follows \n",
      "\t JULIEN ANDREAS has 1 followers\n",
      "\t JULIEN ANDREAS is followed by Sybyr\n",
      "\t Printing: Raz Nein (326203689)\n",
      "\t Raz Nein has 0 followings\n",
      "\t Raz Nein follows \n",
      "\t Raz Nein has 1 followers\n",
      "\t Raz Nein is followed by Sybyr\n",
      "\t Printing: lil xelly (@lilxelly) (11277068)\n",
      "\t lil xelly (@lilxelly) has 0 followings\n",
      "\t lil xelly (@lilxelly) follows \n",
      "\t lil xelly (@lilxelly) has 1 followers\n",
      "\t lil xelly (@lilxelly) is followed by Sybyr\n",
      "\t Printing: Landfill (184201297)\n",
      "\t Landfill has 0 followings\n",
      "\t Landfill follows \n",
      "\t Landfill has 1 followers\n",
      "\t Landfill is followed by Sybyr\n",
      "\t Printing: Shark (148969640)\n",
      "\t Shark has 0 followings\n",
      "\t Shark follows \n",
      "\t Shark has 1 followers\n",
      "\t Shark is followed by Sybyr\n",
      "\t Printing: RIOT_ANGEL (145055585)\n",
      "\t RIOT_ANGEL has 0 followings\n",
      "\t RIOT_ANGEL follows \n",
      "\t RIOT_ANGEL has 1 followers\n",
      "\t RIOT_ANGEL is followed by Sybyr\n",
      "\t Printing: LIL MAI 2020 (38715402)\n",
      "\t LIL MAI 2020 has 0 followings\n",
      "\t LIL MAI 2020 follows \n",
      "\t LIL MAI 2020 has 1 followers\n",
      "\t LIL MAI 2020 is followed by Sybyr\n",
      "\t Printing: win32 (91517026)\n",
      "\t win32 has 0 followings\n",
      "\t win32 follows \n",
      "\t win32 has 1 followers\n",
      "\t win32 is followed by Sybyr\n",
      "\t Printing: Ghostie (41191593)\n",
      "\t Ghostie has 0 followings\n",
      "\t Ghostie follows \n",
      "\t Ghostie has 1 followers\n",
      "\t Ghostie is followed by Sybyr\n",
      "\t Printing: PE$O EVANS (43092661)\n",
      "\t PE$O EVANS has 0 followings\n",
      "\t PE$O EVANS follows \n",
      "\t PE$O EVANS has 1 followers\n",
      "\t PE$O EVANS is followed by Sybyr\n",
      "\t Printing: WIFIGAWD AKA UPT SOULJAH (62752671)\n",
      "\t WIFIGAWD AKA UPT SOULJAH has 0 followings\n",
      "\t WIFIGAWD AKA UPT SOULJAH follows \n",
      "\t WIFIGAWD AKA UPT SOULJAH has 1 followers\n",
      "\t WIFIGAWD AKA UPT SOULJAH is followed by Sybyr\n",
      "\t Printing: DariBroko (23974788)\n",
      "\t DariBroko has 0 followings\n",
      "\t DariBroko follows \n",
      "\t DariBroko has 1 followers\n",
      "\t DariBroko is followed by Sybyr\n",
      "\t Printing: Leon'sWOLF (60992645)\n",
      "\t Leon'sWOLF has 0 followings\n",
      "\t Leon'sWOLF follows \n",
      "\t Leon'sWOLF has 1 followers\n",
      "\t Leon'sWOLF is followed by Sybyr\n",
      "\t Printing: CHACHI (114904013)\n",
      "\t CHACHI has 0 followings\n",
      "\t CHACHI follows \n",
      "\t CHACHI has 1 followers\n",
      "\t CHACHI is followed by Sybyr\n"
     ]
    }
   ],
   "source": [
    "printGraph(profile_graph)"
   ]
  },
  {
   "cell_type": "markdown",
   "metadata": {},
   "source": [
    "# 2. metadata functions"
   ]
  },
  {
   "cell_type": "code",
   "execution_count": 14,
   "metadata": {},
   "outputs": [],
   "source": [
    "def getUserInfo(profile):\n",
    "    info = ['id','permalink', 'username', 'avatar_url', 'country', 'city', \n",
    "            'website', 'track_count', 'followers_count', 'followings_count']\n",
    "    return {i: getAttr(profile, i) for i in info}\n",
    "\n",
    "def getTrackInfo(track):\n",
    "    info = ['id', 'user_id', 'created_at', 'streamabale', 'downloadable',\n",
    "            'playback_count', 'download_count', 'favoritings_count','comment_count']\n",
    "    return {i: getAttr(track, i) for i in info}\n",
    "\n",
    "def getUserFavInfo(fav):\n",
    "    info = ['id', 'user_id','last_modified']\n",
    "    return {i: getAttr(fav, i) for i in info}\n",
    "\n",
    "def getTrackFavInfo(fav):\n",
    "    info = ['id', 'username', 'last_modified']\n",
    "    return {i: getAttr(fav, i) for i in info}\n",
    "\n",
    "def getUserCommInfo(comm):\n",
    "    info = ['id', 'user_id', 'track_id', 'timestamp']\n",
    "    return {i: getAttr(comm, i) for i in info}\n",
    "\n",
    "def getTrackCommInfo(comm):\n",
    "    info = ['id', 'user_id', 'track_id','timestamp']\n",
    "    return {i: getAttr(comm, i) for i in info}"
   ]
  }
 ],
 "metadata": {
  "kernelspec": {
   "display_name": "Python 3",
   "language": "python",
   "name": "python3"
  },
  "language_info": {
   "codemirror_mode": {
    "name": "ipython",
    "version": 3
   },
   "file_extension": ".py",
   "mimetype": "text/x-python",
   "name": "python",
   "nbconvert_exporter": "python",
   "pygments_lexer": "ipython3",
   "version": "3.7.4"
  }
 },
 "nbformat": 4,
 "nbformat_minor": 2
}
