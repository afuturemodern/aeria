{
 "cells": [
  {
   "cell_type": "code",
   "execution_count": 1,
   "metadata": {},
   "outputs": [],
   "source": [
    "import sys\n",
    "import soundcloud"
   ]
  },
  {
   "cell_type": "code",
   "execution_count": 2,
   "metadata": {},
   "outputs": [],
   "source": [
    "from functools import partial\n",
    "from utils import get_results, handle_http_errors"
   ]
  },
  {
   "cell_type": "code",
   "execution_count": 3,
   "metadata": {},
   "outputs": [],
   "source": [
    "def getUserAttr(resource, attr):\n",
    "#   if hasattr(resource, 'user'): return resource.user[attr]\n",
    "    if hasattr(resource, attr): return getattr(resource, attr)\n",
    "    return None\n",
    "\n",
    "getUsername = partial(getUserAttr, attr='username')\n",
    "getUserid = partial(getUserAttr, attr='id')"
   ]
  },
  {
   "cell_type": "code",
   "execution_count": 4,
   "metadata": {},
   "outputs": [
    {
     "name": "stdout",
     "output_type": "stream",
     "text": [
      "Enter a soundcloud artist to analyze: Sybyr\n"
     ]
    }
   ],
   "source": [
    "# A global artist graph used to iterate through the various algorithms.\n",
    "# Each node is artist id, with edges weighted by activity between then.\n",
    "#profileGraph = nx.MultiDiGraph()\n",
    "\n",
    "client = soundcloud.Client(client_id='454aeaee30d3533d6d8f448556b50f23')\n",
    "\n",
    "name = input(\"Enter a soundcloud artist to analyze: \")\n"
   ]
  },
  {
   "cell_type": "code",
   "execution_count": 5,
   "metadata": {},
   "outputs": [],
   "source": [
    "# Artist of interest\n",
    "search = client.get('/users/', q = name)[0]"
   ]
  },
  {
   "cell_type": "code",
   "execution_count": 6,
   "metadata": {},
   "outputs": [
    {
     "data": {
      "text/plain": [
       "<soundcloud.resource.Resource at 0x7ff608f3c190>"
      ]
     },
     "execution_count": 6,
     "metadata": {},
     "output_type": "execute_result"
    }
   ],
   "source": [
    "search"
   ]
  },
  {
   "cell_type": "code",
   "execution_count": 7,
   "metadata": {},
   "outputs": [
    {
     "data": {
      "text/plain": [
       "{'obj': {'avatar_url': 'https://i1.sndcdn.com/avatars-cIS3ELGYY7j2e0q9-OEySHA-large.jpg',\n",
       "  'id': 13377746,\n",
       "  'kind': 'user',\n",
       "  'permalink_url': 'http://soundcloud.com/sybyr',\n",
       "  'uri': 'https://api.soundcloud.com/users/13377746',\n",
       "  'username': 'Sybyr',\n",
       "  'permalink': 'sybyr',\n",
       "  'last_modified': '2020/07/17 04:43:29 +0000',\n",
       "  'first_name': 'Sybyrmusic.com',\n",
       "  'last_name': '',\n",
       "  'full_name': 'Sybyrmusic.com',\n",
       "  'city': '',\n",
       "  'description': 'bookings/email: sybyrcentral@gmail.com\\nAnti-World: http://antiworld.co (@antiworldglobe) on all networks\\n(Prod. by Landfill) at http://prodbylandfill.com',\n",
       "  'country': 'United States',\n",
       "  'track_count': 436,\n",
       "  'public_favorites_count': 0,\n",
       "  'followers_count': 51706,\n",
       "  'followings_count': 22,\n",
       "  'plan': 'Pro Unlimited',\n",
       "  'myspace_name': None,\n",
       "  'discogs_name': None,\n",
       "  'website_title': 'click Here',\n",
       "  'website': 'http://antiworld.lnk.to/SYBYR',\n",
       "  'reposts_count': 99,\n",
       "  'comments_count': 110,\n",
       "  'online': False,\n",
       "  'likes_count': 0,\n",
       "  'playlist_count': 38,\n",
       "  'subscriptions': [{'product': {'id': 'creator-pro-unlimited',\n",
       "     'name': 'Pro Unlimited'}}]}}"
      ]
     },
     "execution_count": 7,
     "metadata": {},
     "output_type": "execute_result"
    }
   ],
   "source": [
    "search.__dict__"
   ]
  },
  {
   "cell_type": "code",
   "execution_count": 8,
   "metadata": {},
   "outputs": [
    {
     "name": "stdout",
     "output_type": "stream",
     "text": [
      "Artist interpreted as: Sybyr\n"
     ]
    }
   ],
   "source": [
    "print(\"Artist interpreted as: %s\" % getUsername(search))"
   ]
  },
  {
   "cell_type": "code",
   "execution_count": 39,
   "metadata": {},
   "outputs": [],
   "source": [
    "id2username_cache = {}"
   ]
  },
  {
   "cell_type": "code",
   "execution_count": 9,
   "metadata": {},
   "outputs": [],
   "source": [
    "@handle_http_errors\n",
    "def id2username(profile, kind='users'):\n",
    "    global id2username_dict\n",
    "    username = id2username_cache.get(profile, None)\n",
    "    if username is not None: return username\n",
    "\n",
    "    # username is none, we don't have it in cache\n",
    "    result = client.get('/%s/%s' % (kind, str(profile)))\n",
    "    if kind == 'comments':\n",
    "        username = result.user['username']\n",
    "    elif kind == 'tracks':\n",
    "        username = result.title\n",
    "    else:\n",
    "        username = result.username\n",
    "    # encode it correctly\n",
    "    username = str(username.encode('utf-8'))\n",
    "    id2username_cache[profile] = username\n",
    "    return username"
   ]
  },
  {
   "cell_type": "markdown",
   "metadata": {},
   "source": [
    "# Adding more functions"
   ]
  },
  {
   "cell_type": "code",
   "execution_count": 33,
   "metadata": {},
   "outputs": [],
   "source": [
    "def getRelationships(profile, client, url): \n",
    "    return get_results(client, url)\n",
    "\n",
    "@handle_http_errors\n",
    "def getFollowings(profile):\n",
    "    followings = get_results(client, '/users/{0:s}/followings/'.format(str(profile)))\n",
    "    return followings\n",
    "\n",
    "@handle_http_errors\n",
    "def getFollowers(profile):\n",
    "    followers = get_results(client, '/users/{0:s}/followers/'.format(str(profile)))\n",
    "    return followers\n",
    "\n",
    "@handle_http_errors\n",
    "def getFavorites(profile):\n",
    "    favorites = get_results(client, '/users/{0:s}/favorites/'.format(str(profile)))\n",
    "    return favorites\n",
    "\n",
    "@handle_http_errors\n",
    "def getComments(profile):\n",
    "    comments = get_results(client, '/users/{0:s}/comments/'.format(str(profile)))\n",
    "    return comments\n",
    "\n",
    "@handle_http_errors\n",
    "def getTracks(profile):\n",
    "    tracks = get_results(client, '/users/{0:s}/tracks/'.format(str(profile)))\n",
    "    return tracks"
   ]
  },
  {
   "cell_type": "code",
   "execution_count": 34,
   "metadata": {},
   "outputs": [],
   "source": [
    "# list of profiles to query\n",
    "profiles_to_query = [search.id]"
   ]
  },
  {
   "cell_type": "code",
   "execution_count": 35,
   "metadata": {},
   "outputs": [
    {
     "data": {
      "text/plain": [
       "[13377746]"
      ]
     },
     "execution_count": 35,
     "metadata": {},
     "output_type": "execute_result"
    }
   ],
   "source": [
    "profiles_to_query"
   ]
  },
  {
   "cell_type": "code",
   "execution_count": 38,
   "metadata": {},
   "outputs": [],
   "source": [
    "depth = 2\n",
    "i = 0\n",
    "\n",
    "# list of profiles we could not query\n",
    "unavailable_profiles = []"
   ]
  },
  {
   "cell_type": "code",
   "execution_count": 46,
   "metadata": {},
   "outputs": [
    {
     "name": "stdout",
     "output_type": "stream",
     "text": [
      "Iteration 0\n",
      "\t Enqueueing: b'Sybyr' (13377746)\n",
      "met followings: @DevinWillDo, OWINILLSIN {Anti_World}, ERIC NORTH (@RI0T_ANGEL), ANTI-WORLD, MONĀE, neighborhood arion, B*BE, JULIEN ANDREAS, Raz Nein, lil xelly (@lilxelly), Landfill, Shark, RIOT_ANGEL, LIL MAI 2020, win32, Ghostie, PE$O EVANS, WIFIGAWD AKA UPT SOULJAH, DariBroko, Leon'sWOLF, CHACHI\n",
      "Iteration 1\n",
      "\t Enqueueing: b'Sybyr' (13377746)\n",
      "met followings: @DevinWillDo, OWINILLSIN {Anti_World}, ERIC NORTH (@RI0T_ANGEL), ANTI-WORLD, MONĀE, neighborhood arion, B*BE, JULIEN ANDREAS, Raz Nein, lil xelly (@lilxelly), Landfill, Shark, RIOT_ANGEL, LIL MAI 2020, win32, Ghostie, PE$O EVANS, WIFIGAWD AKA UPT SOULJAH, DariBroko, Leon'sWOLF, CHACHI\n"
     ]
    }
   ],
   "source": [
    "for t in range(depth):\n",
    "\n",
    "    print(\"Iteration \" + str(t))\n",
    "\n",
    "    profiles_to_query = list(set(profiles_to_query))\n",
    "\n",
    "    for profile in profiles_to_query:\n",
    "        username = id2username(profile)\n",
    "        if username:\n",
    "            print(\"\\t\", \"Enqueueing: %s (%s)\" % (username, profile))\n",
    "\n",
    "            metFollowings = getFollowings(profile)\n",
    "            print(\"met followings: \" + \", \".join([getUsername(user) if isinstance(getUsername(user), str) else str(getUserid(user)) for user in metFollowings]))"
   ]
  },
  {
   "cell_type": "code",
   "execution_count": 21,
   "metadata": {},
   "outputs": [
    {
     "name": "stdout",
     "output_type": "stream",
     "text": [
      "[<generator object get_results.<locals>.yield_results at 0x7ff6099094d0>, <generator object get_results.<locals>.yield_results at 0x7ff609909550>, <generator object get_results.<locals>.yield_results at 0x7ff6099091d0>, <generator object get_results.<locals>.yield_results at 0x7ff608efac50>, <generator object get_results.<locals>.yield_results at 0x7ff6087999d0>]\n"
     ]
    }
   ],
   "source": [
    "for profile in profiles_to_query:\n",
    "    \n",
    "    basic_info = []\n",
    "    \n",
    "    followings = getFollowings(profile)\n",
    "    basic_info.append(followings)\n",
    "    \n",
    "    followers = getFollowers(profile)\n",
    "    basic_info.append(followers)\n",
    "    \n",
    "    favorites = getFavorites(profile)\n",
    "    basic_info.append(favorites)\n",
    "    \n",
    "    comments = getComments(profile)\n",
    "    basic_info.append(comments)\n",
    "    \n",
    "    tracks = getTracks(profile)\n",
    "    basic_info.append(tracks)\n",
    "    print(basic_info)"
   ]
  },
  {
   "cell_type": "markdown",
   "metadata": {},
   "source": [
    "Tested the five functions above ^ to successfully generate a get_results object"
   ]
  }
 ],
 "metadata": {
  "kernelspec": {
   "display_name": "Python 3",
   "language": "python",
   "name": "python3"
  },
  "language_info": {
   "codemirror_mode": {
    "name": "ipython",
    "version": 3
   },
   "file_extension": ".py",
   "mimetype": "text/x-python",
   "name": "python",
   "nbconvert_exporter": "python",
   "pygments_lexer": "ipython3",
   "version": "3.7.4"
  }
 },
 "nbformat": 4,
 "nbformat_minor": 2
}
