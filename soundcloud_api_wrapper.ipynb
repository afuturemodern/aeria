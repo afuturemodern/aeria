{
 "cells": [
  {
   "cell_type": "code",
   "execution_count": 17,
   "metadata": {},
   "outputs": [],
   "source": [
    "import sys\n",
    "import soundcloud"
   ]
  },
  {
   "cell_type": "code",
   "execution_count": 18,
   "metadata": {},
   "outputs": [],
   "source": [
    "from functools import partial\n",
    "from utils import get_results, handle_http_errors"
   ]
  },
  {
   "cell_type": "code",
   "execution_count": 19,
   "metadata": {},
   "outputs": [],
   "source": [
    "def getAttr(resource, attr):\n",
    "#   if hasattr(resource, 'user'): return resource.user[attr]\n",
    "    if hasattr(resource, attr): return getattr(resource, attr)\n",
    "    return None\n",
    "\n",
    "getUsername = partial(getAttr, attr='username')\n",
    "getid = partial(getAttr, attr='id')\n",
    "getUserid = partial(getAttr, attr='user_id')"
   ]
  },
  {
   "cell_type": "code",
   "execution_count": 20,
   "metadata": {},
   "outputs": [
    {
     "name": "stdout",
     "output_type": "stream",
     "text": [
      "Enter a soundcloud artist to analyze: Sybyr\n"
     ]
    }
   ],
   "source": [
    "# A global artist graph used to iterate through the various algorithms.\n",
    "# Each node is artist id, with edges weighted by activity between then.\n",
    "#profileGraph = nx.MultiDiGraph()\n",
    "\n",
    "client = soundcloud.Client(client_id='454aeaee30d3533d6d8f448556b50f23')\n",
    "\n",
    "name = input(\"Enter a soundcloud artist to analyze: \")\n"
   ]
  },
  {
   "cell_type": "code",
   "execution_count": 21,
   "metadata": {},
   "outputs": [],
   "source": [
    "# Artist of interest\n",
    "search = client.get('/users/', q = name)[0]"
   ]
  },
  {
   "cell_type": "code",
   "execution_count": 23,
   "metadata": {},
   "outputs": [
    {
     "data": {
      "text/plain": [
       "{'obj': {'avatar_url': 'https://i1.sndcdn.com/avatars-cIS3ELGYY7j2e0q9-OEySHA-large.jpg',\n",
       "  'id': 13377746,\n",
       "  'kind': 'user',\n",
       "  'permalink_url': 'https://soundcloud.com/sybyr',\n",
       "  'uri': 'https://api.soundcloud.com/users/13377746',\n",
       "  'username': 'Sybyr',\n",
       "  'permalink': 'sybyr',\n",
       "  'last_modified': '2020/07/17 04:43:29 +0000',\n",
       "  'first_name': 'Sybyrmusic.com',\n",
       "  'last_name': '',\n",
       "  'full_name': 'Sybyrmusic.com',\n",
       "  'city': '',\n",
       "  'description': 'bookings/email: sybyrcentral@gmail.com\\nAnti-World: http://antiworld.co (@antiworldglobe) on all networks\\n(Prod. by Landfill) at http://prodbylandfill.com',\n",
       "  'country': 'United States',\n",
       "  'track_count': 436,\n",
       "  'public_favorites_count': 0,\n",
       "  'followers_count': 51759,\n",
       "  'followings_count': 22,\n",
       "  'plan': 'Pro Unlimited',\n",
       "  'myspace_name': None,\n",
       "  'discogs_name': None,\n",
       "  'website_title': 'click Here',\n",
       "  'website': 'http://antiworld.lnk.to/SYBYR',\n",
       "  'reposts_count': 101,\n",
       "  'comments_count': 110,\n",
       "  'online': False,\n",
       "  'likes_count': 0,\n",
       "  'playlist_count': 38,\n",
       "  'subscriptions': [{'product': {'id': 'creator-pro-unlimited',\n",
       "     'name': 'Pro Unlimited'}}]}}"
      ]
     },
     "execution_count": 23,
     "metadata": {},
     "output_type": "execute_result"
    }
   ],
   "source": [
    "search.__dict__"
   ]
  },
  {
   "cell_type": "code",
   "execution_count": 24,
   "metadata": {},
   "outputs": [
    {
     "name": "stdout",
     "output_type": "stream",
     "text": [
      "Artist interpreted as: Sybyr\n"
     ]
    }
   ],
   "source": [
    "print(\"Artist interpreted as: %s\" % getUsername(search))"
   ]
  },
  {
   "cell_type": "code",
   "execution_count": 145,
   "metadata": {},
   "outputs": [],
   "source": [
    "id2username_cache = {}"
   ]
  },
  {
   "cell_type": "code",
   "execution_count": 146,
   "metadata": {},
   "outputs": [],
   "source": [
    "@handle_http_errors\n",
    "def id2username(uid, kind='users'):\n",
    "    global id2username_dict\n",
    "    username = id2username_cache.get(uid, None)\n",
    "    if username is not None: return username\n",
    "\n",
    "    # username is none, we don't have it in cache\n",
    "    uid_str = str(uid)\n",
    "    get = '/{}/{}'.format(kind, uid_str)\n",
    "    result = client.get(get)\n",
    "    if kind in ['tracks','comments']:\n",
    "        username = result.user['username']\n",
    "    else:\n",
    "        username = result.username\n",
    "    # encode it correctly\n",
    "    #username = str(username.encode('utf-8'))\n",
    "    #print(username)\n",
    "    id2username_cache[uid] = username\n",
    "    return username"
   ]
  },
  {
   "cell_type": "markdown",
   "metadata": {},
   "source": [
    "# Adding more functions"
   ]
  },
  {
   "cell_type": "code",
   "execution_count": 147,
   "metadata": {},
   "outputs": [],
   "source": [
    "def getRelationships(profile, client, url): \n",
    "    return get_results(client, url)\n",
    "\n",
    "@handle_http_errors\n",
    "def getFollows(profile):\n",
    "    # get all profiles a user follows\n",
    "    follows = get_results(client, '/users/{0:s}/followings/'.format(str(profile)))\n",
    "    return follows\n",
    "\n",
    "@handle_http_errors\n",
    "def getFollowers(profile):\n",
    "    # get all profiles that follow a user\n",
    "    followers = get_results(client, '/users/{0:s}/followers/'.format(str(profile)))\n",
    "    return followers\n",
    "\n",
    "@handle_http_errors\n",
    "def getUserFavorites(profile):\n",
    "    user_favorites = get_results(client, '/users/{0:s}/favorites/'.format(str(profile)))\n",
    "    return user_favorites\n",
    "\n",
    "@handle_http_errors\n",
    "def getUserComments(profile):\n",
    "    comments = get_results(client, '/users/{0:s}/comments/'.format(str(profile)))\n",
    "    return comments\n",
    "\n",
    "@handle_http_errors\n",
    "def getTracks(profile):\n",
    "    tracks = get_results(client, '/users/{0:s}/tracks/'.format(str(profile)))\n",
    "    return tracks\n",
    "\n",
    "@handle_http_errors\n",
    "def getTrackComments(track):\n",
    "    tracks = get_results(client, '/tracks/{0:s}/comments/'.format(str(track)))\n",
    "    return tracks"
   ]
  },
  {
   "cell_type": "code",
   "execution_count": 148,
   "metadata": {},
   "outputs": [],
   "source": [
    "# list of profiles to query\n",
    "profiles_to_query = [search.id]"
   ]
  },
  {
   "cell_type": "code",
   "execution_count": 149,
   "metadata": {},
   "outputs": [
    {
     "data": {
      "text/plain": [
       "[13377746]"
      ]
     },
     "execution_count": 149,
     "metadata": {},
     "output_type": "execute_result"
    }
   ],
   "source": [
    "profiles_to_query"
   ]
  },
  {
   "cell_type": "code",
   "execution_count": 150,
   "metadata": {},
   "outputs": [],
   "source": [
    "depth = 1\n",
    "i = 0\n",
    "\n",
    "# list of profiles we could not query\n",
    "unavailable_profiles = []"
   ]
  },
  {
   "cell_type": "code",
   "execution_count": 151,
   "metadata": {},
   "outputs": [
    {
     "name": "stdout",
     "output_type": "stream",
     "text": [
      "Iteration 0\n",
      "\t Enqueueing: Sybyr (13377746)\n",
      "getting comments from user track, ProdbyLandfill.com (feat. Landfill)\n",
      "getting comments from user track, Do It Again. Prod Kiddbeatz\n",
      "getting comments from user track, Back Prod Babe\n",
      "getting comments from user track, Let The Church Say Bang ProdbyLandfill.com\n",
      "getting comments from user track, Level - Headed Prod Kiddbeatz\n",
      "getting comments from user track, Unknowns ProdbyLandfill.com\n",
      "getting comments from user track, Black & Mild Spirits ProdbyLandfill.com\n",
      "getting comments from user track, Sleepy Cherry Prod Babe\n",
      "getting comments from user track, Land Of The Land ProdbyLandfill.com\n",
      "getting comments from user track, Bipolar Unstable Soldier Prod Kiddbeatz\n",
      "getting comments from user track, Penny Tail 2 ProdbyLandfill.com\n",
      "getting comments from user track, Not Having It Prod MmmYera\n",
      "getting comments from user track, Gasping For The Final Time ProdbyLandfill.com\n",
      "getting comments from user track, IDHTSLTASMD\n",
      "getting comments from user track, Polyester (Prod Vince97 & Y$57)\n",
      "getting comments from user track, 3 Belts Prod Iedekay\n",
      "getting comments from user track, Anger & Vomit Prod Babe\n",
      "getting comments from user track, Beyond Beyond ProdbyLandfill.com\n",
      "getting comments from user track, Bloody Genesis Prod Throwedtobin\n",
      "getting comments from user track, Box Of Pandora Prod Babe\n",
      "getting comments from user track, Cleanse Prod Kiddbeatz\n",
      "getting comments from user track, Don't Pick Up Prod Throwedtobin\n",
      "getting comments from user track, Dualism Mentality Prod Throwedtobin\n",
      "getting comments from user track, Glitter W Freestyle ProdbyLandfill.com\n",
      "getting comments from user track, Hellish Symphony ProdbyLandfill.com\n",
      "getting comments from user track, Implode Explode ProdbyLandfill.com\n",
      "getting comments from user track, In Chapter Nine ProdbyLandfill.com\n",
      "getting comments from user track, Need Fresher Air ProdbyLandfill.com\n",
      "getting comments from user track, No Sides ProdbyLandfill.com\n",
      "getting comments from user track, Purple Lasers Prod Kiddbeatz\n",
      "getting comments from user track, Puzzles & Pieces Prod Throwedtobin\n",
      "getting comments from user track, The Wild Wicked Intro\n",
      "getting comments from user track, Undo Undo Prod Throwedtobin\n",
      "getting comments from user track, Click Of A Button Prod Redda\n",
      "getting comments from user track, Deep Blue ProdbyLandfill.com\n",
      "getting comments from user track, FYM Prod Shark\n",
      "getting comments from user track, HotHeaded ProdbyLandfill.com\n",
      "getting comments from user track, Maxed Out Prod Shark\n",
      "getting comments from user track, Not Today Prod Shark\n",
      "getting comments from user track, One More Time ProdbyLandfill.com\n",
      "getting comments from user track, Only Way Prod Shark & Bruhmanegod\n",
      "getting comments from user track, Shoving Myself Away ProdbyLandfill.com\n",
      "getting comments from user track, Slingshot Prod Slavery\n",
      "getting comments from user track, Start It Off Prod Redda\n",
      "getting comments from user track, Steppin On Toes Prod Kiddbeatz\n",
      "getting comments from user track, Veins. ProdbyLandfill.com\n",
      "getting comments from user track, White Noise Prod Kiddbeatz\n",
      "getting comments from user track, Running In Place (feat. Lil Mai) [ProdbyLandfill.com]\n",
      "getting comments from user track, Anti-Gravity ProdByLandfill.com\n",
      "getting comments from user track, Break Down Prod Shark\n",
      "getting comments from user track, It Is Malware. ProdByLandfill.com\n",
      "getting comments from user track, NEw Element Prod Shark & Neighborhood Arion\n",
      "getting comments from user track, On My Own Prod LVMINE\n",
      "getting comments from user track, Rain Pouring Down On Me ProdByLandfill.com\n",
      "getting comments from user track, Trapped ProdByLandfill.com\n",
      "getting comments from user track, Observe ProdbyLandfill.com\n",
      "getting comments from user track, Postponed ProdbyLandfill.com\n",
      "getting comments from user track, Gleaming, Going ProdbyLandfill.com\n",
      "getting comments from user track, Hemp Prod. Nosebleed\n",
      "getting comments from user track, Simon Says ProdbyLandfill.com\n",
      "getting comments from user track, Picasso ProdbyLandfill.com\n",
      "getting comments from user track, [Byrrage](Preview) MARCH 27TH//\n",
      "getting comments from user track, Nerve Gas - (Sybyr, Leon'sWOLF, Shark)\n",
      "getting comments from user track, T.o.T. (Remix)\n",
      "getting comments from user track, Darker Than Lit (Prod. Agondrayy)\n",
      "getting comments from user track, Trust Me (feat. Lil West)\n",
      "getting comments from user track, Yaung Emperor (feat. Landfill)\n",
      "getting comments from user track, Dirty Needle\n",
      "getting comments from user track, Kill Me Moe. (feat. Landfill)\n",
      "getting comments from user track, Pray For My Downfall (feat. Leon'sWOLF)\n",
      "getting comments from user track, Take Ya Shine\n",
      "getting comments from user track, Welp (feat. Eric North)\n",
      "getting comments from user track, No More (feat. Blank Body)\n",
      "getting comments from user track, Anti-World (feat. Landfill)\n",
      "getting comments from user track, Riker (feat. Leon'sWOLF)\n",
      "getting comments from user track, Not The Same (feat. Landfill)\n",
      "getting comments from user track, Unrelatable Mess (feat. Landfill)\n",
      "getting comments from user track, Fuck Yu Fuck Yu Fuck Yu\n",
      "getting comments from user track, Fusion\n",
      "getting comments from user track, it is a waste\n",
      "getting comments from user track, The Antagonist (feat. Landfill)\n",
      "getting comments from user track, Heart Attack, Gimme That (feat. Ghostie)\n",
      "getting comments from user track, Realization (Dying) (feat. Evil Nigga)\n",
      "getting comments from user track, Rocks In My Socks (feat. Leon'sWOLF)\n",
      "getting comments from user track, I Like Being (feat. Vittal Flex)\n",
      "getting comments from user track, Purgatory Diamonds (feat. Shark)\n",
      "getting comments from user track, Stop Me (feat. Landfill)\n",
      "getting comments from user track, Pissin Off (feat. Shy)\n",
      "getting comments from user track, U Naut Like Me (feat. Landfill)\n",
      "getting comments from user track, So Autistic (feat. Cxrpse)\n",
      "getting comments from user track, 3\n",
      "getting comments from user track, Nothing Else Now (feat. Evil Nigga)\n",
      "getting comments from user track, Mass Critical Error\n",
      "getting comments from user track, Piss On The Kitchen Floor (feat. Evil Nigga)\n",
      "getting comments from user track, Raging (feat. ego mackey)\n",
      "getting comments from user track, Way Out Of The City (feat. Landfill)\n",
      "getting comments from user track, Fuck You, Purely. (HELLHORSE)\n",
      "getting comments from user track, Maddening (Prod. Kiddbeatz & Krime Pays)\n",
      "getting comments from user track, Sense Of Time (feat. Win32) (Prod. Landfill)\n",
      "getting comments from user track, Gave Up (Prod. Landfill)\n",
      "getting comments from user track, Way Out Of The City (feat. Landfill)\n",
      "getting comments from user track, Fuck You, Purely. (HELLHORSE)\n",
      "getting comments from user track, Maddening (Prod. Kiddbeatz & Krime Pays)\n",
      "getting comments from user track, Sense Of Time (feat. Win32) (Prod. Landfill)\n",
      "getting comments from user track, Gave Up (Prod. Landfill)\n",
      "getting comments from user track, Unh Unh (Prod. Landfill)\n",
      "getting comments from user track, Slowpokes Do Not Eat (Prod. Landfill)\n",
      "getting comments from user track, I Don't Know, Feel Diluted (Prod. Landfill)\n",
      "getting comments from user track, Mad Max Mode (Prod. Y$57)\n",
      "getting comments from user track, Weeping (Prod. Landfill)\n",
      "getting comments from user track, Boost (Prod. Landfill)\n",
      "getting comments from user track, Buckle Down (Prod. Landfill)\n",
      "getting comments from user track, Draino (Prod. Shark)\n",
      "getting comments from user track, Still (Prod. Landfill)\n",
      "getting comments from user track, What A Why Time To Die (Prod. Landfill)\n",
      "getting comments from user track, Save Ya Knuckle Talk (Prod. Landfill)\n",
      "getting comments from user track, Rat Tattoo (Prod. Cxrpse)\n",
      "getting comments from user track, OH Freestyle (Prod. Landfill)\n",
      "getting comments from user track, Off Their Neck (Prod. Ghostie)\n",
      "getting comments from user track, Let The Hammer Drop (Prod. Ghostie)\n",
      "getting comments from user track, Keep That (Prod. Shark)\n",
      "getting comments from user track, Catch 22 (Prod. Shark)\n",
      "getting comments from user track, Buy Me Out Of Texas (Prod. Thrillboy)\n",
      "getting comments from user track, Aint Goin For It (Prod. Landfill)\n",
      "getting comments from user track, Welcome To A Leaking Head V\n",
      "getting comments from user track, Welcome Part 2\n",
      "getting comments from user track, Run To The Money\n",
      "getting comments from user track, Yeah Yeah Yeah Yeah\n",
      "getting comments from user track, Random As Always\n"
     ]
    },
    {
     "name": "stdout",
     "output_type": "stream",
     "text": [
      "getting comments from user track, Golf Course\n",
      "getting comments from user track, Born After The Golden Era\n",
      "getting comments from user track, Cycle\n",
      "getting comments from user track, A Real Leaking Head\n",
      "getting comments from user track, 2 For 2\n",
      "getting comments from user track, Landfill - \"reflective polyester\" *Lower Yuur Volume*\n",
      "getting comments from user track, D.E. (Prod. Landfill)\n",
      "getting comments from user track, [a Thunderstorm Suddenly Appeared] (PROD. @LORDLANDFILL)\n",
      "getting comments from user track, Full Stream - Sybyrmusic.com\n",
      "getting comments from user track, WHAT DO YOU SERIOUSLY WANT? (NEW EP ON BANDCAMP JULY 21ST)\n",
      "getting comments from user track, ProdbyLandfill.com ^leak$ '19 / 9696 - yingyang\n",
      "getting comments from user track, Gotta Serve Folks (Prod. BruhManeGod)\n",
      "getting comments from user track, Hate My New Shit (Prod. Shark)\n",
      "getting comments from user track, I Said I'm Done Playing (Prod. Landfill)\n",
      "getting comments from user track, Needa Shut The Fuck Up (Prod. Landfill)\n",
      "getting comments from user track, Neurotic [No I Can't Relax] (Prod. Throwedtobin)\n",
      "getting comments from user track, Some Haters Then [Needleheads] (Prod. Kiddbeatz)\n",
      "getting comments from user track, Suffocate (Prod. Shark)\n",
      "getting comments from user track, Y.L.N. (Young Lost N****s) (Prod. Landfill)\n",
      "getting comments from user track, In The Ice Castle (Prod. by Landfill)\n",
      "getting comments from user track, Platform Thigh High Boots (Prod. by Landfill)\n",
      "getting comments from user track, Then We Get Nast(y) (Prod. by Landfill)\n",
      "getting comments from user track, Asexual (Prod. Blank Body)\n",
      "getting comments from user track, Bank Freestyle\n",
      "getting comments from user track, Us Alone (ft. Lil Mai)\n",
      "getting comments from user track, Shuriken Freestyle\n",
      "getting comments from user track, CREEPING UP AGAIN\n",
      "getting comments from user track, Rap Game Satan\n",
      "getting comments from user track, BIGBELTEDNASCAR (ft. BRUHMANEGOD)\n",
      "getting comments from user track, AJG\n",
      "getting comments from user track, SET_IT_OFF_\n",
      "getting comments from user track, A\n",
      "getting comments from user track, OPTIONS (ft. $hy)\n",
      "getting comments from user track, Wayyuh\n",
      "getting comments from user track, B (EXTENDED)\n",
      "getting comments from user track, RAZR\n",
      "getting comments from user track, 101Dalmatians (EXTENDED)\n",
      "getting comments from user track, Big Whoop, Big Nope\n",
      "getting comments from user track, _WORLD'S OUTSIDE. (Help But Don't Even Try)\n",
      "getting comments from user track, IN THE TRAP\n",
      "getting comments from user track, NO TAKING\n",
      "getting comments from user track, Hahaha\n",
      "getting comments from user track, Off The Tail\n",
      "getting comments from user track, No\n",
      "getting comments from user track, If You See My Face, Good Luck. God Bless\n",
      "getting comments from user track, I Want The Roof\n",
      "getting comments from user track, Just The Tip\n",
      "getting comments from user track, Fuck Shit\n",
      "getting comments from user track, Sulfuric Acid On My Neck\n",
      "getting comments from user track, Only Serve As A Nut\n",
      "getting comments from user track, I SAID FREE ME. NOT THAT OTHER FUCK. GET IT THRU YUR HEAD. DUMBASS.\n",
      "getting comments from user track, IT'S EARLY. MY HEAD IS THROBBING.\n",
      "getting comments from user track, JUS A NIGGA [AYE]\n",
      "getting comments from user track, MESSY RING (ft. WOLF)\n",
      "getting comments from user track, Spooky Nigga\n",
      "getting comments from user track, INCH OF TASTE\n",
      "getting comments from user track, SAY THAT LETTER ONCE AGAIN.\n",
      "getting comments from user track, Fuck Yu\n",
      "getting comments from user track, FORWARD HINDSIGHT (ft. GRXGVR)\n",
      "getting comments from user track, Hella Mess (ft. Devin Will & $hy)\n",
      "getting comments from user track, homesick (ft. jxsh)\n",
      "getting comments from user track, Proxy How-To\n",
      "getting comments from user track, End My Line\n",
      "getting comments from user track, Overloaded\n",
      "getting comments from user track, Reformat\n",
      "getting comments from user track, Torrent\n",
      "getting comments from user track, Intro Of 9th\n",
      "getting comments from user track, Prep Wrath\n",
      "getting comments from user track, Whoa Freestyle\n",
      "getting comments from user track, C\n",
      "getting comments from user track, Just A Lot\n",
      "{'obj': {'kind': 'comment', 'id': 1050824884, 'created_at': '2020/07/20 11:56:30 +0000', 'user_id': 293684190, 'track_id': 859483285, 'timestamp': 4300, 'body': 'No effort still good lmao ', 'uri': 'https://api.soundcloud.com/comments/1050824884', 'user': {'id': 293684190, 'kind': 'user', 'permalink': 'xvi-entity', 'username': 'XVI', 'last_modified': '2020/07/12 02:43:56 +0000', 'uri': 'https://api.soundcloud.com/users/293684190', 'permalink_url': 'https://soundcloud.com/xvi-entity', 'avatar_url': 'https://i1.sndcdn.com/avatars-YaGMAjDcyE8wDs5a-bV2fKw-large.jpg'}}}\n",
      "encountered track comments: XVI, din, DevilishXXX, Duddy, CarlXenny, Anti-World Fan Radio / A.k.a YellowVision, Kana Beats, Maverick, Ðل VΣПØM 毒, cuff, Expon, cobiidrix, cvr, GradeABass, KAIIISOLATE, overborne, Net484, killxen 2, o8, GLOryhole, oavn, _deadman死人_, ♡vampshyne♡, notkrash, Sybxr, bruhSoulz, Bakï, bruhSoulz, Chrise, sysyr, legion, cuff, ., Don Datta, Mohammad Tahernejad, CarlXenny, NoWetBlunts, GOT_MILK?, YUNG SLOWsCOPE, Azygo Gippo, pistoria, jayden, Anti-World Fan Radio / A.k.a YellowVision, Renegadew3s (Official), sevenlives, Christopher Lopez, drahcir, yung flu shot, Bryce Crispy, @worldwillspin, YUNG SLOWsCOPE, St. Sebastian, tsuna., AddiezAdamz, sevenlives, ghostly, dewdubee, dewdubee, cuff, Lil Joebar, User 933731786, DevilishXXX, ƆIͶYƆ528, 💫 Triunity 💫, Kale.Lundberg, BANASU., BANASU., Tex Harmon, tsuna., bruhSoulz, sevenlives, ghostly, User 933731786, cuff, bughvvl, krysoul, XORCI$T, Duddy, EUDAIMONIA, tsuna., AddiezAdamz, Anti-World Fan Radio / A.k.a YellowVision, sevenlives, ghostly, BRUHMANEGOD, BRUHMANEGOD, Anthony Regan, bruhSoulz, Ðل VΣПØM 毒, Duddy, NØTHIN MATTERS, Fvtvre, DevilishXXX, bohrewton25, Tex Harmon, AddiezAdamz, GradeABass, GradeABass, ghostly, DevilishXXX, TRVPLORD SPENCER, CRXSSBONE$, cvr, bughvvl, YUNG SLOWsCOPE, Kaiser Akiyama, Christopher Lopez, DevilishXXX, two29nine, yung flu shot, XORCI$T, ٰ, dark, BANASU., quanison, REALSCOTTYPOPE, Marwin, GradeABass, Fvtvre, ghostly, yung flu shot, bughvvl, 💫 Triunity 💫, Sifona, Neurodrift, Lє Buʟɢaяє Sauνaɢє, BANASU., cvr, kuroki+, jayden, Prod. Kuu, XORCI$T, Prod. Kuu, bohrewton25, ⭐Taiwan Player⭐, yung flu shot, GradeABass, Prod. Kuu, yung flu shot, User 933731786, Mohammad Tahernejad, bruhSoulz, Gunreal, 151uc, XORCI$T, 151uc, LyFE$TyLE, Duddy, Trakigt, Christopher Lopez, Mohammad Tahernejad, Angel sinner, ⭐Taiwan Player⭐, XORCI$T, Ðل VΣПØM 毒, Neurodrift, Lє Buʟɢaяє Sauνaɢє, DI3STAX, Adderall Demon, no, oni, ghostly, Trakigt, Christopher Lopez, Kaiser Akiyama, Lil Dre, User 933731786, sysyr, @Pazahs, Kawaii, KeyronTM, Chrise, mr cucumber, lordandi, cuff, no, ABADOX, 5c0lumn, LLLandStM, Yung Jacoon, LLLandStM, lucasthecoolcat, Anti-World Fan Radio / A.k.a YellowVision, BING BANG, Wisesゲーム, Yug Fatality, 16bít, vinny morgan, SLICKNICK, GOT_MILK?, Fvtvre, WaveSeeker, no, KAIIISOLATE, skychaser, reach roach, Jenicca, sсumlover, GradeABass, GradeABass, Gwam(@gwamstxr), tsuna., cvr, BING BANG, sysyr, sysyr, Cal2Sick, Kyd(Kid), Kyd(Kid), @worldwillspin, safe heroine, bruhSoulz, bruhSoulz, acid drive., sneakdissa1969, ghostly, YELLOW LIAR, Of.Aestival, LLLandStM, Faroutraf, bohrewton25, AddiezAdamz, killwatashi, CarlXenny, UglyRosePetal, Danny Darkoh, INNAVOID, Anti-World Fan Radio / A.k.a YellowVision, valguder, Vynom, INNAVOID, cuff, cuff, ǤoofyɈellyṮeam ⍟, 123, Ayanami@, tsuna., DRAINEDCHAKRAS, lil memory card [@yungja2k], r3ptil3 🦎, Lil Joebar, hindi negro, hindi negro, K-Krazie, GOT_MILK?, 03∀NTI, AnubisFX, Azygo Gippo, @boo.tee.deez, no, GradeABass v.2, framed, unattrctv, rrrrrapper, rrrrrapper, endiesuxlol, NANSKII, imm0lie, CafeBagels, Mohammad Tahernejad, prod. PENTI 🕷, Trakigt, Mohammad Tahernejad, t6rn, KAIIISOLATE, whoreboy, bruhSoulz, volatile, whoreboy, GOT_MILK?, valguder, FXXX, cuff, aud_io, SY RINGE BYR, valguder, OverThink, whoreboy, SY RINGE BYR, JAY_SUZUYA, Renegadew3s (Official), cuff, LLLandStM, GOT_MILK?, vermin, Heartfall, ghostly, Cldby., 𝟏𝟑𝟖𝙩𝙧𝙚𝙣𝙙𝙠𝙞𝙡𝙡, DevilishXXX, sllɐq ɥɐɾ, p5ych0l, ㅤ, Ya Boy Torres (YBT), BANASU., Anti-World Fan Radio / A.k.a YellowVision, GOT_MILK?, portalboy, vermin, Almightyking, killwatashi, DRAINEDCHAKRAS, Blxckgermz, Blxckgermz, 03∀NTI, no, LyFE$TyLE, agoodnut, Prod. Kuu, WaveSeeker, xovrol, ilikefatbitchezzz, DEATHALIZE, quanison, vermin, bruhSoulz, vermin, BRKNCHL, ⭐Taiwan Player⭐, Exhausted Beats, Tay Hundreds, LyFE$TyLE, xovrol, vermin, vermin, YHR JUJU, vermin, vermin, lordandi, Spartan-117, vermin, Tex Harmon, Kana Beats, b3 (@b3witthawop), Duddy, Duddy, ilikefatbitchezzz, vermin, bughvvl, endiesuxlol, Ezemlm, YUNG SLOWsCOPE, ⠀, ⭐Taiwan Player⭐, Duddy, no, 𝐦𝐢𝐜𝐤𝐢, GradeABass, GradeABass, Anti-World Fan Radio / A.k.a YellowVision, GOT_MILK?, no, vermin, Vanqui$h, awe mox¡e, BANASU., BANASU., Lil Joebar, vermin, ‌, YUNG SLOWsCOPE, ⭐Taiwan Player⭐, IMPUL$E11111, IMPUL$E11111, kadi, BANASU., BANASU., BANASU., Prod. Kuu, WaveSeeker, xovrol, michaelangel, kuroki+, MCH6, vermin, ____, keenonxx, BANASU., Fvtvre, LyFE$TyLE, bootlvg, PASTELENDO [archives], DRILLA THA HERETIC, Alex B, baby zion, vermin, vermin, ✨Mister Buddha✨, IMPUL$E11111, GOT_MILK?, keenonxx, Anti-World Fan Radio / A.k.a YellowVision, LyFE$TyLE, LyFE$TyLE, ƆIͶYƆ528, keenonxx, KAIIISOLATE, vermin, no, Xx_KiTTy_xX, Duddy, AMIR ZERA, Neurodrift, 💫 Triunity 💫, Korosareta 99, Duddy, vermin, bruhSoulz, ____, youthinasia, Renegadew3s (Official), LyFE$TyLE, JustNate888, WaveSeeker, Вячеслав Беляков, portalboy, baby zion, vermin, Ajonte, Harrington, Astro-nami, Anti-World Fan Radio / A.k.a YellowVision, ⭐Taiwan Player⭐, ✨Mister Buddha✨, keenonxx, glory, GOT_MILK?, PUDDING BRAIN, vermin, vermin, Toviskk, DevilishXXX, SNIPZ, Fvtvre, LyFE$TyLE, Archmage, GradeABass, Anti-World Fan Radio / A.k.a YellowVision, Kreegz, Vv, PASTELENDO [archives], PASTELENDO [archives], PASTELENDO [archives], keenonxx, MARQER, spacedope, Loading..., PASTELENDO [archives], ilikefatbitchezzz, lxve_mu, killxen 2, GOT_MILK?, Jxw, b3 (@b3witthawop), vermin, slitt, Filyaev  Alexander, Confound, Big Fella, baby!, ExclusiiveBharbiie, vermin, Blxckgermz, Bushi, 𝕭𝖔𝖔 ✧, SHAMWOW FLASHCOW, LLLandStM, Equestrify || 音楽殺人者, yWLq0d, Paroxetine, no, blameitonrip, O R I O N, YUNG SLOWsCOPE, *✧｡*Dj Kæybladë*｡✧*, tootiredtocare, Ardent, malachi., Ajonte, T-Trap, dewdubee, Prod. Kuu, Saiko, Big Latto, ghost221, Orion Mathison, Prexium+, DevilishXXX, KILL THE REMAINS, Paroxetine, crackhedtypebeat, ostrinch, *✧｡*Dj Kæybladë*｡✧*, augusto aparato, Anti-World Fan Radio / A.k.a YellowVision, KAIIISOLATE, malachi., user596649917, AntiChrxst, deadwinter, DevilishXXX, Paroxetine, bandsaiten, St. Sebastian, ✮JoshuaSageArt✮, b3 (@b3witthawop), LiL hiCcup, Ðل VΣПØM 毒, AntiChrxst, Paroxetine, Maverick, Multiplexes, 5c0lumn, Ezemlm, PROD. BY 77, dwyur, MCH6, MCH6, MorphyneX, Exhausted Beats, Yago_, Paroxetine, MCH6, KAYJAY2K 🤍✨, Exhausted Beats, Equestrify || 音楽殺人者, Equestrify || 音楽殺人者, Kaid, Dirty Street O, volatile, eternal exile, Spartan-117, Spartan-117, zanex1o, dewdubee, WIZRD, Exhausted Beats, caveman_cubensis, AntiChrxst, Jigadavero, JãY KILLã, Yago_, KILL THE REMAINS, KILL THE REMAINS, KARMA, *✧｡*Dj Kæybladë*｡✧*, LyFE$TyLE, Blxckgermz, Ðل VΣПØM 毒, Exhausted Beats, -DURT-, MARG.SEGURO DELPLANQUE, amoneptah, Big Latto, Big Latto, ♘ 2001 ♘, tayk, ✮JoshuaSageArt✮, ✮JoshuaSageArt✮, Ðل VΣПØM 毒, Ðل VΣПØM 毒, blackpillbill, Bushi, IMPUL$E11111, YUNG PVRVDXX, blackpillbill, Boots & Cuts, Blxckgermz, Ðل VΣПØM 毒, WIZRD, LVST, gtfo, danixl, YungShammy, Ðل VΣПØM 毒, Ðل VΣПØM 毒, COLE BENZO, Maverick, KILL THE REMAINS, blackpillbill, HammerMane, Nixie, Im Valentinx, 2sick, qourxy, woke.visualz, FKA.brkn, FKA.brkn, FKA.brkn, FKA.brkn, FKA.brkn, _ VNTRXPXPHVGUS, stressedltly, whiteshadowghost, 🌑 Elfrid Jade 🌑, Riickyyg, Feedimajarrafe, Ðل VΣПØM 毒, kamtooraww, DISGUSTT, Yung Tash $hata, Anti-World Fan Radio / A.k.a YellowVision, KOKI NIWA, PASTELENDO [archives], no, killxen 2, DevilishXXX, BANASU., LIL MAI 2020, BANASU., blackpillbill, Anti-World Fan Radio / A.k.a YellowVision, 03∀NTI, 03∀NTI, РАLЕ$АGЕ, РАLЕ$АGЕ, 03∀NTI, - 穏やかな, cuff, Black Seas, Prod. Kuu, †DOTWORKOV_S†, Bruh, Inkie The Architect, User 963355250, GradeABass v.2, GradeABass v.2, dvmiexx, syomei, syomei, LIL GACY, Reezy, blackpillbill, blackpillbill, user859429235, ​, Reezy, secretapecharlie, fxckupmark, LIL GACY, dolomub, Ðل VΣПØM 毒, Hadiyo Geedi, kevinvoorhees, BluKol⛧, LyFE$TyLE, LyFE$TyLE, GABEYBABEY, Blxckgermz, BluKol⛧, Gxthrips, Lyrikilla999, Ðل VΣПØM 毒, ☫𝖍𝖎𝖊𝖗𝖔𝖕𝖍𝖆𝖓𝖙𝖔𝖒.𝖊𝖝𝖊☫, no, BluKol⛧, LyFE$TyLE, neighborhood arion, Ðل VΣПØM 毒, YNA, ghxts, Prexium+, Roachklip, Androo Joseff, LVMINE, LyFE$TyLE, LyFE$TyLE, 1moodsw1ngs1, BANASU., no, BANASU., no, BANASU., yungluki, michaelangel, sssSmudge, reach roach, Âz Íz, malachi., BluKol⛧, noahsougly, Shinnna2121, Alex B, noahsougly, quitely, reach roach, BENGXST, vietyy, Juleeza Johnson, txmxshi, Jvnebvg, seymoyer, Hadiyo Geedi, O Malley, ​​​​​​​​​​​​​​​​​​​​​​​​​​​​​​​​​​​​​​​​​​​​, powr, powr, syomei, gothgirlkat, CorpseCycle, LyFE$TyLE, paczki, WAVDIGGERS, RED GOD, whiteshadowghost, XMXN, Duddy, Anti-World Fan Radio / A.k.a YellowVision, Lettuce Sponge ✓, Nosebleed, Neurodrift, Exordium, Shovah, SD Lankz, WIZRD, vietyy, Ðل VΣПØM 毒, win32, TripWavin, TripWavin, TripWavin, Anti-World Fan Radio / A.k.a YellowVision, no, JAY_SUZUYA, KOBRAMANE, ME.EVOL_RAW, KARA$HA, ☆ Kvm. ♡, JustNate888, dolx, Vadya, yungrot, Kipassa, PSN, vietyy, DMILL$, tommytruand (@glockyboyy), ❥jeanz, ❥jeanz, Bassplasma, bughvvl, SlimePrincess, CrowTome, 𝐦𝐢𝐜𝐤𝐢, thissituationgettinscarynow, ♘ 2001 ♘, Francesco Quadri, GradeABass, Kana Beats, Materialist Magician, suxx, aftxrlifx, Tex Harmon, Duddy, ❥jeanz, no, Chrise, JustNate888, Archmage, lvz.fx, Andrew, Apollo.N, DIRTY, space ranger, Ðل VΣПØM 毒, papi panda, Nixie, volatile, Checks, Anti-World Fan Radio / A.k.a YellowVision, BLINK-OFF, DOCNMORK, ❥jeanz, DUEY DIRTY, Nosebleed, lvz.fx, bughvvl, ⭐Taiwan Player⭐, DevilishXXX, Prexium+, KA$TRO, cvr, LyFE$TyLE, LyFE$TyLE, Francesco Quadri, Daume Bīd, aftxrlifx, LIL GACY, Tex Harmon, Lettuce Sponge ✓, Anthony Regan, lvz.fx, Вика Быкова, MARQER, Ðل VΣПØM 毒, ★FORBIDDENSTAR★, ★FORBIDDENSTAR★, ★FORBIDDENSTAR★, wAv.2000, Vicktor Justus, BOMBER, Anti-World Fan Radio / A.k.a YellowVision, JustNate888, lordandi, Anime King, Anime King, noopartz, NEFFEX, Young Teen, Young Teen, CrowTome, lvz.fx, YUH, KARA$HA, KARA$HA, Lettuce Sponge ✓, YUNG SLOWsCOPE, The Plagued Raven, homele$$, pickheallff, LyFE$TyLE, Cxbain, hollow (@icehollow), Wyvrn, Dr. $under, eiskalt, hush, hush, sociologist, inwire?, Sr.Estranho/P1nGv, LIL RAMEN, rakknid, Beanz, ScaredOfDeath, al.one, LIL GACY, RVGE, Kana Beats, DUMBSTAR, 4Sai ☆**, Prod. Kuu, b3 (@b3witthawop), Yung Jacoon, The Sundowner, hikiana, Nosebleed, Prexium+, Spill Space, drain star, Domenic Singer, GABEYBABEY, Al Prazo, no, ~ Yung Rodrigo ~, no, Olaf Sipurzyński, GABEYBABEY, numbsins, Yug Fatality, HELIXSON, HELIXSON, sylveon, JAY_SUZUYA, beezlebub, ​, DUMBSTAR, DUMBSTAR, Anti-World Fan Radio / A.k.a YellowVision, drain star, Archmage, 0428, 3200thrax, Ayanami@, Максим, Cristiann Val, LIL RAMEN, ze - phyr, ze - phyr, 056kiruto, FKA Cherry, Eddy No$tiliga, XVI, ♘ 2001 ♘, cathisper, Влад Ерошенко, ラスターrasta sensei先生, GradeABass, GradeABass, Jonas Idselis, jaqshawty, DALA, Skeezstick, ★FORBIDDENSTAR★, CUPID’S ARCHIVES, KAIIISOLATE, SOLAAMBICION, ‎, Quanison, BB-Franxxx, BRAGONE, clxver, dewdubee, YUH, RJF, RJF, FUNERAL$ERVICE, LLLandStM, Daume Bīd, vbonez, thissituationgettinscarynow, Kreegz, sylveon, two29nine, al.one, racc (@prodraccoonz), ★FORBIDDENSTAR★, Nixie, Valente, ANIMA DEUS, dvdek, velripe, cigsحبيب, S J R, luciferzx, Sybyr, bibicruzs, The Sundowner, Nixie, Wasabi, GradeABass, LLLandStM, xxx_XanaX_xxx, Karol, redlightdistr1ct, CarlXenny, kamui子供, IMPACKT (@tkcapmi), Jer, ✰VANTIS✰᷂̾̾̾̾̾̾̾̾̾̾̾̾̾̾̾̾̾̾, ✮JoshuaSageArt✮, KAIIISOLATE, ★FORBIDDENSTAR★, SOLOVELY&AWFUL, SOLOVELY&AWFUL, Sad boY, LingLing, ANDYANTIHERO, Leon'sWOLF, acid drive., JãY KILLã, ∱∟∈☨⊄∦ ⊃∪g▲ (ℙ∪☭h ℕξβ∪L∆), XatoKai, LyFE$TyLE, CharlesLeeGREY, Exhausted Beats, mariazfuneral, Jasnik Dubois, homierax, sarahh 🙈, •, idk what im doing, idk what im doing, 𝐀𝐁𝐘𝐒𝐒𝐀𝐋 𝐁𝐄𝐇𝐀𝐕𝐈𝐎𝐔𝐑, axinightboi+, cyberlxve, 𝕡𝕙𝕚𝕚𝕖𝕟𝕕!, LyFE$TyLE, LyFE$TyLE, DMILL$, Wolf Kotto, cxm, YeaItsCj, ⭐Taiwan Player⭐, gho$t, ✮JoshuaSageArt✮, KEMURI, FXR AWXY, Nixie, xivever, xivever, SHILLY, al.one, James Edwards, dvdek, Cryo, GrandMasta Roman, killshuzi {@drugsage}, GANG $HIT, 3xFIRE, blackpillbill, ghost, hxntai., Tommy 🥶, cie, Anti-World Fan Radio / A.k.a YellowVision, Lyrikilla999, Trequan smith, killxen 2, ndr (admia), vietyy, vietyy, EAZYQUEST, Kaid, KAIIISOLATE, KAIIISOLATE, numbsins, Archmage, kyle, AZGALLOS, Sean Betances, SSgNiÇK, flumasks, ghbr, COLEX, SXN, Никита Сом, Neurodrift, al.one, xerilis, GradeABass, SLICKNICK, SLICKNICK, acid drive., к.ץ.ร(@Hêñ†åïGðÐ), Tex Harmon, b3 (@b3witthawop), sylveon, DAESWORLD, Blare, ICY VEINZ (@icyveinz), Turtleteck, FlowViscious, syringie, dontsleepgod, M Reynolds, M Reynolds, M Reynolds, kuroki+, KAIIISOLATE, VON STORM, LLLandStM, salem, sude, k_lavonne, Andrew Farrugia, HUNDRA (@prodhundra), LLLandStM, pistoria, KKADEN, f. X, axinightboi+, ghost221, txmpxr, xulfur, xulfur, Sean Erler, plugftp, XANDER BROWN, Prod. Kuu, bxiledpxint, no, KXMA, KXMA, MilkyWay, Osterwize, raid, racc (@prodraccoonz), Kyuzi, racc (@prodraccoonz), QualityToshiro, killaud, JustNate888, LSC X, Prod. Kuu, DRAINEDCHAKRAS, \\\\BEATFLOW//, LyFE$TyLE, LyFE$TyLE, SHILLY, VLONE DEX AKA SPITE GXD, F1unte, killxen 2, Kyuzi, JustNate888, Tex Harmon, Skeleton, ScumFather, sqweez, Kyuzi, JustNate888, JustNate888, b3 (@b3witthawop), Goshikku Dachi, blackpillbill, Owen0_o, tager, SERTRA, SLICKNICK, ⛧ NAMES NOT ANDY ⛧, uraurukahara, ULTRXN PRXPHET X, smg, znoell, EAZYQUEST, k_lavonne, alex bezols, EVIL GEMINI, b3 (@b3witthawop), b3 (@b3witthawop), ⠀, notkrash, KARA$HA, distroybanks, cl0udbuᴙst.net, racc (@prodraccoonz), 6ruxo, REALSCOTTYPOPE, Al Prazo, sc6ut, uzumaki, Tyreese Lyles, fyzical, Vxmp., cvr, Nosebleed, autumn_rainfall.wav, My$tik (@basedmystik), PSN, resinvoid (@survivevoids), ghbr, RXSE, Bruh, Trequan smith, Crysis, dripwizard, sylveon, Sasori 02, KXMA, WSG, Die Ronneburg Hexe, PSN, User 913991281, Yung MB, PSN, PSN, Fidelio, Fidelio, User 913991281, awe mox¡e, riley⚡, LyFE$TyLE, KRITIKAL SCYTHE, PSN, light and white, Izzy Who?, thissituationgettinscarynow, Lyrikilla999, XVI, Teghan Moser, tayk, whiteshadowghost, dripwizard, lordandi, XVI, Supernatural.Unicorn, Awsikee, hxntai., XVI, fxego, SilentAgony, Lyrikilla999, Knoir, tayk, BAFA, thissituationgettinscarynow, j, YungNutt, Nitro.xi, Froods, john doe, KRITIKAL SCYTHE, x10derrick, Sprilky :3, PSN, hollow (@icehollow), Lyrikilla999, Yung (☮️) Myth, w0ah, 03∀NTI, thirtytwo:), PSN, astroblur, ‍, User 88891554, Yessir, BIG TENDO, ghowz, Ðل VΣПØM 毒, KiddThrtxxn, Mohammad Tahernejad, alex bezols, digitalmo^!  archive, 🌑 Elfrid Jade 🌑, hxntai., killxen 2, Trequan smith, ?, R\\T/A, leah, tomayeyuh, 🌑 Elfrid Jade 🌑, killxen 2, Half/fumen, japdaddyslim, riley⚡, CarlXenny, ⠀, hahah stfu, CarlXenny, Lonely Lavish, Holy Weed, Yung Trev, vietyy, killxen 2, BING BANG, Lyrikilla999, o8, killxen 2, Tyreese Lyles, yang, frxntic, suicidaltoreba, GABEYBABEY, toku no kumo, aesthetictrashgang, 𝟒𝟐𝖓𝖆, 𝟒𝟐𝖓𝖆, LC, STETSXN, Wolf Kotto, Wolf Kotto, JustNate888, ALEC WOLF, Frahst🌨, Dead Maid!, Kaid, Tyreese Lyles, dewdubee, Frahst🌨, Autism, Sushi Mane, DevilishXXX, Audelio, Duddy, zevvi., vacuii., Finn Jain, Kaid, zoe, lil mewtwo, GLADIATOR KOTA, PERVOZVANETS, ✮JoshuaSageArt✮, LLLandStM, Kaid, CarlXenny, Lonely Lavish, Holy Weed, Yung Trev, vietyy, killxen 2, BING BANG, Lyrikilla999, o8, killxen 2, Tyreese Lyles, yang, frxntic, suicidaltoreba, GABEYBABEY, toku no kumo, aesthetictrashgang, 𝟒𝟐𝖓𝖆, 𝟒𝟐𝖓𝖆, LC, STETSXN, Wolf Kotto, Wolf Kotto, JustNate888, ALEC WOLF, Frahst🌨, Dead Maid!, Kaid, Tyreese Lyles, dewdubee, Frahst🌨, Autism, Sushi Mane, DevilishXXX, Audelio, Duddy, zevvi., vacuii., Finn Jain, Kaid, zoe, lil mewtwo, GLADIATOR KOTA, PERVOZVANETS, ✮JoshuaSageArt✮, LLLandStM, Kaid, DevilishXXX, Mikel the Pickle, Mason King, Kaid, dewdubee, GradeABass, XORCI$T, ∱∟∈☨⊄∦ ⊃∪g▲ (ℙ∪☭h ℕξβ∪L∆), DevilishXXX, MilkyWay, user407701414, Roachklip, silvǝr, obe, Crooked Hollows, kuroki+, シドニーザ・人間, Kaid, GradeABass, XANDER BROWN, ezrapaynee, OHENNESSY, Brando, PERVOZVANETS, YUNG SOLITAIRE, YUNG SOLITAIRE, Wizzley, Daume Bīd, 2 CLUTCH, al.one, stefan, Anti-World Fan Radio / A.k.a YellowVision, smg, ✩💔sadboypurpp✩💔, ✩💔sadboypurpp✩💔, Kaid, Jaxx, Bruh, GradeABass, Emerick, Frahst🌨, Żeτsυ™, LAMEBOYCAM+, DONOVAN., Skeleton, Zyklon, Duddy, Toji2k1, ALEC WOLF, DeadBeatVillain, @douteux_, 7teen ( 💓 ), villenspurgatory, devin, Kaid, LONE STAR, LONE STAR, DI3STAX, shawty✨, 420.xavier, Z virus, Roachklip, Prexium+, Mikel the Pickle, cvr, weirdtrunk$, PERVOZVANETS, soteko\\\\kera, soteko\\\\kera, holysteez, KOBRAMANE, cloudmound, cloudmound, silence10k, ǤoofyɈellyṮeam ⍟, znoell, Уляна Медвідь, Kaid, Tyreese Lyles, Jaxx, Ｙａｍｉ, Robert Dejesus III, STXCY, younghugger, Panzer Bull, 6inja, C-420, Anti-World Fan Radio / A.k.a YellowVision, KOBRAMANE, Tyreese Lyles, Kaid, User 670256272, LONE STAR, LONE STAR, Tyreese Lyles, Griffin Myers, KAIIISOLATE, AQUAD, Sam, NEUTRX, Runna Child, kõuts, Bruh, Darry Darko, Wolf Kotto, CrXssBxNe$, indigoendo💔, PERVOZVANETS, PERVOZVANETS, Henrique Katainen, beags, Cribb$, 16bít, prod.sil80, Kaid, MothMan, EDYRVXX, Alexandru Robert, Alexandru Robert, Andrey Kukhar, EDYRVXX, EDYRVXX, Prexium+, Top5Ayee, Żeτsυ™, Marriexo, kidtulip, CrowTome, KOBRAMANE, Kaid, KOBRAMANE, SINN6R, mrcavior, noahsougly, GLADIATOR KOTA, GetOverDeath, 𖤐, CarlXenny, CrowTome, Alex B, brickt0pp, dj nigar mouth, icey eyes, sevenlives, holysteez, Passion Kush, awe mox¡e, killxen 2, tada, pussay slayer, T R X V, 03∀NTI, Tyreese Lyles, Kaid, Mohammad Tahernejad, GOT_MILK?, Lockheart, rikkodia, ★FORBIDDENSTAR★, Darkness, KamuiTheKloud, 3vil3dav3, Dr. $under, TOAT DEM DIXX., ✧Masuku no Ushiro✧, SURJI, CINNAGE₃₁₀, illjetski! (@illjetski), Killa', YUNG PHTM, g5tarz, イムセクシー, Ty Nine, Wizzley, vossnos, uzumaki, Killa', 𝐊𝐀𝐀𝐍𝟑𝐗, Maac, ☣ sharp athame make u wet bbe ☣, thief, thief, Divided  nut, PERVOZVANETS, two29nine, Prod. Kuu, vietyy, Anti-World Fan Radio / A.k.a YellowVision, LLLandStM, Dopey Noski, Dopey Noski, Darkness, Music Lover, ​, LiamH, ヘ( ^o^)ノALI ♪( ﾟヮﾟ), Neurodrift, Lil Tomagotchi, varo, 03∀NTI, Lil Tomagotchi, Lil Tomagotchi, Duddy, 03∀NTI, Lee Regal, KAIIISOLATE, PERVOZVANETS, Tyreese Lyles, Killa', 404bobi, KAIIISOLATE, YUNG PHTM, Skeleton, PERVOZVANETS, FATAL EXIT, xovrol, Jasnik Dubois, Anti-World Fan Radio / A.k.a YellowVision, papi panda, Killa', GradeABass, Anti-World Fan Radio / A.k.a YellowVision, A.E.K, Bushi, PASTELENDO [archives], PASTELENDO [archives], Danny Darkoh, icey eyes, yung dung, argie, C-420, heehee, ✧Masuku no Ushiro✧, 7Angelo, danixl, Aaron Davis, Wizzley, XOZ666, KA$TRO, Killa', GEIST FELD, Kreegz, Kreegz, Koji !, GradeABass, ​, numbsins, ★FORBIDDENSTAR★, axinightboi+, soullezs, Holyfield, killxen 2, SY RINGE BYR, Killa', Tyreese Lyles, KAIIISOLATE, ∱∟∈☨⊄∦ ⊃∪g▲ (ℙ∪☭h ℕξβ∪L∆), lil mewtwo, Sᴛɪɢᴍᴠᴛᴠ, JESUS, Carl Clark, Morrelo, Paul Tergeist, Ty Nine, Wizzley, My$tik (@basedmystik), ✧Masuku no Ushiro✧, akeno, Killa', Tyreese Lyles, awe mox¡e, Audelio, Niko, KIRA, OraKami, Ty Nine, fyroe, Zyklon, NPC, DI3STAX, panic premonition, sevy, Killa', quakedskull, Tyreese Lyles, GradeABass, scar settt, Mikel the Pickle, Anti., Ty Nine, Aaron Black, BLACKHEARTMILLENNIUM, LiL BOi BOi, 03∀NTI, marku, Tyreese Lyles, GradeABass, user429484544, YUNG PHTM, SUNDΔY, SUNDΔY, STETSXN, Skeleton, fostermccormick, PULSE, Kaid, Nixie, Tyreese Lyles, Tyreese Lyles, al.one, 03∀NTI, QualityToshiro, GradeABass, Roachklip, Anti-World Fan Radio / A.k.a YellowVision, (っ◔◡◔)っ ♥ 93Dgrees ♥, Tyreese Lyles, Tyreese Lyles, redlightdistr1ct, tessaigavirtual, xovrol, Kaiser Akiyama, moon green merv, 3vil3dav3, Adrian Sike Garcia, Mac II, Vendxng, jovik◇, mustardios, akiba, LLLandStM, framed, イムセクシー, Duddy, Lava, Official genocide, Anti-World Fan Radio / A.k.a YellowVision, 123, LLLandStM, SURJI, Tyreese Lyles, t3ruxru, blackpillbill, nagol, xovrol, 👹🍒🥢Devils Child👹🍒🥢, ☣ sharp athame make u wet bbe ☣, Prexium+, Finn Jain, max, 03∀NTI, 03∀NTI, 03∀NTI, spit., spit., max, January//afterhours, max, devin, LLLandStM, doncloviii, marku, Emmanuel, TOAT DEM DIXX., Adrian Sike Garcia, o8, postcock, Svēte, BENJISTACKS, b3 (@b3witthawop), JULIEN ANDREAS, EVIL ENTONI CURSED TO DEATH OMG, Ryan Green, cyberlxve, DI3STAX, Nemo West, Finn Jain, 𝖘𝖎𝖗𝖗𝖎 𝖙𝖍𝖆 𝖔𝖚𝖙𝖊𝖗 𝖌𝖔𝖉, Mateusz Wyszkowski, AQUAKEY, Tyreese Lyles, Tyreese Lyles, Tyreese Lyles, Halkyon Sun, mdnnwyn, b3 (@b3witthawop), Lil Contact, plugftp, Prod. Yoshi, AZGALLOS, AZGALLOS, AZGALLOS, LLLandStM, xovrol, kuroki+, R  A  ₩, Anti-World Fan Radio / A.k.a YellowVision, 3vil3dav3, Tyreese Lyles, Tyreese Lyles, Tyreese Lyles, 03∀NTI, plugftp, xovrol, Wyvrn, XOZ666, STXCY, DeadForHours, Duddy, Anti-World Fan Radio / A.k.a YellowVision, Adrian Sike Garcia, Anti-World Fan Radio / A.k.a YellowVision, blackpillbill, LLLandStM, piracy, b3 (@b3witthawop), b3 (@b3witthawop), uzumaki, LLLandStM, xovrol, lucaidc, GOT_MILK?, Prexium+, Anti-World Fan Radio / A.k.a YellowVision, cathisper, Nixie, Nixie, zuzu, Tyreese Lyles, BluKol⛧, KAIIISOLATE, XOZ666, XOZ666, LLLandStM, Stella Poulton, LLLandStM, Duddy, JogaFlame, SY RINGE BYR, Nixie, BPD, StarboyRob, b3 (@b3witthawop), markrr99, 03∀NTI, Илья Есипов, Paula Maria, 3vil3dav3, TOAT DEM DIXX., SY RINGE BYR, Renegadew3s (Official), Jigadavero, Korosareta 99, Checks, Deft Chip, Tyreese Lyles, Tyreese Lyles, KAIIISOLATE, plugftp, xovrol, onid̷a̷s̷h̷∜, Cxnner Ω, zhy, dontsleepgod, dontsleepgod, 03∀NTI, Anti-World Fan Radio / A.k.a YellowVision, apathetic reality, 💉, LUH SAINT, YUNG SLOWsCOPE, no, raiizars, Tyreese Lyles, SHADOWSTAR, scandalousdev, 1144NN, ★FORBIDDENSTAR★, Kreegz, Wyvrn, commits, okene123, chromerax, SERETIDE, @boo.tee.deez, XOZ666, Vleeding, 4dova, ayemin, Frahst🌨, XORCI$T, GradeABass, i Like BlueCheese, blackpillbill, Jasnik Dubois, XVI, chromerax, daddylouther666, secretapecharlie, devilshytiswhatido, devilshytiswhatido, Lyrikilla999, al.one, KOBRAMANE, kota true, 3vil3dav3, Luis Mello, 𝖋𝖆𝖌𝖓𝖊𝖗🦇, ✶ŴόＵ𝕟𝕕Ｓ✶, cupid, deathgasm, Wizzley, BVLLISTIC, DBX BuDokaiJordAn, Korosareta 99, akiba, killkxng✪ (@killkxng), CESSI | BEAT STORE |, 10.Anten.10, izzyisdevd, freebandzradio, Kreegz, LLLandStM, oddvanessa, lil plague, ✰ Spiffy’s Gloom ✰, plugftp, sylveon, papi panda, 03∀NTI, 03∀NTI, ICYRED 死, SERTRA, AddiezAdamz, stressst, YLD remori, Boazz, DRILLA THA HERETIC, GradeABass, GradeABass, GradeABass, リルドゥゴー, noserings★, Corein Rich, Cryo, Tvpioca, Anti-World Fan Radio / A.k.a YellowVision, ★FORBIDDENSTAR★, Jaxon, redlightdistr1ct, ︻デ═一, daddylouther666, CrankyDucks, ., M🌸HNO, Lyrikilla999, melongrab, Cameron Davis, 123, MOTHNODE, Shape5hifter, CHIPMUNKISM, dewdubee, -1%, ‎kizetsu, ☽shinji☾, demid, Jaxx, daddylouther666, Yūrei, c7s, MICHAEL SATIVA, Anti-World Fan Radio / A.k.a YellowVision, Arena 85, KAIIISOLATE, AddiezAdamz, ScumFather, KOSCHEY, TO$HiO™, kuroki+, Sean Betances, GradeABass, GABEYBABEY, malachi., Blare, Kreegz, SOREI, Kaid, 🥊✨, checkerx, sleepfailure, fyzical, redlightdistr1ct, redlightdistr1ct, MaxoKoolin, SERTRA, GorChong, JustNate888, ✰BANGEL (FKA XYWULF:SSPOOKED)✰, CrowTome, FLXSH2DIE4, olin, LLLandStM, MARCUSTHAGAWD, null0xd, ueouh, LyFE$TyLE, 51st Citizen, Haybiad, Anti-World Fan Radio / A.k.a YellowVision, Anti-World Fan Radio / A.k.a YellowVision, Trequan Smith 2, OraKami, papi panda, !Skijora, Renegadew3s (Official), SOREI, SOREI, SOREI, sylveon, sleepfailure, sylveon, redlightdistr1ct, DRILLA THA HERETIC, AddiezAdamz, exp0, WARDEN BUFFETT, neighborhood arion, govious, Al Prazo, daddylouther666, daddylouther666, Black Seas, yungluki, Tortxgaa, Kyuzi, hellboyscantsayano, XORCI$T, SlimePrincess, SlimePrincess, zoe, idk what im doing, Official genocide, idk what im doing, numbsins, Nixie, 03∀NTI, killkxng✪ (@killkxng), ICYRED 死, Prexium+, kuroki+, EERIE, 2beluvvd, GABEYBABEY, LOVER, Ｙａｍｉ, Ｙａｍｉ, ghost, BFE BROKEGOOFY, JAY_SUZUYA, FLXSH2DIE4, Kyuzi, checkerx, Lava, hxntai., redlightdistr1ct, Emmanuel, dewdubee, payne.jk☠️, Blare, Checks, ⛓ COVET ⛓, sylveon, racc (@prodraccoonz), GradeABass, GradeABass, Anti-World Fan Radio / A.k.a YellowVision, JAY_SUZUYA, SICKSICK ONE, numbsins, LLLandStM, Prod. Yoshi, KEK, KAIIISOLATE, LLLandStM, GradeABass, noserings★, everyonehurtssusan, ☆sadboyshaq☆, 𝓒𝓮𝓵𝓮𝓫 𝓑𝓾𝓽𝓽𝓪, cutestgoth, ant, tempuraroll (possible hiatus), 03∀NTI, Almightyking, lit plug, yungwya, ƎNΛ⅄OTHER, Korova, Renegadew3s (Official), Prod. Strike, Anti-World Fan Radio / A.k.a YellowVision, PHREAK/SKYE, sylveon, Anti-World Fan Radio / A.k.a YellowVision, emmochka, shxdowgxd, kirill bondarev, nitro cell, CrowTome, nimbus.n54, GradeABass, GradeABass, Wet Ankle, KAIIISOLATE, KAIIISOLATE, ★FORBIDDENSTAR★, Julian Monroy, dontsleepgod, gmane ☆, axinightboi+, eddison, SAVEDVIXII, SAVEDVIXII, Seeker Sinn, TOKYOKURT🐺, Nixie, ✨GLO$TAWR✨, YUNG SLOWsCOPE, Vitru, dwyur, Astro-nami, Jaxx, ｡*ﾟ•♡ purplee shawty ♡•*ﾟ◕‿ ◕｡, H₂SO₄-DIETHYLAMIDE, ​, Anti-World Fan Radio / A.k.a YellowVision, dewzy, syko, ​, GOT_MILK?, Korosareta 99, yungluki, 03∀NTI, Luis Mello, Prexium+, NUTHINGX, Lean Eugene, CINNAGE₃₁₀, kuuba_, SprxcT, ✨GLO$TAWR✨, omniPotent {GromBenzo}, Lean Eugene, Killa', onthethirdfloor, KXZARI, ADJC, Ty Nine, dwyur, hornian, GradeABass, GradeABass, Moe Gas, sad4life, Kebrina, XTHEREALVICTORV, XatoKai, Anti-World Fan Radio / A.k.a YellowVision, Keimani Lea, 03∀NTI, Astronomicalbeatz, tayk, TOAT DEM DIXX., dwyur, X, GradeABass, Pietro Corsini, kuroki+, Anti-World Fan Radio / A.k.a YellowVision, SERTRA, no, no, LLLandStM, no, LLLandStM, Jaydo45, Maurice Lyles, kwolfnokami on YT, Pietro Corsini, kuroki+, Anti-World Fan Radio / A.k.a YellowVision, paranoi, ​, Paula Maria, CINNAGE₃₁₀, Anti-World Fan Radio / A.k.a YellowVision, numbsins, Heff Clean, ​, kuroki+, ​, _ALTVR_, CINNAGE₃₁₀, Anti-World Fan Radio / A.k.a YellowVision, Heff Clean, Heff Clean, Damian Banks, killkxng✪ (@killkxng), LyFE$TyLE, LyFE$TyLE, Andrew Avila, OFFICESTANDARDS, fyroe, itz_scoob, Tex Harmon, Trequan Smith 2, PIZZAXANAX©, killkxng✪ (@killkxng), GhostDez, CINNAGE₃₁₀, CINNAGE₃₁₀, LyFE$TyLE, \"Glyphic\", Samantha Kid, eElemonsune', M I K A Z U K I, Damian Banks, Jaxx, Altamont, Altamont, raiizars, spice, ㅤ, LyFE$TyLE, dustiwe, ☣ sharp athame make u wet bbe ☣, Rareken, CV$HCULT, Илья Есипов, graymorg, Heff Clean, Ty Nine, 2beluvvd, remi, Cldby., zeija, EUDAIMONIA, AnthonyAnarchy, Jaxx, yungluki, ​, KAIIISOLATE, Prexium+, Tyreese Lyles, 2beluvvd, SINCE MID 2017 ICCY GAME33 __ )) &&&& ✝️☪️✡️, EUDAIMONIA, Zombie Twix, numbsins, ​, SINCE MID 2017 ICCY GAME33 __ )) &&&& ✝️☪️✡️, ghostboydizzy, retaria, Natalie Luque, axinightboi+, axinightboi+, axinightboi+, axinightboi+, axinightboi+, moon, bylwn, ur momz boy toyz, KINETIK, mymindisswervin, Dead castle records, veinyrox, SOREI, ghostly, никита чукавин, ｡*ﾟ•♡ purplee shawty ♡•*ﾟ◕‿ ◕｡, SKYE, Pquel, dewdubee, ℕ𝟙𝔾ℍ𝟟𝕄𝟜ℝ𝟛ℤ, dismaleddie, brickt0pp, silence10k, Ｙａｍｉ, Anti-World Fan Radio / A.k.a YellowVision, MARSH // SKEST, CodSpirit, Joshua Nelson, Anti-World Fan Radio / A.k.a YellowVision, BluKol⛧, HVRT, ghostly, sertra, Big Roshi, YaBoyTorres-No2, Sleep Kitchen, Bixenter, dummistick, Wolf Kotto, PROD.KILLJXRGE, KAIIISOLATE, Wolf Kotto, freesyris, Maci zo, A5HLEY, Reezy, Reezy, yungluki, nono, WSG, thirtytwo:), Cozy Yogi, prod. Cold14, Stilts, 1 3 7 (@1thirty7), no, Prod. Kuu, al.one, Prexium+, 03∀NTI, 🦋qiuwes🦋, axinightboi+, axinightboi+, Ernie Paredes, $LUM$OULJA ENT., Tedo Jikhvashvili, DIRTY, LyFE$TyLE, PERVOZVANETS, Duddy, DJ O'S PLAYLIST, Apollo Wulf, User 937887870, my name is mack., XAFA, rigolonimbus, val, LUH SAINT, LUH SAINT, James Packard, ghostly, kxngsuxcxde, prod. by morty 🏴‍☠️, Shini!, nedrix, Tyreese Lyles, ecks1te, F1unte, diphenhydramane, sicario, @boo.tee.deez, CINNAGE₃₁₀, Kwanhyung//, SHADEX, fluoros, aphat, Lil Bazooka Shawty, dazx, Dre, grimy grey GRIMZ, Stefan Alpha, ghostly, JATCE, kadi, S.G., Mille, ☫𝖍𝖎𝖊𝖗𝖔𝖕𝖍𝖆𝖓𝖙𝖔𝖒.𝖊𝖝𝖊☫, Anti-World Fan Radio / A.k.a YellowVision, ClassyJoeMasi, edgelord (p. ItzEdgyOnDaTrackk), BTRUE2YOURSELF, john-n.co.uk, Tex Harmon, sippy, HIGHLIKEHEEM, Corein Rich, michaelangel, VECTOR, Renegadew3s (Official), MIRAGONZA, silence10k, 8PERCENT (@8thehuman), spacedope, Audelio, Tristecadavre666, Plague Stopper, okene123, Tickled Remorse, mar, QualityToshiro, vermin, vermin, fucksvtx, boionglass, k, SHDWMinister, ™BankrøllJadn, ‎, deadlootjohn, Acid residue, VLONE DEX AKA SPITE GXD, neverending, BluKol⛧, mila!**+, 528 Hz, piss pack, sylveon, Prod. Yoshi, 10.Anten.10, TBHILOVEHER, VERSA, remi, Lovexornelius ❦, Halkyon Sun, NOFFKE, sertra, Mohammad Tahernejad, lani', DEATH, joshie, YRN Supreme Boii Hunt, idk what im doing, axinightboi+, yeezus, yungluki, TGWOG, kxngsuxcxde, Keta, izzyisdevd, Alexander Domanski, Erv1n, 03∀NTI, M🌸HNO, M🌸HNO, shyboymac, M🌸HNO, Yo Diablo, shyboymac, LLLandStM, Kamaley Burton, 2beluvvd, M Ø N D G E S I C H T, Matthew McLaughlin, Kendragon, /, James Edwards, StanleyPlugz, Finn Jain, osquinn, Scumsoul, J.A.K Cooper, Vanqui$h, waxpants, DIRTY, DIRTY, NotUrAvrgFkBoi, B  R  U  H, raid, Kwanhyung//, Sybyr, hearthrob, KARA$HA, michaelangel, LLLandStM, GradeABass, jordansrevenge, ❥⭒SAUTANE⭒𓂀, ㅤ, ​​$EWER, kuuba_, ㅤ, SØULESSKAMI, kuuba_, GetOverDeath, Anti-World Fan Radio / A.k.a YellowVision, Anti-World Fan Radio / A.k.a YellowVision, ghostly, QualityToshiro, Frog, Frog, Frog, BEATS!!! INSTRUMENTALS!!!, sweet tooth, ㅤ, al.one, sylveon, beezlebub, beezlebub, Mag, instnt, ⠀, ⠀, Еркко Guardian”, HXNJV ARCHIVE, max, kuroki+, Vxmp., User 670256272, venchiklazde, ayyyyyy, kuuba_, /, Anti-World Fan Radio / A.k.a YellowVision, RiNJAGO, intfinite, ✩💔sadboypurpp✩💔, MilkyWay, transgressive trophies, kuuba_, FLXSH2DIE4, Anti-World Fan Radio / A.k.a YellowVision, LLLandStM, LOCALHOE5884, Mag, evo frost, BASED LOVE WIZARD, BASED LOVE WIZARD, GradeABass, escoterra, NAVY KNIGHT, SØULESSKAMI, din, lucaidc, Tyreese Lyles, piss pack, ghostly, NathanielRay, ghostly, ✩💔sadboypurpp✩💔, checkerx, LLLandStM, HollyBlue, papi panda, David Gibson Jr., instnt, DyRu😈, piss pack, Andrew Avila, fyzical, Duddy, numbsins, b3 (@b3witthawop), 𝔒𝔛𝔜ℭ𝔒ℜ𝔈, Anti-World Fan Radio / A.k.a YellowVision, Anti-World Fan Radio / A.k.a YellowVision, Canoe Crew Kyle, SOREI, tr1st4n, killxen 2, ☪︎ RODEOGLO ☯︎ 000AIKIDO ☥, STM, $aebaH (sey-buh), KXMA, viohma, fentanyl, yungluki, Prod. Kuu, kittydog, XOZ666, killkxng✪ (@killkxng), Corein Rich, KXMA, Yung (☮️) Myth, Lyrikilla999, Cris Strife, jake hansen, B  R  U  H, numbsins, Anti-World Fan Radio / A.k.a YellowVision, KXMA, idk what im doing, cloudmound, numbsins, axinightboi+, Audelio, ƆIͶYƆ528, Chris Gomez, MilkyWay, @Rickienova, Theories, JÜ, The Katana Boy, d_b, Crack a Trill, spritiz, axinightboi+, Yooofoo, 🖤 Lexi Lex 🖤, MORT SHYBUR, sareo ☆ミ, TOAT DEM DIXX., kid_reed, Kyuzi, antikvng, ​, Anti-World Fan Radio / A.k.a YellowVision, gothsyria, ​, LNF RADIO, yung flu shot, Anti-World Fan Radio / A.k.a YellowVision, papi panda, ​, Pingeee, Skeleton, killxen 2, aylexm, Jerry Springer, Astro-nami, 5OB, max, bylwn, LyFE$TyLE, Luis Mello, GradeABass, JÜ, ★FORBIDDENSTAR★, ★FORBIDDENSTAR★, ★FORBIDDENSTAR★, JÜ, CrowTome, CODENAMECASEY🎀, shananananan, .azazel, Ben Vega, KAIIISOLATE, Kreegz, Kreegz, ⭐Taiwan Player⭐, wxR (IG: @wx_r_), dv$t, ​, ‍, Brayden, rikkodia, ​​$EWER, Ｙａｍｉ, Duddy, Duddy, Duddy, seeker, MVKR3N, chxz, Ethereal Blade, unattrctv, Maverick, vampkary, ⸸𝕄X𝔻ℕË𝕊𝕊⸸, nolanjit2, nolanjit2, nolanjit2, tada, meiji, DevilishXXX, Shiro Bagassien, Shiro Bagassien, twelvehunnid*, The Lich†, The Lich†, The Lich†, The Lich†, Raul.p11, p_o_p_swag_it_out, HAINEMXRTE, Wolf Kotto, KINETIK, iansbxn✭, RJF, RJF, RJF, RJF, $HABOA, $HABOA, 🦋qiuwes🦋, CAMIKAZE, User 666, User 666, User 666, User 666, B  R  U  H, idk what im doing, jv9.x.fL₇ // jay, axinightboi+, axinightboi+, KINETIK, ❥⭒SAUTANE⭒𓂀, o8, Black Gohan, Josh Long, Josh Long, Josh Long, Josh Long, wxR (IG: @wx_r_), ♡娜诶哦诶艾♡, maple (@careinq), altra, siro666, Glazier❄️, Loaf Wave Radio, julia, Prexium+, killsenko, LLLandStM, reax, fyroe, Who Was Ryan, MICHAEL SATIVA, kittydog, Seabear 🎧, AUSTiN, QUES3TEN, yungluki, Kiyoko, Corein Rich, Corein Rich, maxvon, qure 761, Brayden, Ynfiniti, Robert Dejesus III, name, 03∀NTI, CallMeCake™, CallMeCake™, Young Pevko, liefuckmesatananddevil, TRELLY_REVIVED, LLLandStM, Akira, Palatize☆, Thomas Odneal, Thomas Odneal, Thomas Odneal, Thomas Odneal, blameitonrip, O.G. CA$PER, YUNG ZHAP, flair, hxntai., Ayriel Stayfly Huntley, maple (@careinq), Wyvrn, .bxrct, worthy, sdsh, xTyohh, QUES3TEN, QUES3TEN, Duddy, patusiarnia997, jyski, ify, UNTITLED, ‎, vena, marlonn™, alizaejm, ★FORBIDDENSTAR★, Mizuki Tanaka, bones, jxne, ethvn szn, Llamas, marlonn™, fuket, LIL COCO, ᠌ ᠌᠌ ᠌ ᠌ ᠌ ᠌, SOREI, lucid luc, lucid luc, lucid luc, lucid luc, lucid luc, lucid luc, lucid luc, dex, undfnd, User 419804789, CrowTome, industrial_overkill, 💜 SmerdiS 💜, 1137, EXZYYY, P4TT3RN, LLLandStM, JoshxSupreme, hxntai., Yūrei, sylveon, Duddy, *ctrl*, idk what im doing, Lil Addy, M🌸HNO, X U N T I T L E D, joe, SURJI, Plague Stopper, Trequan Smith 2, Tickled Remorse, GradeABass, GradeABass, Uporotaya.Transuha, User 840895139, ​​$EWER, GetOverDeath, seeker, Chez, OraKami, cocacola money ((new page)), PHREAK/SKYE, MARSH // SKEST, based bwoy, Shiki XO, killxen 2, bughvvl, GradeABass, MadokaXoxox, ​​$EWER, Tex Harmon, Duddy, ‎ ‎ ‎ ‎ ‎ ‎ ‎ ‎ ‎ ‎ ‎ ‎ ‎ ‎ ‎, endiesuxlol, WVLTUH, filthygenes, lil diary, MaxoKoolin, homierax, cloudmound, Uncle Dolph, skram.666, Adrian Sike Garcia, daddylouther666, maxvon, ISIS Jr., GradeABass, GradeABass, The Katana Boy, based bwoy, Dalko, Tickled Remorse, ‎, jared, ㅤ, @gtbdan, aikaankadonnut, User 856827377, band, numbsins, numbsins, michaelangel, Anti-World Fan Radio / A.k.a YellowVision, Jerem0y î_î, B15PB, Kreegz, Frog, ⭐Taiwan Player⭐, toku no kumo, Uncle Dolph, *ctrl*, GradeABass, @Rickienova, ++ djr, Darius Alexandersson, Anti-World Fan Radio / A.k.a YellowVision, ‍, ‎, edw, o8, idk what im doing, o8, Nick., loocus, o8, noreply, CHOOOKE YUNG, ghostly, Jaydo45, Duddy, vó1d, oliver, Crystal Jewel, alizaejm, yungrot, ⛧ NAMES NOT ANDY ⛧, volatile, Misael Sandoval, eternal exile, Bixnan, 𝙍 𝙀 𝙑 𝙓 𝙆 𝙀 ₆ ⁹ ₃, IMPUL$E11111, IMPUL$E11111, Enfyro, ‍lost, lil mewtwo, Myst3ry, Korosareta 99, Retro Black, killlblade, drain star, mandodamayo, hxntai., Noah John, Prexium+, Morgan Kelly, ༒, Y0VNG ZXR0ᵗʰᵉ ˢⁱⁿ ᵒᶠ ʷʳᵃᵗʰ, Sᴛɪɢᴍᴠᴛᴠ, astralproject1on, 𝐼𝑍𝑒𝑥𝑟𝑎ℎ, thissituationgettinscarynow, Jaidon Johnson, XANDER BROWN, Akkari, YUNG LXVE ひ, the girl next door, Prod. Kuu, REMORSE, iroasetahana, DRAINEDCHAKRAS, LongStoryShortEnd, ⛧ NAMES NOT ANDY ⛧, shyboymac, Kyuzi, Waz, SFB TONY, $aber Viru$, M🌸HNO, Tymellord, Tymellord, M🌸HNO, Vanqui$h, Lil Yuh, JÜ, ST Dubz. -CRIMINAL GANG-, idk, remi, Kyuzi, homele$$, al.one, Prexium+, JÜ, $atan, MORT SHYBUR, aataze㊗️, ★NXLLITY★, ★NXLLITY★, rikkodia, Anti-World Fan Radio / A.k.a YellowVision, YXNG ISO, Mohammad Tahernejad, Sauce, Darius Cosmin, S0LAS, SADNEED, DIEGOSWERVO, Ferox, Spartan-117, moses, Glory, Exhausted Beats, no, User 467198590, .Valsteppa, KleiinMariie, JJ Castor, KOBRAMANE, XANDER BROWN, ‎‎‎‏‏‎certiwaves, Dj KANG, No9relle, No9relle, M🌸HNO, luvyovani, M🌸HNO, ppt, o3oc, Lil $loth, vilxoro, M🌸HNO, Adrian Sike Garcia, Timmy, Sace, SKYE, vitruxs, JÜ, YungDabi, onlyrealcash, 2hi, piss pack, spacedope, Canoe Crew Kyle, Cannadice, its a homicide, kidtulip, B  R  U  H, ghost, pie, j, Roachklip, Tsukuyomi, MARCUSTHAGAWD, gothsyria, EUDAIMONIA, UNJI (dumtro), 𝒟𝑒𝓂𝑜𝓃𝐵𝓇𝑒𝒶𝓉𝒽 該將, devin, mf ed, NOTRVLY, liv, TEEN DIZASTER, bohrewton25, eriyuh, steffy1, DRAINEDCHAKRAS, DeathWeCrave, pee, *pxsitixn 69 **, abbey!, Anti-World Fan Radio / A.k.a YellowVision, +prod. levi, AurYbae, scandalousdev, parsa x, znakzz, stevendied, N.Maddie, thxqq.thxnos, Yaguru, 3ject_firedrake 2, crackhedtypebeat, homele$$, FXXX, no, areizaga, areizaga, hxntai., Kuba Kuba, Christopher Lopez, prod. Cold14, unattrctv, gho$t, vain, PSN, Prexium+, do1t // 大量殺人, 伊斯梅尔🦁😁, stressedltly, LOCALHOE5884, Anti-World Fan Radio / A.k.a YellowVision, Korosareta 99, Korosareta 99, LLLandStM, JVKXB/hinokami, Miguel Ventura, yandere, bylwn, ✮ neonslat ✮(@neonslat), 202.FUSION, @archiv3, bag of arse, Jin✧*:･, HELLGIRL, juku, MaxoKoolin, Yorik Jamro, 3xFIRE, YUNG ZHAP, YUNG ZHAP, JO$IIAAH, GradeABass, LVST, lmaoTorres, ℒxciius, ilyghost, sinn, Tr6.X., kidtulip, prodspite, killwatashi, ​, KOBRAMANE, devin, Ghostin.alex, Ghostin.alex, User 441696512, User 441696512, 𝐬𝐧𝐨𝐰, yungluki, Dragonite EX, prxwd, Blvck Star ☆, Yacine, prod. by morty 🏴‍☠️, Brayden, bloodrose.jpeg, Lil Jorck, Duddy, Cody Croft, system (@iloveyousystem), XiiiRare, ayemin, Zakary, Zakary, Velokey, vitruxs, CHOOOKE YUNG, Dragonite EX, Cryo, No., TOAT DEM DIXX., hoodrichess, frxntic, fpsgamez123, CrowTome, tjay, DEADLILBOY, hxntai., Beaulo, No., OraKami, Slash, Anti-World Fan Radio / A.k.a YellowVision, idk what im doing, thissituationgettinscarynow, ★FORBIDDENSTAR★, luca_crmn, jsweet710, jsweet710, jsweet710, GradeABass, Tyreese Lyles, SY RINGE BYR, G5TZiP, Kreegz, ., Mag, Tyreese Lyles, MXJESTIC, Kyuzi, x666x, mare, TR!DENT, Beaulo, hoodrichess, apathetic reality, j@nn@., LAW, KspR, yung bhaji, Emmanuel, Sad Boy Trapah 💔, Anti-World Fan Radio / A.k.a YellowVision, Renegadew3s (Official), Tyreese Lyles, o8, henryuh, Checks, LUH SAINT, LUH SAINT, numbsins, PoLiTiCzZzZz, Martian Moon Selects, Nicholas Mari, trigore, M🌸HNO, s, 03∀NTI, MORT SHYBUR, alizaejm, B  R  U  H, warfill, blvcksvn, numbsins, Cry Medusa. 🐍 will be back, Sad boY, Lyrikilla999, Lyrikilla999, Abe Cullen, Anth G, Pquel, JUJUFLYTRAPP, Nixie, Slash, rikkodia, QUIXJ-9, Tyreese Lyles, numbsins, :*, l4rriec, J Hizzle, Taensai  天才, Psychopad, ✧・ﾟ:*Lyn✧・ﾟ:*, beatmetodeath, Xziwz, cobalt, Brayden, XXXIIIXXX, 010110010001, Renegadew3s (Official), Prexium+, - 穏やかな, sin, B  R  U  H, B  R  U  H, bughvvl, RVGE, robert, Anthony Regan, xrtd_kobi, cvr, Niko, Evoy, Nixie, Nixie, tayk, Skawny, cloudmound, lesanlasan, GradeABass, LAMEBOYCAM+, LAMEBOYCAM+, lalotoogucci, joe, numbsins, hxntai., Tyreese Lyles, scyythe, LAMEBOYCAM+, lil mewtwo, KOBRAMANE, FvdedLvst, Anal Cream, Anti-World Fan Radio / A.k.a YellowVision, DMILL$, DMILL$, DMILL$, DMILL$, LAMEBOYCAM+, Mohammad Tahernejad, lil gush, ICY KYFT, D E F I A N T, Dytenna, cøld., Slvc, killwatashi, killxen 2, izzyisdevd, SOREI, HEAVEN, Tyreese Lyles, LAMEBOYCAM+, robjmurph, Space Dog Eternal, Simon Specta, al.one, User 856162646, Njooud Alotibi, Duddy, LAMEBOYCAM+\n"
     ]
    }
   ],
   "source": [
    "for t in range(depth):\n",
    "\n",
    "    print(\"Iteration \" + str(t))\n",
    "\n",
    "    profiles_to_query = list(set(profiles_to_query))\n",
    "\n",
    "    for profile in profiles_to_query:\n",
    "        username = id2username(profile)\n",
    "        if username:\n",
    "            print(\"\\t\", \"Enqueueing: %s (%s)\" % (username, profile))\n",
    "\n",
    "            encountered_follows = getFollows(profile)\n",
    "            print(\"encountered follows: \" + \", \".join([getUsername(user) if isinstance(getUsername(user), str) else str(getid(user)) for user in encountered_follows]))\n",
    "            \n",
    "            encountered_user_favorites = getUserFavorites(profile)\n",
    "            print(\"encountered user favorites: \" + \", \".join([getUsername(track) if isinstance(getUsername(track), str) else str(id2username(track.id,'tracks')) for track in encountered_favorites]))\n",
    "            \n",
    "            encountered_user_comments = getUserComments(profile)\n",
    "            print(\"encountered user comments: \" + \", \".join([getUsername(comment) if isinstance(getUsername(comment), str) else str(id2username(comment.track_id,'tracks')) for comment in encountered_user_comments]))#([str(comment.__dict__) for comment in encountered_comments]))#\n",
    "            \n",
    "            encountered_followers = getFollowers(profile)\n",
    "            print(\"encountered followers: \" + \", \".join([getUsername(user) if isinstance(getUsername(user), str) else str(getid(user)) for user in encountered_followers]))\n",
    "\n",
    "            encountered_tracks = getTracks(profile)\n",
    "            \n",
    "            encountered_track_comments = []\n",
    "            \n",
    "            for track in encountered_tracks:\n",
    "                print(\"getting comments from user track, {}\".format(track.title))\n",
    "                encountered_track_comments += getTrackComments(track.id)\n",
    "                \n",
    "            print(encountered_track_comments[0].__dict__)\n",
    "            \n",
    "            print(\"encountered track comments: \" + \", \".join([getUsername(comment) if isinstance(getUsername(comment), str) else comment.user['username'] for comment in encountered_track_comments]))#([str(comment.__dict__) for comment in encountered_track_comments]))#"
   ]
  },
  {
   "cell_type": "code",
   "execution_count": null,
   "metadata": {},
   "outputs": [],
   "source": []
  },
  {
   "cell_type": "code",
   "execution_count": null,
   "metadata": {},
   "outputs": [],
   "source": []
  }
 ],
 "metadata": {
  "kernelspec": {
   "display_name": "Python 3",
   "language": "python",
   "name": "python3"
  },
  "language_info": {
   "codemirror_mode": {
    "name": "ipython",
    "version": 3
   },
   "file_extension": ".py",
   "mimetype": "text/x-python",
   "name": "python",
   "nbconvert_exporter": "python",
   "pygments_lexer": "ipython3",
   "version": "3.7.4"
  }
 },
 "nbformat": 4,
 "nbformat_minor": 2
}
