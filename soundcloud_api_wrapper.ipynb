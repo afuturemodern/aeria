{
 "cells": [
  {
   "cell_type": "code",
   "execution_count": 1,
   "metadata": {},
   "outputs": [],
   "source": [
    "import sys\n",
    "import soundcloud\n",
    "import networkx as nx"
   ]
  },
  {
   "cell_type": "code",
   "execution_count": 2,
   "metadata": {},
   "outputs": [],
   "source": [
    "from functools import partial\n",
    "from utils import get_results, handle_http_errors"
   ]
  },
  {
   "cell_type": "code",
   "execution_count": 3,
   "metadata": {},
   "outputs": [],
   "source": [
    "def getAttr(resource, attr):\n",
    "    if hasattr(resource, attr): return getattr(resource, attr)\n",
    "    return None\n",
    "\n",
    "getUsername = partial(getAttr, attr='username')\n",
    "getid = partial(getAttr, attr='id')\n",
    "getUserid = partial(getAttr, attr='user_id')"
   ]
  },
  {
   "cell_type": "code",
   "execution_count": 4,
   "metadata": {},
   "outputs": [],
   "source": [
    "def profile2id(profile):\n",
    "    print(\"get user id result is {}\".format(getUserid(profile)))\n",
    "    print(\"get id result is {}\".format(getid(profile)))\n",
    "    return getUserid(profile) if isinstance(getUserid(profile), int) else getid(profile)"
   ]
  },
  {
   "cell_type": "code",
   "execution_count": 5,
   "metadata": {},
   "outputs": [],
   "source": [
    "def profile2username(profile):\n",
    "    return getUsername(profile) if isinstance(getUsername(profile), str) else str(getid(profile))"
   ]
  },
  {
   "cell_type": "code",
   "execution_count": 6,
   "metadata": {},
   "outputs": [
    {
     "name": "stdout",
     "output_type": "stream",
     "text": [
      "Enter a soundcloud artist to analyze: Sybyr\n"
     ]
    }
   ],
   "source": [
    "client = soundcloud.Client(client_id='454aeaee30d3533d6d8f448556b50f23')\n",
    "name = input(\"Enter a soundcloud artist to analyze: \")"
   ]
  },
  {
   "cell_type": "code",
   "execution_count": 7,
   "metadata": {},
   "outputs": [],
   "source": [
    "# Artist of interest\n",
    "\n",
    "search = client.get('/users/', q = name)[0]"
   ]
  },
  {
   "cell_type": "code",
   "execution_count": 8,
   "metadata": {},
   "outputs": [
    {
     "data": {
      "text/plain": [
       "{'obj': {'avatar_url': 'https://i1.sndcdn.com/avatars-cIS3ELGYY7j2e0q9-OEySHA-large.jpg',\n",
       "  'id': 13377746,\n",
       "  'kind': 'user',\n",
       "  'permalink_url': 'https://soundcloud.com/sybyr',\n",
       "  'uri': 'https://api.soundcloud.com/users/13377746',\n",
       "  'username': 'Sybyr',\n",
       "  'permalink': 'sybyr',\n",
       "  'last_modified': '2020/08/16 23:02:35 +0000',\n",
       "  'first_name': 'Sybyrmusic.com',\n",
       "  'last_name': '',\n",
       "  'full_name': 'Sybyrmusic.com',\n",
       "  'city': '',\n",
       "  'description': 'bookings/email: sybyrcentral@gmail.com\\nAnti-World: http://antiworld.co (@antiworldglobe) on all networks\\n(Prod. by Landfill) at http://prodbylandfill.com',\n",
       "  'country': 'United States',\n",
       "  'track_count': 437,\n",
       "  'public_favorites_count': 0,\n",
       "  'followers_count': 52203,\n",
       "  'followings_count': 23,\n",
       "  'plan': 'Pro Unlimited',\n",
       "  'myspace_name': None,\n",
       "  'discogs_name': None,\n",
       "  'website_title': 'click Here',\n",
       "  'website': 'http://antiworld.lnk.to/SYBYR',\n",
       "  'reposts_count': 105,\n",
       "  'comments_count': 110,\n",
       "  'online': False,\n",
       "  'likes_count': 0,\n",
       "  'playlist_count': 38,\n",
       "  'subscriptions': [{'product': {'id': 'creator-pro-unlimited',\n",
       "     'name': 'Pro Unlimited'}}]}}"
      ]
     },
     "execution_count": 8,
     "metadata": {},
     "output_type": "execute_result"
    }
   ],
   "source": [
    "search.__dict__"
   ]
  },
  {
   "cell_type": "code",
   "execution_count": 9,
   "metadata": {},
   "outputs": [
    {
     "name": "stdout",
     "output_type": "stream",
     "text": [
      "Artist interpreted as: Sybyr\n"
     ]
    }
   ],
   "source": [
    "print(\"Artist interpreted as: %s\" % getUsername(search))"
   ]
  },
  {
   "cell_type": "code",
   "execution_count": 10,
   "metadata": {},
   "outputs": [],
   "source": [
    "uid2username_cache = {}\n",
    "tid2username_cache = {}\n",
    "cid2username_cache = {}\n",
    "tid2userid_cache = {}\n",
    "#commentid2userid_cache = {}"
   ]
  },
  {
   "cell_type": "code",
   "execution_count": 11,
   "metadata": {},
   "outputs": [],
   "source": [
    "@handle_http_errors\n",
    "def userid2username(uid):\n",
    "    global uid2username_dict\n",
    "    username = uid2username_cache.get(uid, None)\n",
    "    if username is not None: \n",
    "        return username\n",
    "    # username is none, we don't have it in cache\n",
    "    \n",
    "    uid_str = str(uid)\n",
    "    get = '/users/{}'.format(uid_str)\n",
    "    result = client.get(get)\n",
    "    username = result.username\n",
    "    uid2username_cache[uid] = username\n",
    "    return username\n",
    "\n",
    "@handle_http_errors\n",
    "def trackid2username(tid):\n",
    "    global tid2username_dict\n",
    "    username = tid2username_cache.get(uid, None)\n",
    "    if username is not None: \n",
    "        return username\n",
    "    # username is none, we don't have it in cache\n",
    "    \n",
    "    tid_str = str(tid)\n",
    "    get = '/tracks/{}'.format(tid_str)\n",
    "    result = client.get(get)\n",
    "    username = result.user['username']\n",
    "    tid2username_cache[tid] = username\n",
    "    return username\n",
    "\n",
    "@handle_http_errors\n",
    "def commentid2username(cid):\n",
    "    global cid2username_dict\n",
    "    username = cid2username_cache.get(uid, None)\n",
    "    if username is not None: \n",
    "        return username\n",
    "    # username is none, we don't have it in cache\n",
    "    \n",
    "    cid_str = str(cid)\n",
    "    get = '/comments/{}'.format(cid_str)\n",
    "    result = client.get(get)\n",
    "    username = result.user['username']\n",
    "    cid2username_cache[cid] = username\n",
    "    return username\n",
    "    \n",
    "@handle_http_errors    \n",
    "def trackid2userid(tid):\n",
    "    global tid2userid_dict\n",
    "    userid = tid2userid_cache.get(tid, None)\n",
    "    if userid is not None: \n",
    "        return userid\n",
    "    # username is none, we don't have it in cache\n",
    "    \n",
    "    tid_str = str(tid)\n",
    "    get = '/tracks/{}'.format(tid_str)\n",
    "    result = client.get(get)\n",
    "    userid = result.user['id']\n",
    "    tid2userid_cache[tid] = userid\n",
    "    return userid"
   ]
  },
  {
   "cell_type": "markdown",
   "metadata": {},
   "source": [
    "# get social data functions"
   ]
  },
  {
   "cell_type": "code",
   "execution_count": 12,
   "metadata": {},
   "outputs": [],
   "source": [
    "def getRelationships(profile, client, url): \n",
    "    return get_results(client, url)\n",
    "\n",
    "@handle_http_errors\n",
    "def getFollows(profile):\n",
    "    # get all profiles a user follows\n",
    "    follows = get_results(client, '/users/{0:s}/followings/'.format(str(profile)))\n",
    "    return follows\n",
    "\n",
    "@handle_http_errors\n",
    "def getFollowers(profile):\n",
    "    # get all profiles that follow a user\n",
    "    followers = get_results(client, '/users/{0:s}/followers/'.format(str(profile)))\n",
    "    return followers\n",
    "\n",
    "@handle_http_errors\n",
    "def getUserFavorites(profile):\n",
    "    user_favorites = get_results(client, '/users/{0:s}/favorites/'.format(str(profile)))\n",
    "    return user_favorites\n",
    "\n",
    "@handle_http_errors\n",
    "def getUserComments(profile):\n",
    "    comments = get_results(client, '/users/{0:s}/comments/'.format(str(profile)))\n",
    "    return comments\n",
    "\n",
    "@handle_http_errors\n",
    "def getTracks(profile):\n",
    "    tracks = get_results(client, '/users/{0:s}/tracks/'.format(str(profile)))\n",
    "    return tracks\n",
    "\n",
    "@handle_http_errors\n",
    "def getTrackComments(track):\n",
    "    track_comments = get_results(client, '/tracks/{0:s}/comments/'.format(str(track)))\n",
    "    return track_comments\n",
    "\n",
    "@handle_http_errors\n",
    "def getTrackFavoriters(track):\n",
    "    track_favoriters = get_results(client, '/tracks/{0:s}/favoriters/'.format(str(track)))\n",
    "    return track_favoriters"
   ]
  },
  {
   "cell_type": "markdown",
   "metadata": {},
   "source": [
    "# metadata functions"
   ]
  },
  {
   "cell_type": "code",
   "execution_count": 13,
   "metadata": {},
   "outputs": [],
   "source": [
    "def getUserInfo(profile):\n",
    "    info = ['id','permalink', 'username', 'avatar_url', 'country', 'city', \n",
    "            'website', 'track_count', 'followers_count', 'followings_count']\n",
    "    return {i: getAttr(profile, i) for i in info}\n",
    "\n",
    "def getTrackInfo(track):\n",
    "    info = ['id', 'user_id', 'created_at', 'streamabale', 'downloadable',\n",
    "            'playback_count', 'download_count', 'favoritings_count','comment_count']\n",
    "    return {i: getAttr(track, i) for i in info}\n",
    "\n",
    "def getUserFavInfo(fav):\n",
    "    info = ['id', 'user_id','last_modified']\n",
    "    return {i: getAttr(fav, i) for i in info}\n",
    "\n",
    "def getTrackFavInfo(fav):\n",
    "    info = ['id', 'username', 'last_modified']\n",
    "    return {i: getAttr(fav, i) for i in info}\n",
    "\n",
    "def getUserCommInfo(comm):\n",
    "    info = ['id', 'user_id', 'track_id', 'timestamp']\n",
    "    return {i: getAttr(comm, i) for i in info}\n",
    "\n",
    "def getTrackCommInfo(comm):\n",
    "    info = ['id', 'user_id', 'track_id','timestamp']\n",
    "    return {i: getAttr(comm, i) for i in info}"
   ]
  },
  {
   "cell_type": "markdown",
   "metadata": {},
   "source": [
    "# build graph functions: Networkx"
   ]
  },
  {
   "cell_type": "code",
   "execution_count": 14,
   "metadata": {},
   "outputs": [],
   "source": [
    "# A global profile graph used to iterate through the various algorithms.\n",
    "# Each node is profile id, with edges weighted by activity between then.\n",
    "profile_graph = nx.MultiDiGraph()"
   ]
  },
  {
   "cell_type": "code",
   "execution_count": 15,
   "metadata": {},
   "outputs": [],
   "source": [
    "def addProfileNx(profile, profileGraph):\n",
    "    profileGraph.add_node(profile)\n",
    "    return profileGraph\n",
    "\n",
    "def addPairNx(profile, neighbor, profileGraph):\n",
    "    addProfileNx(profile)\n",
    "    addProfileNx(neighbor)\n",
    "\n",
    "def addFollowsNx(profile, follows, profileGraph):\n",
    "    for follow in follows:\n",
    "        # enforce that already existing follows don't get added again\n",
    "        if not profileGraph.has_edge(profile, follow, 'soundcloud_follow'):\n",
    "            profileGraph.add_edge(profile, follow, 'soundcloud_follow',weight=1)\n",
    "\n",
    "# TODO: enforce that the same favorite isn't counted twice\n",
    "# easy solve: keep a list of tracks as an edge attribute\n",
    "def addUserFavoritesNx(profile, user_favorites, profileGraph):\n",
    "    for user_favorite in user_favorites:\n",
    "        if profileGraph.has_edge(profile, user_favorite, 'soundcloud_favorite'):\n",
    "            profileGraph.edges[profile, user_favorite,'soundcloud_favorite']['weight']+=1\n",
    "        else:\n",
    "            profileGraph.add_edge(profile, user_favorite, 'soundcloud_favorite',weight=1)\n",
    "\n",
    "# TODO: enforce that the same comment isn't counted twice\n",
    "# easy solve: keep a dictionary of track-comments pairs as an edge attribute\n",
    "def addUserCommentsNx(profile, user_comments, profileGraph):\n",
    "    for user_comment in user_comments:\n",
    "        if profileGraph.has_edge(profile, user_comment, 'soundcloud_comment'):\n",
    "            profileGraph.edges[profile, user_comment,'soundcloud_comment']['weight']+=1\n",
    "        else:\n",
    "            profileGraph.add_edge(profile, user_comment, 'soundcloud_comment',weight=1)\n",
    "\n",
    "def addFollowersNx(profile, followers, profileGraph):\n",
    "    for follower in followers:\n",
    "        if not profileGraph.has_edge(follower, profile, 'soundcloud_follow'):\n",
    "            profileGraph.add_edge(follow, profile, 'soundcloud_follow',weight=1)"
   ]
  },
  {
   "cell_type": "code",
   "execution_count": 16,
   "metadata": {},
   "outputs": [],
   "source": [
    "def printGraph(G):\n",
    "    for profile, neighbor, key, weight in G.edges(data=True,keys=True):\n",
    "        print(\"Profile: {}\".format(userid2username(profile)))\n",
    "        print(\"Neighbor: {}\".format(userid2username(neighbor)))\n",
    "        print(key)\n",
    "        print(weight)\n",
    "#     for profile in G.nodes():\n",
    "#         if profile:\n",
    "#             try:\n",
    "#                 profile_name = id2username(profile)\n",
    "#                 print(\"\\t\", \"Printing: %s (%s)\" % (profile_name, profile))\n",
    "#                 # why does successors return an iterator instead of a list? getting fancy for no reason\n",
    "#                 follows = [follow for follow in G.successors(profile)]\n",
    "#                 followers = [follower for follower in G.predecessors(profile)]\n",
    "#                 try:    \n",
    "#                     print(\"\\t\", profile_name + \" has \" + str(len(follows)) + \" followings\")\n",
    "#                     print(\"\\t\", profile_name + \" follows \" + \", \".join(map(lambda x: id2username(x), follows)))\n",
    "#                 except TypeError: \n",
    "#                     print(\"No follows here!\")\n",
    "#                 try:    \n",
    "#                     print(\"\\t\", profile_name + \" has \" + str(len(followers)) + \" followers\")\n",
    "#                     print(\"\\t\", profile_name + \" is followed by \" + \", \".join(map(lambda x: id2username(x), followers)))\n",
    "#                 except TypeError:\n",
    "#                     print(\"No followers here!\")\n",
    "#                     print(\"-\"*40)\n",
    "#             except UnicodeError:\n",
    "#                 print(\"Artist's username not found\" )   "
   ]
  },
  {
   "cell_type": "markdown",
   "metadata": {},
   "source": [
    "### 1b. Testing Functions"
   ]
  },
  {
   "cell_type": "code",
   "execution_count": 17,
   "metadata": {},
   "outputs": [
    {
     "data": {
      "text/plain": [
       "[13377746]"
      ]
     },
     "execution_count": 17,
     "metadata": {},
     "output_type": "execute_result"
    }
   ],
   "source": [
    "# list of profiles to query\n",
    "profiles_to_query = [search.id]\n",
    "profiles_to_query"
   ]
  },
  {
   "cell_type": "code",
   "execution_count": 18,
   "metadata": {},
   "outputs": [],
   "source": [
    "depth = 1\n",
    "i = 0\n",
    "\n",
    "# list of profiles we could not query\n",
    "unavailable_profiles = []"
   ]
  },
  {
   "cell_type": "markdown",
   "metadata": {},
   "source": [
    "Only uncomment the code in the loop if you are willing to wait a while to run the cell below:"
   ]
  },
  {
   "cell_type": "code",
   "execution_count": 19,
   "metadata": {
    "scrolled": false
   },
   "outputs": [
    {
     "name": "stdout",
     "output_type": "stream",
     "text": [
      "Iteration 0\n",
      "\t Enqueueing: Sybyr (13377746)\n",
      "encountered user comment profiles: Sybyr, ERIC NORTH (@RI0T_ANGEL), Anti-World Fan Radio / A.k.a YellowVision, Sybyr, MITCHELL BAY, Original God, SPACE MAGIC スペース マジック\n",
      "\n",
      "\n"
     ]
    }
   ],
   "source": [
    "for t in range(depth):\n",
    "    print(\"Iteration \" + str(t))\n",
    "    profiles_to_query = list(set(profiles_to_query))\n",
    "    \n",
    "    for profile in profiles_to_query:\n",
    "        username = userid2username(profile)\n",
    "        if username:\n",
    "            print(\"\\t\", \"Enqueueing: %s (%s)\" % (username, profile))\n",
    "            addProfileNx(profile, profile_graph)\n",
    "\n",
    "#             encountered_follows = getFollows(profile)\n",
    "#             encountered_follow_profiles = [follow.id for follow in encountered_follows]\n",
    "#             print(\"encountered follows: \" + \", \".join([id2username(profile) for profile in encountered_follow_profiles]))\n",
    "#             print('\\n')\n",
    "#             addFollowsNx(profile, encountered_follow_profiles, profile_graph)\n",
    "\n",
    "#             encountered_user_favorites = getUserFavorites(profile)\n",
    "#             encountered_user_favorite_profiles = [getUserid(track) if isinstance(getUserid(track), int) else track.user_id for track in encountered_user_favorites]\n",
    "#             print(\"encountered user favorite profiles: \" + \", \".join([id2username(profile) for profile in encountered_user_favorite_profiles]))\n",
    "#             print('\\n')\n",
    "#             addUserFavoritesNx(profile, encountered_user_favorite_profiles, profile_graph)\n",
    "\n",
    "            encountered_user_comments = getUserComments(profile)\n",
    "            encountered_user_comment_profiles = [trackid2userid(comment.track_id) for comment in encountered_user_comments]\n",
    "            print(\"encountered user comment profiles: \" + \", \".join([userid2username(profile) for profile in encountered_user_comment_profiles]))\n",
    "            addUserCommentsNx(profile, encountered_user_comment_profiles, profile_graph)\n",
    "            print('\\n')\n",
    "\n",
    "#             encountered_followers = getFollowers(profile)\n",
    "#             encountered_follower_profiles = [follower.id for follower in encountered_followers]\n",
    "#             print(\"encountered followers: \" + \", \".join([id2username(profile) for profile in encountered_follower_profiles]))\n",
    "#             print('\\n')\n",
    "#             addFollowersNx(profile, encountered_follower_profiles, profile_graph)\n",
    "\n",
    "#             encountered_tracks = getTracks(profile)\n",
    "\n",
    "#             encountered_track_comments = []\n",
    "#             encountered_track_favoriters = []\n",
    "\n",
    "#             for track in encountered_tracks:\n",
    "#                 print(\"getting comments / favoriters from user track, {}\".format(track.title))\n",
    "#                 encountered_track_comments += getTrackComments(track.id)\n",
    "#                 encountered_track_favoriters += getTrackFavoriters(track.id)\n",
    "\n",
    "#             print(encountered_track_comments[0].__dict__)\n",
    "#             print(encountered_track_favoriters[0].__dict__)\n",
    "\n",
    "#             print(\"encountered track comments: \" + \", \".join([getUsername(comment) if isinstance(getUsername(comment), str) else comment.user['username'] for comment in encountered_track_comments]))#([str(comment.__dict__) for comment in encountered_track_comments]))#\n",
    "#             print(\"encountered track favoriters: \" + \", \".join([getUsername(favoriter) if isinstance(getUsername(favoriter), str) else favoriter.user['username'] for favoriter in encountered_track_favoriters]))\n",
    "        else:\n",
    "            print(\"\\t\", \"Artist ID %s is not query-able\" % profile)\n",
    "            unavailable_profiles.append(profile)            "
   ]
  },
  {
   "cell_type": "code",
   "execution_count": 20,
   "metadata": {
    "scrolled": true
   },
   "outputs": [
    {
     "name": "stdout",
     "output_type": "stream",
     "text": [
      "Profile: Sybyr\n",
      "Neighbor: Sybyr\n",
      "soundcloud_comment\n",
      "{'weight': 2}\n",
      "Profile: Sybyr\n",
      "Neighbor: ERIC NORTH (@RI0T_ANGEL)\n",
      "soundcloud_comment\n",
      "{'weight': 1}\n",
      "Profile: Sybyr\n",
      "Neighbor: Anti-World Fan Radio / A.k.a YellowVision\n",
      "soundcloud_comment\n",
      "{'weight': 1}\n",
      "Profile: Sybyr\n",
      "Neighbor: MITCHELL BAY\n",
      "soundcloud_comment\n",
      "{'weight': 1}\n",
      "Profile: Sybyr\n",
      "Neighbor: Original God\n",
      "soundcloud_comment\n",
      "{'weight': 1}\n",
      "Profile: Sybyr\n",
      "Neighbor: SPACE MAGIC スペース マジック\n",
      "soundcloud_comment\n",
      "{'weight': 1}\n"
     ]
    }
   ],
   "source": [
    "printGraph(profile_graph)"
   ]
  },
  {
   "cell_type": "markdown",
   "metadata": {},
   "source": [
    "# Neo4j using Py2neo"
   ]
  },
  {
   "cell_type": "code",
   "execution_count": 21,
   "metadata": {},
   "outputs": [],
   "source": [
    "from py2neo import Node, Relationship, Graph\n",
    "from requests.exceptions import ConnectionError, HTTPError"
   ]
  },
  {
   "cell_type": "markdown",
   "metadata": {},
   "source": [
    "### Adding functions"
   ]
  },
  {
   "cell_type": "code",
   "execution_count": 22,
   "metadata": {},
   "outputs": [],
   "source": [
    "# def addNode(profile):\n",
    "#     query = ('MERGE (profile:soundcloud {id: {profile}.id}) ON CREATE SET profile={profile}')\n",
    "#     try:\n",
    "#         userGraph.cypher.execute(query, {'profile': getUserInfo(profile)})\n",
    "#     except SocketError:\n",
    "#         print(\"\\t\\t\\t\", \"----Cannot connect to cypher db. Assume the query was executed successfully.----\")\n",
    "#     return True"
   ]
  },
  {
   "cell_type": "code",
   "execution_count": 24,
   "metadata": {},
   "outputs": [
    {
     "ename": "ConnectionRefusedError",
     "evalue": "[Errno 61] Connection refused",
     "output_type": "error",
     "traceback": [
      "\u001b[0;31m---------------------------------------------\u001b[0m",
      "\u001b[0;31mKeyError\u001b[0m    Traceback (most recent call last)",
      "\u001b[0;32m~/opt/anaconda3/lib/python3.7/site-packages/py2neo/database/__init__.py\u001b[0m in \u001b[0;36m__new__\u001b[0;34m(cls, profile, **settings)\u001b[0m\n\u001b[1;32m    189\u001b[0m         \u001b[0;32mtry\u001b[0m\u001b[0;34m:\u001b[0m\u001b[0;34m\u001b[0m\u001b[0;34m\u001b[0m\u001b[0m\n\u001b[0;32m--> 190\u001b[0;31m             \u001b[0minst\u001b[0m \u001b[0;34m=\u001b[0m \u001b[0mcls\u001b[0m\u001b[0;34m.\u001b[0m\u001b[0m_instances\u001b[0m\u001b[0;34m[\u001b[0m\u001b[0mprofile\u001b[0m\u001b[0;34m]\u001b[0m\u001b[0;34m\u001b[0m\u001b[0;34m\u001b[0m\u001b[0m\n\u001b[0m\u001b[1;32m    191\u001b[0m         \u001b[0;32mexcept\u001b[0m \u001b[0mKeyError\u001b[0m\u001b[0;34m:\u001b[0m\u001b[0;34m\u001b[0m\u001b[0;34m\u001b[0m\u001b[0m\n",
      "\u001b[0;31mKeyError\u001b[0m: ConnectionProfile('bolt://neo4j@localhost:7687')",
      "\nDuring handling of the above exception, another exception occurred:\n",
      "\u001b[0;31mIndexError\u001b[0m  Traceback (most recent call last)",
      "\u001b[0;32m~/opt/anaconda3/lib/python3.7/site-packages/py2neo/client/__init__.py\u001b[0m in \u001b[0;36macquire\u001b[0;34m(self, graph_name, readonly, timeout, force_reset)\u001b[0m\n\u001b[1;32m    516\u001b[0m                 \u001b[0;31m# Plan A: select a free connection from the pool\u001b[0m\u001b[0;34m\u001b[0m\u001b[0;34m\u001b[0m\u001b[0;34m\u001b[0m\u001b[0m\n\u001b[0;32m--> 517\u001b[0;31m                 \u001b[0mcx\u001b[0m \u001b[0;34m=\u001b[0m \u001b[0mself\u001b[0m\u001b[0;34m.\u001b[0m\u001b[0m_free_list\u001b[0m\u001b[0;34m.\u001b[0m\u001b[0mpopleft\u001b[0m\u001b[0;34m(\u001b[0m\u001b[0;34m)\u001b[0m\u001b[0;34m\u001b[0m\u001b[0;34m\u001b[0m\u001b[0m\n\u001b[0m\u001b[1;32m    518\u001b[0m             \u001b[0;32mexcept\u001b[0m \u001b[0mIndexError\u001b[0m\u001b[0;34m:\u001b[0m\u001b[0;34m\u001b[0m\u001b[0;34m\u001b[0m\u001b[0m\n",
      "\u001b[0;31mIndexError\u001b[0m: pop from an empty deque",
      "\nDuring handling of the above exception, another exception occurred:\n",
      "\u001b[0;31mConnectionRefusedError\u001b[0mTraceback (most recent call last)",
      "\u001b[0;32m<ipython-input-24-f05754bc8aed>\u001b[0m in \u001b[0;36m<module>\u001b[0;34m\u001b[0m\n\u001b[0;32m----> 1\u001b[0;31m \u001b[0mneo4j_graph\u001b[0m \u001b[0;34m=\u001b[0m \u001b[0mGraph\u001b[0m\u001b[0;34m(\u001b[0m\u001b[0;34m)\u001b[0m \u001b[0;31m# requires setup of graph database and password before instantiating graph object\u001b[0m\u001b[0;34m\u001b[0m\u001b[0;34m\u001b[0m\u001b[0m\n\u001b[0m",
      "\u001b[0;32m~/opt/anaconda3/lib/python3.7/site-packages/py2neo/database/__init__.py\u001b[0m in \u001b[0;36m__new__\u001b[0;34m(cls, profile, name, **settings)\u001b[0m\n\u001b[1;32m    375\u001b[0m \u001b[0;34m\u001b[0m\u001b[0m\n\u001b[1;32m    376\u001b[0m     \u001b[0;32mdef\u001b[0m \u001b[0m__new__\u001b[0m\u001b[0;34m(\u001b[0m\u001b[0mcls\u001b[0m\u001b[0;34m,\u001b[0m \u001b[0mprofile\u001b[0m\u001b[0;34m=\u001b[0m\u001b[0;32mNone\u001b[0m\u001b[0;34m,\u001b[0m \u001b[0mname\u001b[0m\u001b[0;34m=\u001b[0m\u001b[0;32mNone\u001b[0m\u001b[0;34m,\u001b[0m \u001b[0;34m**\u001b[0m\u001b[0msettings\u001b[0m\u001b[0;34m)\u001b[0m\u001b[0;34m:\u001b[0m\u001b[0;34m\u001b[0m\u001b[0;34m\u001b[0m\u001b[0m\n\u001b[0;32m--> 377\u001b[0;31m         \u001b[0mgs\u001b[0m \u001b[0;34m=\u001b[0m \u001b[0mGraphService\u001b[0m\u001b[0;34m(\u001b[0m\u001b[0mprofile\u001b[0m\u001b[0;34m,\u001b[0m \u001b[0;34m**\u001b[0m\u001b[0msettings\u001b[0m\u001b[0;34m)\u001b[0m\u001b[0;34m\u001b[0m\u001b[0;34m\u001b[0m\u001b[0m\n\u001b[0m\u001b[1;32m    378\u001b[0m         \u001b[0;32mreturn\u001b[0m \u001b[0mgs\u001b[0m\u001b[0;34m[\u001b[0m\u001b[0mname\u001b[0m\u001b[0;34m]\u001b[0m\u001b[0;34m\u001b[0m\u001b[0;34m\u001b[0m\u001b[0m\n\u001b[1;32m    379\u001b[0m \u001b[0;34m\u001b[0m\u001b[0m\n",
      "\u001b[0;32m~/opt/anaconda3/lib/python3.7/site-packages/py2neo/database/__init__.py\u001b[0m in \u001b[0;36m__new__\u001b[0;34m(cls, profile, **settings)\u001b[0m\n\u001b[1;32m    197\u001b[0m                 \u001b[0;34m\"max_age\"\u001b[0m\u001b[0;34m:\u001b[0m \u001b[0msettings\u001b[0m\u001b[0;34m.\u001b[0m\u001b[0mget\u001b[0m\u001b[0;34m(\u001b[0m\u001b[0;34m\"max_age\"\u001b[0m\u001b[0;34m)\u001b[0m\u001b[0;34m,\u001b[0m\u001b[0;34m\u001b[0m\u001b[0;34m\u001b[0m\u001b[0m\n\u001b[1;32m    198\u001b[0m             }\n\u001b[0;32m--> 199\u001b[0;31m             \u001b[0minst\u001b[0m\u001b[0;34m.\u001b[0m\u001b[0m_connector\u001b[0m \u001b[0;34m=\u001b[0m \u001b[0mConnector\u001b[0m\u001b[0;34m.\u001b[0m\u001b[0mopen\u001b[0m\u001b[0;34m(\u001b[0m\u001b[0mprofile\u001b[0m\u001b[0;34m,\u001b[0m \u001b[0;34m**\u001b[0m\u001b[0mconnector_settings\u001b[0m\u001b[0;34m)\u001b[0m\u001b[0;34m\u001b[0m\u001b[0;34m\u001b[0m\u001b[0m\n\u001b[0m\u001b[1;32m    200\u001b[0m             \u001b[0minst\u001b[0m\u001b[0;34m.\u001b[0m\u001b[0m_graphs\u001b[0m \u001b[0;34m=\u001b[0m \u001b[0;34m{\u001b[0m\u001b[0;34m}\u001b[0m\u001b[0;34m\u001b[0m\u001b[0;34m\u001b[0m\u001b[0m\n\u001b[1;32m    201\u001b[0m             \u001b[0mcls\u001b[0m\u001b[0;34m.\u001b[0m\u001b[0m_instances\u001b[0m\u001b[0;34m[\u001b[0m\u001b[0mprofile\u001b[0m\u001b[0;34m]\u001b[0m \u001b[0;34m=\u001b[0m \u001b[0minst\u001b[0m\u001b[0;34m\u001b[0m\u001b[0;34m\u001b[0m\u001b[0m\n",
      "\u001b[0;32m~/opt/anaconda3/lib/python3.7/site-packages/py2neo/client/__init__.py\u001b[0m in \u001b[0;36mopen\u001b[0;34m(cls, profile, user_agent, init_size, max_size, max_age)\u001b[0m\n\u001b[1;32m    800\u001b[0m             \u001b[0mconnector\u001b[0m\u001b[0;34m\u001b[0m\u001b[0;34m\u001b[0m\u001b[0m\n\u001b[1;32m    801\u001b[0m         \"\"\"\n\u001b[0;32m--> 802\u001b[0;31m         \u001b[0;32mreturn\u001b[0m \u001b[0mcls\u001b[0m\u001b[0;34m(\u001b[0m\u001b[0mprofile\u001b[0m\u001b[0;34m,\u001b[0m \u001b[0muser_agent\u001b[0m\u001b[0;34m,\u001b[0m \u001b[0minit_size\u001b[0m\u001b[0;34m,\u001b[0m \u001b[0mmax_size\u001b[0m\u001b[0;34m,\u001b[0m \u001b[0mmax_age\u001b[0m\u001b[0;34m)\u001b[0m\u001b[0;34m\u001b[0m\u001b[0;34m\u001b[0m\u001b[0m\n\u001b[0m\u001b[1;32m    803\u001b[0m \u001b[0;34m\u001b[0m\u001b[0m\n\u001b[1;32m    804\u001b[0m     \u001b[0;32mdef\u001b[0m \u001b[0m__init__\u001b[0m\u001b[0;34m(\u001b[0m\u001b[0mself\u001b[0m\u001b[0;34m,\u001b[0m \u001b[0mprofile\u001b[0m\u001b[0;34m,\u001b[0m \u001b[0muser_agent\u001b[0m\u001b[0;34m,\u001b[0m \u001b[0minit_size\u001b[0m\u001b[0;34m,\u001b[0m \u001b[0mmax_size\u001b[0m\u001b[0;34m,\u001b[0m \u001b[0mmax_age\u001b[0m\u001b[0;34m)\u001b[0m\u001b[0;34m:\u001b[0m\u001b[0;34m\u001b[0m\u001b[0;34m\u001b[0m\u001b[0m\n",
      "\u001b[0;32m~/opt/anaconda3/lib/python3.7/site-packages/py2neo/client/__init__.py\u001b[0m in \u001b[0;36m__init__\u001b[0;34m(self, profile, user_agent, init_size, max_size, max_age)\u001b[0m\n\u001b[1;32m    806\u001b[0m             \u001b[0mprofile\u001b[0m\u001b[0;34m,\u001b[0m \u001b[0muser_agent\u001b[0m\u001b[0;34m,\u001b[0m \u001b[0minit_size\u001b[0m\u001b[0;34m,\u001b[0m \u001b[0mmax_size\u001b[0m\u001b[0;34m,\u001b[0m \u001b[0mmax_age\u001b[0m\u001b[0;34m,\u001b[0m\u001b[0;34m\u001b[0m\u001b[0;34m\u001b[0m\u001b[0m\n\u001b[1;32m    807\u001b[0m             \u001b[0mon_bind\u001b[0m\u001b[0;34m=\u001b[0m\u001b[0mself\u001b[0m\u001b[0;34m.\u001b[0m\u001b[0m_bind_connection\u001b[0m\u001b[0;34m,\u001b[0m\u001b[0;34m\u001b[0m\u001b[0;34m\u001b[0m\u001b[0m\n\u001b[0;32m--> 808\u001b[0;31m             on_unbind=self._unbind_connection)\n\u001b[0m\u001b[1;32m    809\u001b[0m         \u001b[0mself\u001b[0m\u001b[0;34m.\u001b[0m\u001b[0m_transactions\u001b[0m \u001b[0;34m=\u001b[0m \u001b[0;34m{\u001b[0m\u001b[0;34m}\u001b[0m\u001b[0;34m\u001b[0m\u001b[0;34m\u001b[0m\u001b[0m\n\u001b[1;32m    810\u001b[0m \u001b[0;34m\u001b[0m\u001b[0m\n",
      "\u001b[0;32m~/opt/anaconda3/lib/python3.7/site-packages/py2neo/client/__init__.py\u001b[0m in \u001b[0;36mopen\u001b[0;34m(cls, profile, user_agent, init_size, max_size, max_age, on_bind, on_unbind)\u001b[0m\n\u001b[1;32m    366\u001b[0m         \"\"\"\n\u001b[1;32m    367\u001b[0m         \u001b[0mpool\u001b[0m \u001b[0;34m=\u001b[0m \u001b[0mcls\u001b[0m\u001b[0;34m(\u001b[0m\u001b[0mprofile\u001b[0m\u001b[0;34m,\u001b[0m \u001b[0muser_agent\u001b[0m\u001b[0;34m,\u001b[0m \u001b[0mmax_size\u001b[0m\u001b[0;34m,\u001b[0m \u001b[0mmax_age\u001b[0m\u001b[0;34m,\u001b[0m \u001b[0mon_bind\u001b[0m\u001b[0;34m,\u001b[0m \u001b[0mon_unbind\u001b[0m\u001b[0;34m)\u001b[0m\u001b[0;34m\u001b[0m\u001b[0;34m\u001b[0m\u001b[0m\n\u001b[0;32m--> 368\u001b[0;31m         \u001b[0mseeds\u001b[0m \u001b[0;34m=\u001b[0m \u001b[0;34m[\u001b[0m\u001b[0mpool\u001b[0m\u001b[0;34m.\u001b[0m\u001b[0macquire\u001b[0m\u001b[0;34m(\u001b[0m\u001b[0;34m)\u001b[0m \u001b[0;32mfor\u001b[0m \u001b[0m_\u001b[0m \u001b[0;32min\u001b[0m \u001b[0mrange\u001b[0m\u001b[0;34m(\u001b[0m\u001b[0minit_size\u001b[0m \u001b[0;32mor\u001b[0m \u001b[0mcls\u001b[0m\u001b[0;34m.\u001b[0m\u001b[0mdefault_init_size\u001b[0m\u001b[0;34m)\u001b[0m\u001b[0;34m]\u001b[0m\u001b[0;34m\u001b[0m\u001b[0;34m\u001b[0m\u001b[0m\n\u001b[0m\u001b[1;32m    369\u001b[0m         \u001b[0;32mfor\u001b[0m \u001b[0mseed\u001b[0m \u001b[0;32min\u001b[0m \u001b[0mseeds\u001b[0m\u001b[0;34m:\u001b[0m\u001b[0;34m\u001b[0m\u001b[0;34m\u001b[0m\u001b[0m\n\u001b[1;32m    370\u001b[0m             \u001b[0mseed\u001b[0m\u001b[0;34m.\u001b[0m\u001b[0mrelease\u001b[0m\u001b[0;34m(\u001b[0m\u001b[0;34m)\u001b[0m\u001b[0;34m\u001b[0m\u001b[0;34m\u001b[0m\u001b[0m\n",
      "\u001b[0;32m~/opt/anaconda3/lib/python3.7/site-packages/py2neo/client/__init__.py\u001b[0m in \u001b[0;36m<listcomp>\u001b[0;34m(.0)\u001b[0m\n\u001b[1;32m    366\u001b[0m         \"\"\"\n\u001b[1;32m    367\u001b[0m         \u001b[0mpool\u001b[0m \u001b[0;34m=\u001b[0m \u001b[0mcls\u001b[0m\u001b[0;34m(\u001b[0m\u001b[0mprofile\u001b[0m\u001b[0;34m,\u001b[0m \u001b[0muser_agent\u001b[0m\u001b[0;34m,\u001b[0m \u001b[0mmax_size\u001b[0m\u001b[0;34m,\u001b[0m \u001b[0mmax_age\u001b[0m\u001b[0;34m,\u001b[0m \u001b[0mon_bind\u001b[0m\u001b[0;34m,\u001b[0m \u001b[0mon_unbind\u001b[0m\u001b[0;34m)\u001b[0m\u001b[0;34m\u001b[0m\u001b[0;34m\u001b[0m\u001b[0m\n\u001b[0;32m--> 368\u001b[0;31m         \u001b[0mseeds\u001b[0m \u001b[0;34m=\u001b[0m \u001b[0;34m[\u001b[0m\u001b[0mpool\u001b[0m\u001b[0;34m.\u001b[0m\u001b[0macquire\u001b[0m\u001b[0;34m(\u001b[0m\u001b[0;34m)\u001b[0m \u001b[0;32mfor\u001b[0m \u001b[0m_\u001b[0m \u001b[0;32min\u001b[0m \u001b[0mrange\u001b[0m\u001b[0;34m(\u001b[0m\u001b[0minit_size\u001b[0m \u001b[0;32mor\u001b[0m \u001b[0mcls\u001b[0m\u001b[0;34m.\u001b[0m\u001b[0mdefault_init_size\u001b[0m\u001b[0;34m)\u001b[0m\u001b[0;34m]\u001b[0m\u001b[0;34m\u001b[0m\u001b[0;34m\u001b[0m\u001b[0m\n\u001b[0m\u001b[1;32m    369\u001b[0m         \u001b[0;32mfor\u001b[0m \u001b[0mseed\u001b[0m \u001b[0;32min\u001b[0m \u001b[0mseeds\u001b[0m\u001b[0;34m:\u001b[0m\u001b[0;34m\u001b[0m\u001b[0;34m\u001b[0m\u001b[0m\n\u001b[1;32m    370\u001b[0m             \u001b[0mseed\u001b[0m\u001b[0;34m.\u001b[0m\u001b[0mrelease\u001b[0m\u001b[0;34m(\u001b[0m\u001b[0;34m)\u001b[0m\u001b[0;34m\u001b[0m\u001b[0;34m\u001b[0m\u001b[0m\n",
      "\u001b[0;32m~/opt/anaconda3/lib/python3.7/site-packages/py2neo/client/__init__.py\u001b[0m in \u001b[0;36macquire\u001b[0;34m(self, graph_name, readonly, timeout, force_reset)\u001b[0m\n\u001b[1;32m    522\u001b[0m                     cx = Connection.open(self.profile, user_agent=self.user_agent,\n\u001b[1;32m    523\u001b[0m                                          \u001b[0mon_bind\u001b[0m\u001b[0;34m=\u001b[0m\u001b[0mself\u001b[0m\u001b[0;34m.\u001b[0m\u001b[0m_on_bind\u001b[0m\u001b[0;34m,\u001b[0m \u001b[0mon_unbind\u001b[0m\u001b[0;34m=\u001b[0m\u001b[0mself\u001b[0m\u001b[0;34m.\u001b[0m\u001b[0m_on_unbind\u001b[0m\u001b[0;34m,\u001b[0m\u001b[0;34m\u001b[0m\u001b[0;34m\u001b[0m\u001b[0m\n\u001b[0;32m--> 524\u001b[0;31m                                          on_release=lambda c: self.release(c))\n\u001b[0m\u001b[1;32m    525\u001b[0m                     \u001b[0;32mif\u001b[0m \u001b[0mcx\u001b[0m\u001b[0;34m.\u001b[0m\u001b[0msupports_multi\u001b[0m\u001b[0;34m(\u001b[0m\u001b[0;34m)\u001b[0m\u001b[0;34m:\u001b[0m\u001b[0;34m\u001b[0m\u001b[0;34m\u001b[0m\u001b[0m\n\u001b[1;32m    526\u001b[0m                         \u001b[0mself\u001b[0m\u001b[0;34m.\u001b[0m\u001b[0m_supports_multi\u001b[0m \u001b[0;34m=\u001b[0m \u001b[0;32mTrue\u001b[0m\u001b[0;34m\u001b[0m\u001b[0;34m\u001b[0m\u001b[0m\n",
      "\u001b[0;32m~/opt/anaconda3/lib/python3.7/site-packages/py2neo/client/__init__.py\u001b[0m in \u001b[0;36mopen\u001b[0;34m(cls, profile, user_agent, on_bind, on_unbind, on_release)\u001b[0m\n\u001b[1;32m     97\u001b[0m             \u001b[0;32mfrom\u001b[0m \u001b[0mpy2neo\u001b[0m\u001b[0;34m.\u001b[0m\u001b[0mclient\u001b[0m\u001b[0;34m.\u001b[0m\u001b[0mbolt\u001b[0m \u001b[0;32mimport\u001b[0m \u001b[0mBolt\u001b[0m\u001b[0;34m\u001b[0m\u001b[0;34m\u001b[0m\u001b[0m\n\u001b[1;32m     98\u001b[0m             return Bolt.open(profile, user_agent=user_agent,\n\u001b[0;32m---> 99\u001b[0;31m                              on_bind=on_bind, on_unbind=on_unbind, on_release=on_release)\n\u001b[0m\u001b[1;32m    100\u001b[0m         \u001b[0;32melif\u001b[0m \u001b[0mprofile\u001b[0m\u001b[0;34m.\u001b[0m\u001b[0mprotocol\u001b[0m \u001b[0;34m==\u001b[0m \u001b[0;34m\"http\"\u001b[0m\u001b[0;34m:\u001b[0m\u001b[0;34m\u001b[0m\u001b[0;34m\u001b[0m\u001b[0m\n\u001b[1;32m    101\u001b[0m             \u001b[0;32mfrom\u001b[0m \u001b[0mpy2neo\u001b[0m\u001b[0;34m.\u001b[0m\u001b[0mclient\u001b[0m\u001b[0;34m.\u001b[0m\u001b[0mhttp\u001b[0m \u001b[0;32mimport\u001b[0m \u001b[0mHTTP\u001b[0m\u001b[0;34m\u001b[0m\u001b[0;34m\u001b[0m\u001b[0m\n",
      "\u001b[0;32m~/opt/anaconda3/lib/python3.7/site-packages/py2neo/client/bolt.py\u001b[0m in \u001b[0;36mopen\u001b[0;34m(cls, profile, user_agent, on_bind, on_unbind, on_release)\u001b[0m\n\u001b[1;32m    109\u001b[0m         \u001b[0;34m:\u001b[0m\u001b[0mparam\u001b[0m \u001b[0mon_release\u001b[0m\u001b[0;34m:\u001b[0m\u001b[0;34m\u001b[0m\u001b[0;34m\u001b[0m\u001b[0m\n\u001b[1;32m    110\u001b[0m         \"\"\"\n\u001b[0;32m--> 111\u001b[0;31m         \u001b[0mwire\u001b[0m \u001b[0;34m=\u001b[0m \u001b[0mcls\u001b[0m\u001b[0;34m.\u001b[0m\u001b[0m_connect\u001b[0m\u001b[0;34m(\u001b[0m\u001b[0mprofile\u001b[0m\u001b[0;34m)\u001b[0m\u001b[0;34m\u001b[0m\u001b[0;34m\u001b[0m\u001b[0m\n\u001b[0m\u001b[1;32m    112\u001b[0m         \u001b[0mprotocol_version\u001b[0m \u001b[0;34m=\u001b[0m \u001b[0mcls\u001b[0m\u001b[0;34m.\u001b[0m\u001b[0m_handshake\u001b[0m\u001b[0;34m(\u001b[0m\u001b[0mwire\u001b[0m\u001b[0;34m)\u001b[0m\u001b[0;34m\u001b[0m\u001b[0;34m\u001b[0m\u001b[0m\n\u001b[1;32m    113\u001b[0m         \u001b[0msubclass\u001b[0m \u001b[0;34m=\u001b[0m \u001b[0mcls\u001b[0m\u001b[0;34m.\u001b[0m\u001b[0m_get_subclass\u001b[0m\u001b[0;34m(\u001b[0m\u001b[0mprotocol_version\u001b[0m\u001b[0;34m)\u001b[0m\u001b[0;34m\u001b[0m\u001b[0;34m\u001b[0m\u001b[0m\n",
      "\u001b[0;32m~/opt/anaconda3/lib/python3.7/site-packages/py2neo/client/bolt.py\u001b[0m in \u001b[0;36m_connect\u001b[0;34m(cls, profile)\u001b[0m\n\u001b[1;32m    123\u001b[0m     \u001b[0;32mdef\u001b[0m \u001b[0m_connect\u001b[0m\u001b[0;34m(\u001b[0m\u001b[0mcls\u001b[0m\u001b[0;34m,\u001b[0m \u001b[0mprofile\u001b[0m\u001b[0;34m)\u001b[0m\u001b[0;34m:\u001b[0m\u001b[0;34m\u001b[0m\u001b[0;34m\u001b[0m\u001b[0m\n\u001b[1;32m    124\u001b[0m         \u001b[0mlog\u001b[0m\u001b[0;34m.\u001b[0m\u001b[0mdebug\u001b[0m\u001b[0;34m(\u001b[0m\u001b[0;34m\"[#%04X] C: (Dialing <%s>)\"\u001b[0m\u001b[0;34m,\u001b[0m \u001b[0;36m0\u001b[0m\u001b[0;34m,\u001b[0m \u001b[0mprofile\u001b[0m\u001b[0;34m.\u001b[0m\u001b[0maddress\u001b[0m\u001b[0;34m)\u001b[0m\u001b[0;34m\u001b[0m\u001b[0;34m\u001b[0m\u001b[0m\n\u001b[0;32m--> 125\u001b[0;31m         \u001b[0mwire\u001b[0m \u001b[0;34m=\u001b[0m \u001b[0mWire\u001b[0m\u001b[0;34m.\u001b[0m\u001b[0mopen\u001b[0m\u001b[0;34m(\u001b[0m\u001b[0mprofile\u001b[0m\u001b[0;34m.\u001b[0m\u001b[0maddress\u001b[0m\u001b[0;34m,\u001b[0m \u001b[0mkeep_alive\u001b[0m\u001b[0;34m=\u001b[0m\u001b[0;32mTrue\u001b[0m\u001b[0;34m)\u001b[0m\u001b[0;34m\u001b[0m\u001b[0;34m\u001b[0m\u001b[0m\n\u001b[0m\u001b[1;32m    126\u001b[0m         \u001b[0mlocal_port\u001b[0m \u001b[0;34m=\u001b[0m \u001b[0mwire\u001b[0m\u001b[0;34m.\u001b[0m\u001b[0mlocal_address\u001b[0m\u001b[0;34m.\u001b[0m\u001b[0mport_number\u001b[0m\u001b[0;34m\u001b[0m\u001b[0;34m\u001b[0m\u001b[0m\n\u001b[1;32m    127\u001b[0m         \u001b[0mlog\u001b[0m\u001b[0;34m.\u001b[0m\u001b[0mdebug\u001b[0m\u001b[0;34m(\u001b[0m\u001b[0;34m\"[#%04X] S: (Accepted)\"\u001b[0m\u001b[0;34m,\u001b[0m \u001b[0mlocal_port\u001b[0m\u001b[0;34m)\u001b[0m\u001b[0;34m\u001b[0m\u001b[0;34m\u001b[0m\u001b[0m\n",
      "\u001b[0;32m~/opt/anaconda3/lib/python3.7/site-packages/py2neo/wiring.py\u001b[0m in \u001b[0;36mopen\u001b[0;34m(cls, address, timeout, keep_alive)\u001b[0m\n\u001b[1;32m    151\u001b[0m             \u001b[0ms\u001b[0m\u001b[0;34m.\u001b[0m\u001b[0msetsockopt\u001b[0m\u001b[0;34m(\u001b[0m\u001b[0mSOL_SOCKET\u001b[0m\u001b[0;34m,\u001b[0m \u001b[0mSO_KEEPALIVE\u001b[0m\u001b[0;34m,\u001b[0m \u001b[0;36m1\u001b[0m\u001b[0;34m)\u001b[0m\u001b[0;34m\u001b[0m\u001b[0;34m\u001b[0m\u001b[0m\n\u001b[1;32m    152\u001b[0m         \u001b[0ms\u001b[0m\u001b[0;34m.\u001b[0m\u001b[0msettimeout\u001b[0m\u001b[0;34m(\u001b[0m\u001b[0mtimeout\u001b[0m\u001b[0;34m)\u001b[0m\u001b[0;34m\u001b[0m\u001b[0;34m\u001b[0m\u001b[0m\n\u001b[0;32m--> 153\u001b[0;31m         \u001b[0ms\u001b[0m\u001b[0;34m.\u001b[0m\u001b[0mconnect\u001b[0m\u001b[0;34m(\u001b[0m\u001b[0maddress\u001b[0m\u001b[0;34m)\u001b[0m\u001b[0;34m\u001b[0m\u001b[0;34m\u001b[0m\u001b[0m\n\u001b[0m\u001b[1;32m    154\u001b[0m         \u001b[0;32mreturn\u001b[0m \u001b[0mcls\u001b[0m\u001b[0;34m(\u001b[0m\u001b[0ms\u001b[0m\u001b[0;34m)\u001b[0m\u001b[0;34m\u001b[0m\u001b[0;34m\u001b[0m\u001b[0m\n\u001b[1;32m    155\u001b[0m \u001b[0;34m\u001b[0m\u001b[0m\n",
      "\u001b[0;31mConnectionRefusedError\u001b[0m: [Errno 61] Connection refused"
     ]
    }
   ],
   "source": [
    "neo4j_graph = Graph() # requires setup of graph database and password before instantiating graph object"
   ]
  }
 ],
 "metadata": {
  "kernelspec": {
   "display_name": "Python 3",
   "language": "python",
   "name": "python3"
  },
  "language_info": {
   "codemirror_mode": {
    "name": "ipython",
    "version": 3
   },
   "file_extension": ".py",
   "mimetype": "text/x-python",
   "name": "python",
   "nbconvert_exporter": "python",
   "pygments_lexer": "ipython3",
   "version": "3.7.6"
  }
 },
 "nbformat": 4,
 "nbformat_minor": 2
}
